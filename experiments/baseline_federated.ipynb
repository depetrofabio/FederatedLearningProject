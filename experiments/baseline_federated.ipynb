{
  "cells": [
    {
      "cell_type": "code",
      "execution_count": 3,
      "metadata": {
        "colab": {
          "base_uri": "https://localhost:8080/"
        },
        "id": "eI5ZodfKi0Tv",
        "outputId": "975103e9-1859-49b5-c3a1-adba09620172"
      },
      "outputs": [
        {
          "output_type": "stream",
          "name": "stdout",
          "text": [
            "Mounted at /content/drive\n"
          ]
        }
      ],
      "source": [
        "import numpy as np\n",
        "import wandb\n",
        "from google.colab import drive\n",
        "drive.mount('/content/drive', force_remount=True)\n",
        "import shutil\n",
        "import os                              # Import the 'os' module for changing directories\n",
        "os.chdir('/content/drive/MyDrive/FL')  # Change the directory"
      ]
    },
    {
      "cell_type": "code",
      "execution_count": 4,
      "metadata": {
        "id": "o1GvZJCli0Ty"
      },
      "outputs": [],
      "source": [
        "import torch\n",
        "import torch.optim as optim\n",
        "import torch.nn as nn\n",
        "import torchvision\n",
        "from torchvision import transforms\n",
        "from torchvision.datasets import CIFAR100\n",
        "from torch.utils.data import Subset, DataLoader, random_split\n",
        "\n",
        "from FederatedLearningProject.data.cifar100_loader import get_cifar100\n",
        "import FederatedLearningProject.checkpoints.checkpointing as checkpointing\n",
        "from FederatedLearningProject.training.FL_training import train_server\n",
        "from FederatedLearningProject.experiments import models"
      ]
    },
    {
      "cell_type": "code",
      "execution_count": 5,
      "metadata": {
        "colab": {
          "base_uri": "https://localhost:8080/",
          "height": 187
        },
        "id": "nYj7zXB0i0Tz",
        "outputId": "090e02e3-5683-4a4a-e3b8-c6bc78bf1d2f"
      },
      "outputs": [
        {
          "output_type": "display_data",
          "data": {
            "text/plain": [
              "<IPython.core.display.Javascript object>"
            ],
            "application/javascript": [
              "\n",
              "        window._wandbApiKey = new Promise((resolve, reject) => {\n",
              "            function loadScript(url) {\n",
              "            return new Promise(function(resolve, reject) {\n",
              "                let newScript = document.createElement(\"script\");\n",
              "                newScript.onerror = reject;\n",
              "                newScript.onload = resolve;\n",
              "                document.body.appendChild(newScript);\n",
              "                newScript.src = url;\n",
              "            });\n",
              "            }\n",
              "            loadScript(\"https://cdn.jsdelivr.net/npm/postmate/build/postmate.min.js\").then(() => {\n",
              "            const iframe = document.createElement('iframe')\n",
              "            iframe.style.cssText = \"width:0;height:0;border:none\"\n",
              "            document.body.appendChild(iframe)\n",
              "            const handshake = new Postmate({\n",
              "                container: iframe,\n",
              "                url: 'https://wandb.ai/authorize'\n",
              "            });\n",
              "            const timeout = setTimeout(() => reject(\"Couldn't auto authenticate\"), 5000)\n",
              "            handshake.then(function(child) {\n",
              "                child.on('authorize', data => {\n",
              "                    clearTimeout(timeout)\n",
              "                    resolve(data)\n",
              "                });\n",
              "            });\n",
              "            })\n",
              "        });\n",
              "    "
            ]
          },
          "metadata": {}
        },
        {
          "output_type": "stream",
          "name": "stderr",
          "text": [
            "\u001b[34m\u001b[1mwandb\u001b[0m: Logging into wandb.ai. (Learn how to deploy a W&B server locally: https://wandb.me/wandb-server)\n",
            "\u001b[34m\u001b[1mwandb\u001b[0m: You can find your API key in your browser here: https://wandb.ai/authorize\n",
            "wandb: Paste an API key from your profile and hit enter:"
          ]
        },
        {
          "name": "stdout",
          "output_type": "stream",
          "text": [
            " ··········\n"
          ]
        },
        {
          "output_type": "stream",
          "name": "stderr",
          "text": [
            "\u001b[34m\u001b[1mwandb\u001b[0m: \u001b[33mWARNING\u001b[0m If you're specifying your api key in code, ensure this code is not shared publicly.\n",
            "\u001b[34m\u001b[1mwandb\u001b[0m: \u001b[33mWARNING\u001b[0m Consider setting the WANDB_API_KEY environment variable, or running `wandb login` from the command line.\n",
            "\u001b[34m\u001b[1mwandb\u001b[0m: No netrc file found, creating one.\n",
            "\u001b[34m\u001b[1mwandb\u001b[0m: Appending key for api.wandb.ai to your netrc file: /root/.netrc\n",
            "\u001b[34m\u001b[1mwandb\u001b[0m: Currently logged in as: \u001b[33mdepetrofabio\u001b[0m (\u001b[33mdepetrofabio-politecnico-di-torino\u001b[0m) to \u001b[32mhttps://api.wandb.ai\u001b[0m. Use \u001b[1m`wandb login --relogin`\u001b[0m to force relogin\n"
          ]
        },
        {
          "output_type": "execute_result",
          "data": {
            "text/plain": [
              "True"
            ]
          },
          "metadata": {},
          "execution_count": 5
        }
      ],
      "source": [
        "wandb.login() # Ask for your APIw key for logging in to the wandb library."
      ]
    },
    {
      "cell_type": "code",
      "execution_count": 9,
      "metadata": {
        "colab": {
          "base_uri": "https://localhost:8080/"
        },
        "id": "xzF7Eu1Di0Tz",
        "outputId": "f07369fa-4dc7-4079-eaef-bffae78fa576"
      },
      "outputs": [
        {
          "output_type": "stream",
          "name": "stdout",
          "text": [
            "Number of images in Training Set:   40000\n",
            "Number of images in Validation Set: 10000\n",
            "Number of images in Test Set:       10000\n",
            "✅ Datasets loaded successfully\n"
          ]
        }
      ],
      "source": [
        "# Import CIFAR100 dataset: train_set, val_set, test_set\n",
        "# The transforms are applied before returning the dataset (in the module)\n",
        "\n",
        "valid_split_perc = 0.2  # of the 50000 training data\n",
        "train_set, val_set, test_set = get_cifar100(valid_split_perc=valid_split_perc)\n",
        "# batch_size è in hyperparameter (64, 128, ..), anche num_workers (consigliato per colab 2 o 4)\n",
        "\n",
        "train_loader = DataLoader(train_set, batch_size=64, shuffle=True, num_workers=2)\n",
        "val_loader = DataLoader(val_set, batch_size=64, shuffle=True, num_workers=2)\n",
        "test_loader = DataLoader(test_set, batch_size=64, shuffle=False, num_workers=2)"
      ]
    },
    {
      "cell_type": "code",
      "execution_count": 10,
      "metadata": {
        "colab": {
          "base_uri": "https://localhost:8080/"
        },
        "id": "YIEZCeBqdzoW",
        "outputId": "5ff87dad-72d3-4d2e-9026-c810cf91c800"
      },
      "outputs": [
        {
          "output_type": "stream",
          "name": "stderr",
          "text": [
            "Downloading: \"https://github.com/facebookresearch/dino/zipball/main\" to /root/.cache/torch/hub/main.zip\n",
            "Downloading: \"https://dl.fbaipublicfiles.com/dino/dino_deitsmall16_pretrain/dino_deitsmall16_pretrain.pth\" to /root/.cache/torch/hub/checkpoints/dino_deitsmall16_pretrain.pth\n",
            "100%|██████████| 82.7M/82.7M [00:00<00:00, 293MB/s]\n"
          ]
        }
      ],
      "source": [
        "model = models.LinearFlexibleDino(num_layers_to_freeze=12) # num_layers_to_freeze"
      ]
    },
    {
      "cell_type": "code",
      "source": [
        "model.debug()"
      ],
      "metadata": {
        "id": "AeTVfUPweV-g"
      },
      "execution_count": null,
      "outputs": []
    },
    {
      "cell_type": "code",
      "source": [
        "model.to_cuda()"
      ],
      "metadata": {
        "colab": {
          "base_uri": "https://localhost:8080/"
        },
        "id": "ruFmUTTJPpfm",
        "outputId": "38550e1f-df08-413d-cbe8-ebf49e202b23"
      },
      "execution_count": null,
      "outputs": [
        {
          "output_type": "stream",
          "name": "stdout",
          "text": [
            "moving model to cuda\n"
          ]
        }
      ]
    },
    {
      "cell_type": "markdown",
      "metadata": {
        "id": "0irRZ7_ci0T1"
      },
      "source": [
        "## FedAvg Hyperparameters\n",
        "\n",
        "\n",
        "The Federated Averaging (FedAvg) algorithm involves several important hyperparameters that influence the performance and efficiency of training. Below is a detailed description of each:\n",
        "\n",
        "- **`num_clients (K)`**  \n",
        "  Total number of clients (or devices) participating in the federated learning system.  \n",
        "  Example: `num_clients = 100`\n",
        "\n",
        "- **`fraction (C)`**  \n",
        "  The fraction of clients selected to participate in each communication round. Must be a float between 0 and 1.  \n",
        "  Example: `fraction = 0.1` means 10% of clients are selected in each round.\n",
        "\n",
        "- **`local_epochs (E)`**  \n",
        "  Number of local training epochs each selected client performs before sending updates back to the server.  \n",
        "  Example: `local_epochs = 5`.\n",
        "  Recall that E is in the pseudocode while in the pdf that the professor assigned us is called **J** .\n",
        "\n",
        "  - **`num_rounds`**  \n",
        "  Total number of communication rounds (or global iterations) the server runs to aggregate updates and refine the global model.  \n",
        "  📌 *Example:* `num_rounds = 100`. This is up to us to define based on convergence and time/compute budget.\n",
        "\n",
        "- **Additional Notes:**  \n",
        "  These hyperparameters directly affect convergence speed, communication cost, and model performance.  \n",
        "  - A smaller `C` reduces communication overhead but may slow convergence.  \n",
        "  - A larger `E` can improve local model performance but may lead to model divergence if clients’ data distributions are highly non-IID.\n"
      ]
    },
    {
      "cell_type": "markdown",
      "metadata": {
        "id": "EbO__W7Si0T2"
      },
      "source": [
        "The first FL baseline\n",
        "Implement the algorithm described in [10], fix K=100, C=0.1, adopt an iid sharding of the training set and fix J=4 the number of local steps. Run FedAvg on CIFAR-100 for a proper number of rounds (up to you to define, based on convergence and time/compute budget).\n"
      ]
    },
    {
      "cell_type": "markdown",
      "metadata": {
        "id": "4t1Kr_v1i0T2"
      },
      "source": [
        "# Federated Learning Baseline on CIFAR-100 using FedAvg\n",
        "\n",
        "In this experiment, we aim to implement and evaluate the Federated Averaging (FedAvg) algorithm as described in McMahan et al. [10], using a controlled setup on the CIFAR-100 dataset. This serves as a **baseline FL experiment** with standard hyperparameters for further comparative studies.\n",
        "\n",
        "## 📌 Objectives\n",
        "\n",
        "- Implement the **FedAvg** algorithm.\n",
        "- Use **IID sharding** of CIFAR-100 to simulate a federated setting.\n",
        "- Fix key FL hyperparameters:\n",
        "  - Number of clients (**K**) = 100\n",
        "  - Fraction of participating clients per round (**C**) = 0.1\n",
        "  - Number of local update steps (**J**) = 4\n",
        "- Evaluate performance over a suitable number of communication rounds.\n",
        "\n",
        "## ⚙️ Experiment Configuration\n",
        "\n",
        "| Parameter                  | Value        |\n",
        "|---------------------------|--------------|\n",
        "| Dataset                   | CIFAR-100    |\n",
        "| Model                     | DINO (TBD)   |\n",
        "| Total Clients (K)         | 100          |\n",
        "| Participation Fraction (C)| 0.1 (10 clients/round) |\n",
        "| Local Epochs (J)          | 4            |\n",
        "| Sharding Type             | IID          |\n",
        "| Rounds                    | *TBD based on convergence (e.g., 100–500)* |\n",
        "| Optimizer                 | SGD     |\n",
        "| Learning Rate             | *To be tuned*|\n",
        "\n",
        "## 📊 Notes\n",
        "\n",
        "- **IID sharding** means the training data will be equally and randomly split among clients to avoid any data heterogeneity.\n",
        "- The number of rounds will be chosen based on **observed convergence behavior** and practical time/compute budget constraints.\n",
        "- Performance will be tracked using **validation/test accuracy** and **loss** over communication rounds.\n",
        "\n",
        "## 🧠 Why this setup?\n",
        "\n",
        "This configuration serves as a **standard benchmark** for future comparison with more advanced techniques (e.g., personalization, non-IID setups, compression, or asynchronous training). By fixing `K`, `C`, and `J`, and using IID data, we create a controlled environment to evaluate the basic performance of FedAvg.\n",
        "\n",
        "## 📚 Reference\n",
        "\n",
        "[10] McMahan, Brendan, et al. *Communication-Efficient Learning of Deep Networks from Decentralized Data.* AISTATS 2017.\n"
      ]
    },
    {
      "cell_type": "code",
      "source": [
        "# --- OPTIMIZER AND LOSS FUNCTION ---\n",
        "\n",
        "\n",
        "learning_rate = 0.01  # best hyperparameter of the centralized\n",
        "momentum = 0.9\n",
        "weight_decay = 0.0001 # best hyperparameter of the centralized\n",
        "\n",
        "num_clients = 100\n",
        "\n",
        "# Default hyperparameters for FedAvg\n",
        "num_local_steps = 4 #\n",
        "# num_local_steps = 8 #\n",
        "# num_local_steps = 16 #\n",
        "fraction = 0.1\n",
        "from torch.optim.lr_scheduler import CosineAnnealingLR\n",
        "\n",
        "\"\"\"\n",
        "# Example for differential learning rates:\n",
        "optimizer = torch.optim.AdamW([\n",
        "    {'params': model.backbone.blocks[9:].parameters(), 'lr': 1e-5}, # Adjust block indices if needed\n",
        "    # You might also want to fine-tune backbone.norm if it exists and is not frozen\n",
        "    # {'params': model.backbone.norm.parameters(), 'lr': 1e-5},\n",
        "    {'params': model.classifier.parameters(), 'lr': 1e-4}\n",
        "], weight_decay=0.05) # example weight decay\n",
        "\"\"\"\n",
        "# optimizer = optim.SGD(model.parameters(), lr=learning_rate, momentum=momentum, weight_decay=weight_decay)\n",
        "# Example optimizer instantiation:\n",
        "optimizer = torch.optim.SGD(\n",
        "    model.parameters(),\n",
        "    lr=learning_rate, # Example LR\n",
        "    weight_decay=weight_decay,\n",
        "    momentum=momentum\n",
        ")\n",
        "criterion = nn.CrossEntropyLoss()"
      ],
      "metadata": {
        "id": "4adjcq8efEai"
      },
      "execution_count": 18,
      "outputs": []
    },
    {
      "cell_type": "code",
      "source": [
        "\n",
        "# wandb.init() prepares the tracking of hyperparameters/metrics for later recording performance using wandb.log()\n",
        "\n",
        "\n",
        "\n",
        "# INITIALIZE W&B\n",
        "wandb.init(\n",
        "    project=project_name,\n",
        "    name=run_name,\n",
        "    config={\n",
        "        \"model\": model_name,\n",
        "        \"num_rounds\": num_rounds,\n",
        "        \"batch_size\": train_loader.batch_size,\n",
        "        \"learning_rate\": optimizer.param_groups[0]['lr'],\n",
        "        \"architecture\": model.__class__.__name__,\n",
        "})\n",
        "\n",
        "# Copy your config\n",
        "config = wandb.config\n"
      ],
      "metadata": {
        "colab": {
          "base_uri": "https://localhost:8080/",
          "height": 207
        },
        "id": "nEKnqO6UfHsI",
        "outputId": "f154cfa8-cbf5-4745-f824-8cdee2a7133e",
        "collapsed": true
      },
      "execution_count": 13,
      "outputs": [
        {
          "output_type": "error",
          "ename": "NameError",
          "evalue": "name 'num_rounds' is not defined",
          "traceback": [
            "\u001b[0;31m---------------------------------------------------------------------------\u001b[0m",
            "\u001b[0;31mNameError\u001b[0m                                 Traceback (most recent call last)",
            "\u001b[0;32m/tmp/ipython-input-13-2073119165.py\u001b[0m in \u001b[0;36m<cell line: 0>\u001b[0;34m()\u001b[0m\n\u001b[1;32m     11\u001b[0m     config={\n\u001b[1;32m     12\u001b[0m         \u001b[0;34m\"model\"\u001b[0m\u001b[0;34m:\u001b[0m \u001b[0mmodel_name\u001b[0m\u001b[0;34m,\u001b[0m\u001b[0;34m\u001b[0m\u001b[0;34m\u001b[0m\u001b[0m\n\u001b[0;32m---> 13\u001b[0;31m         \u001b[0;34m\"num_rounds\"\u001b[0m\u001b[0;34m:\u001b[0m \u001b[0mnum_rounds\u001b[0m\u001b[0;34m,\u001b[0m\u001b[0;34m\u001b[0m\u001b[0;34m\u001b[0m\u001b[0m\n\u001b[0m\u001b[1;32m     14\u001b[0m         \u001b[0;34m\"batch_size\"\u001b[0m\u001b[0;34m:\u001b[0m \u001b[0mtrain_loader\u001b[0m\u001b[0;34m.\u001b[0m\u001b[0mbatch_size\u001b[0m\u001b[0;34m,\u001b[0m\u001b[0;34m\u001b[0m\u001b[0;34m\u001b[0m\u001b[0m\n\u001b[1;32m     15\u001b[0m         \u001b[0;34m\"learning_rate\"\u001b[0m\u001b[0;34m:\u001b[0m \u001b[0moptimizer\u001b[0m\u001b[0;34m.\u001b[0m\u001b[0mparam_groups\u001b[0m\u001b[0;34m[\u001b[0m\u001b[0;36m0\u001b[0m\u001b[0;34m]\u001b[0m\u001b[0;34m[\u001b[0m\u001b[0;34m'lr'\u001b[0m\u001b[0;34m]\u001b[0m\u001b[0;34m,\u001b[0m\u001b[0;34m\u001b[0m\u001b[0;34m\u001b[0m\u001b[0m\n",
            "\u001b[0;31mNameError\u001b[0m: name 'num_rounds' is not defined"
          ]
        }
      ]
    },
    {
      "cell_type": "code",
      "source": [
        "#  PERCORSO CHECKPOINT\n",
        "\n",
        "checkpoint_dir = \"/content/drive/MyDrive/FL/FederatedLearningProject/checkpoints/FL/TestFinaliSingleModel\"\n",
        "os.makedirs(checkpoint_dir, exist_ok=True)\n",
        "checkpoint_path = os.path.join(checkpoint_dir, f\"{model_name}_checkpoint.pth\")    # we predefine the name of the file inside the specified folder (dir)\n"
      ],
      "metadata": {
        "id": "6Y28_7dFfOpY"
      },
      "execution_count": null,
      "outputs": []
    },
    {
      "cell_type": "code",
      "source": [
        "# RECOVER CHECKPOINT\n",
        "start_round, model_data = checkpointing.load_checkpoint_fedavg(model, optimizer, checkpoint_dir, model_name=model_name)\n",
        "\n",
        "\n",
        "try:\n",
        "  print()\n",
        "  print(f\"The 'model_data' dictionary contains the following keys: {list(model_data.keys())}\")\n",
        "  model.load_state_dict(model_data[\"model_state_dict\"])\n",
        "  optimizer.load_state_dict(model_data[\"optimizer_state_dict\"])\n",
        "except: None"
      ],
      "metadata": {
        "colab": {
          "base_uri": "https://localhost:8080/"
        },
        "id": "sokst_ZcfOvP",
        "outputId": "44adbfe7-d60f-4c7a-9bd4-b5a6d21e9b0c"
      },
      "execution_count": null,
      "outputs": [
        {
          "output_type": "stream",
          "name": "stdout",
          "text": [
            " Nessun checkpoint trovato, inizio da round 1.\n",
            "\n"
          ]
        }
      ]
    },
    {
      "cell_type": "code",
      "execution_count": null,
      "metadata": {
        "id": "OTstfTJ4i0T3",
        "collapsed": true
      },
      "outputs": [],
      "source": [
        "from FederatedLearningProject.data.cifar100_loader import create_iid_splits\n",
        "client_dataset = create_iid_splits(train_set, num_clients = num_clients)"
      ]
    },
    {
      "cell_type": "code",
      "source": [
        "### --- LOOP FOR FINDING THE OPTIMAL NUM_ROUNDS --- ###\n",
        "device = \"cuda\"\n",
        "model_name = \"dino_vits16_J4\"\n",
        "project_name = \"FederatedProject\"\n",
        "num_rounds_iterations = [200,300,400,500,600]\n",
        "# Loop through different num_rounds values\n",
        "for num_rounds_val in num_rounds_iterations:\n",
        "    # Re-initialize the model for each run to ensure fresh weights (or load a pre-trained one)\n",
        "    # If you want to start from the exact same initial state for each run,\n",
        "    # you might want to save the initial state_dict and load it here.\n",
        "    model = models.LinearFlexibleDino(num_layers_to_freeze=12) # Initialize your actual model here\n",
        "    model.to_cuda()\n",
        "\n",
        "    optimizer = torch.optim.SGD(\n",
        "        model.parameters(),\n",
        "        lr=learning_rate,\n",
        "        weight_decay=weight_decay,\n",
        "        momentum=momentum\n",
        "    )\n",
        "\n",
        "    # Generate a unique run name for each iteration\n",
        "    run_name = f\"{model_name}_rounds_{num_rounds_val}\"\n",
        "\n",
        "    # INITIALIZE W&B for each new run\n",
        "    wandb.init(\n",
        "        project=project_name,\n",
        "        name=run_name,\n",
        "        config={\n",
        "            \"model\": model_name,\n",
        "            \"num_rounds\": num_rounds_val, # Use the current num_rounds_val\n",
        "            \"batch_size\": test_loader.batch_size, # Using test_loader's batch_size as a placeholder\n",
        "            \"learning_rate\": optimizer.param_groups[0]['lr'],\n",
        "            \"weight_decay\": weight_decay,\n",
        "            \"momentum\": momentum,\n",
        "            \"architecture\": model.__class__.__name__,\n",
        "            \"num_local_steps\": num_local_steps,\n",
        "            \"fraction_clients\": fraction,\n",
        "        },\n",
        "        reinit=True # Important: Allows re-initialization of wandb in a loop\n",
        "    )\n",
        "\n",
        "    # Copy your config\n",
        "    config = wandb.config\n",
        "\n",
        "    # PERCORSO CHECKPOINT\n",
        "    checkpoint_dir = \"/content/drive/MyDrive/FL/FederatedLearningProject/checkpoints/FL/\"\n",
        "    os.makedirs(checkpoint_dir, exist_ok=True)\n",
        "    # Make checkpoint path unique to the run if you want to store separate checkpoints\n",
        "    checkpoint_path = os.path.join(checkpoint_dir, f\"{model_name}_rounds_{num_rounds_val}_checkpoint.pth\")\n",
        "\n",
        "    # RECOVER CHECKPOINT (This part remains, but remember it will look for a checkpoint\n",
        "    # specific to the current `model_name` and `num_rounds_val` if you've made the path unique.)\n",
        "    start_round, model_data = checkpointing.load_checkpoint_fedavg(model, optimizer, checkpoint_dir, model_name=f\"{model_name}_rounds_{num_rounds_val}\")\n",
        "\n",
        "    try:\n",
        "      print()\n",
        "      print(f\"The 'model_data' dictionary contains the following keys: {list(model_data.keys())}\")\n",
        "      model.load_state_dict(model_data[\"model_state_dict\"])\n",
        "      optimizer.load_state_dict(model_data[\"optimizer_state_dict\"])\n",
        "    except:\n",
        "        print(\"Could not load model or optimizer state dictionary. Starting from scratch or with default initialization.\")\n",
        "\n",
        "    print(f\"\\n--- Starting training for num_rounds = {num_rounds_val} ---\")\n",
        "    train_server(model=model,\n",
        "                 num_clients=num_clients,\n",
        "                 num_client_steps=num_local_steps,\n",
        "                 num_rounds=num_rounds_val, # Pass the current num_rounds_val\n",
        "                 client_dataset=client_dataset,\n",
        "                 frac=fraction,\n",
        "                 optimizer=optimizer,\n",
        "                 device=device,\n",
        "                 batch_size=64,\n",
        "                 n_rounds_log=10,\n",
        "                 val_loader=val_loader,\n",
        "                 criterion=criterion,\n",
        "                 checkpoint_path=checkpoint_path,\n",
        "                 model_name=f\"{model_name}_rounds_{num_rounds_val}\") # Ensure model_name is unique for checkpointing\n",
        "\n",
        "    # End the current wandb run before starting the next one\n",
        "    wandb.finish()"
      ],
      "metadata": {
        "colab": {
          "base_uri": "https://localhost:8080/",
          "height": 1000
        },
        "id": "CTTDWrKeFE7z",
        "outputId": "7b2f17f0-f0ef-4634-e1ac-3a494f74bb97"
      },
      "execution_count": 22,
      "outputs": [
        {
          "output_type": "stream",
          "name": "stderr",
          "text": [
            "Using cache found in /root/.cache/torch/hub/facebookresearch_dino_main\n"
          ]
        },
        {
          "output_type": "stream",
          "name": "stdout",
          "text": [
            "moving model to cuda\n"
          ]
        },
        {
          "output_type": "display_data",
          "data": {
            "text/plain": [
              "<IPython.core.display.HTML object>"
            ],
            "text/html": [
              "Finishing previous runs because reinit is set to True."
            ]
          },
          "metadata": {}
        },
        {
          "output_type": "display_data",
          "data": {
            "text/plain": [
              "<IPython.core.display.HTML object>"
            ],
            "text/html": []
          },
          "metadata": {}
        },
        {
          "output_type": "display_data",
          "data": {
            "text/plain": [
              "<IPython.core.display.HTML object>"
            ],
            "text/html": [
              "<br>    <style><br>        .wandb-row {<br>            display: flex;<br>            flex-direction: row;<br>            flex-wrap: wrap;<br>            justify-content: flex-start;<br>            width: 100%;<br>        }<br>        .wandb-col {<br>            display: flex;<br>            flex-direction: column;<br>            flex-basis: 100%;<br>            flex: 1;<br>            padding: 10px;<br>        }<br>    </style><br><div class=\"wandb-row\"><div class=\"wandb-col\"><h3>Run history:</h3><br/><table class=\"wandb\"><tr><td>client_avg_accuracy</td><td>▁</td></tr><tr><td>client_avg_loss</td><td>▁</td></tr><tr><td>round</td><td>▁</td></tr><tr><td>server_val_accuracy</td><td>▁</td></tr><tr><td>server_val_loss</td><td>▁</td></tr></table><br/></div><div class=\"wandb-col\"><h3>Run summary:</h3><br/><table class=\"wandb\"><tr><td>client_avg_accuracy</td><td>27.00583</td></tr><tr><td>client_avg_loss</td><td>3.1616</td></tr><tr><td>round</td><td>9</td></tr><tr><td>server_val_accuracy</td><td>29.12</td></tr><tr><td>server_val_loss</td><td>3.13042</td></tr></table><br/></div></div>"
            ]
          },
          "metadata": {}
        },
        {
          "output_type": "display_data",
          "data": {
            "text/plain": [
              "<IPython.core.display.HTML object>"
            ],
            "text/html": [
              " View run <strong style=\"color:#cdcd00\">dino_vits16_J8_250round_rounds_200</strong> at: <a href='https://wandb.ai/depetrofabio-politecnico-di-torino/FederatedProject_single_dino/runs/4e1w6oga' target=\"_blank\">https://wandb.ai/depetrofabio-politecnico-di-torino/FederatedProject_single_dino/runs/4e1w6oga</a><br> View project at: <a href='https://wandb.ai/depetrofabio-politecnico-di-torino/FederatedProject_single_dino' target=\"_blank\">https://wandb.ai/depetrofabio-politecnico-di-torino/FederatedProject_single_dino</a><br>Synced 3 W&B file(s), 0 media file(s), 0 artifact file(s) and 0 other file(s)"
            ]
          },
          "metadata": {}
        },
        {
          "output_type": "display_data",
          "data": {
            "text/plain": [
              "<IPython.core.display.HTML object>"
            ],
            "text/html": [
              "Find logs at: <code>./wandb/run-20250630_134559-4e1w6oga/logs</code>"
            ]
          },
          "metadata": {}
        },
        {
          "output_type": "display_data",
          "data": {
            "text/plain": [
              "<IPython.core.display.HTML object>"
            ],
            "text/html": [
              "Tracking run with wandb version 0.20.1"
            ]
          },
          "metadata": {}
        },
        {
          "output_type": "display_data",
          "data": {
            "text/plain": [
              "<IPython.core.display.HTML object>"
            ],
            "text/html": [
              "Run data is saved locally in <code>/content/drive/MyDrive/FL/wandb/run-20250630_135043-hzyziqg1</code>"
            ]
          },
          "metadata": {}
        },
        {
          "output_type": "display_data",
          "data": {
            "text/plain": [
              "<IPython.core.display.HTML object>"
            ],
            "text/html": [
              "Syncing run <strong><a href='https://wandb.ai/depetrofabio-politecnico-di-torino/FederatedProject/runs/hzyziqg1' target=\"_blank\">dino_vits16_J4_rounds_200</a></strong> to <a href='https://wandb.ai/depetrofabio-politecnico-di-torino/FederatedProject' target=\"_blank\">Weights & Biases</a> (<a href='https://wandb.me/developer-guide' target=\"_blank\">docs</a>)<br>"
            ]
          },
          "metadata": {}
        },
        {
          "output_type": "display_data",
          "data": {
            "text/plain": [
              "<IPython.core.display.HTML object>"
            ],
            "text/html": [
              " View project at <a href='https://wandb.ai/depetrofabio-politecnico-di-torino/FederatedProject' target=\"_blank\">https://wandb.ai/depetrofabio-politecnico-di-torino/FederatedProject</a>"
            ]
          },
          "metadata": {}
        },
        {
          "output_type": "display_data",
          "data": {
            "text/plain": [
              "<IPython.core.display.HTML object>"
            ],
            "text/html": [
              " View run at <a href='https://wandb.ai/depetrofabio-politecnico-di-torino/FederatedProject/runs/hzyziqg1' target=\"_blank\">https://wandb.ai/depetrofabio-politecnico-di-torino/FederatedProject/runs/hzyziqg1</a>"
            ]
          },
          "metadata": {}
        },
        {
          "output_type": "stream",
          "name": "stdout",
          "text": [
            " Nessun checkpoint trovato, inizio da round 1.\n",
            "\n",
            "Could not load model or optimizer state dictionary. Starting from scratch or with default initialization.\n",
            "\n",
            "--- Starting training for num_rounds = 200 ---\n",
            "Checkpoint salvato su: /content/drive/MyDrive/FL/FederatedLearningProject/checkpoints/FL/dino_vits16_J4_rounds_200_checkpoint.pth\n",
            "\n",
            "Round 10/200\n",
            "Selected Clients: [92 33 75 21 41 36  0 46 88 43]\n",
            "Avg Client Loss: 4.2218 | Avg Client Accuracy: 13.20%\n",
            "Evaluation Loss:4.2730 | Val Accuracy: 13.23%\n",
            "--------------------------------------------------\n",
            "Checkpoint salvato su: /content/drive/MyDrive/FL/FederatedLearningProject/checkpoints/FL/dino_vits16_J4_rounds_200_checkpoint.pth\n",
            "\n",
            "Round 20/200\n",
            "Selected Clients: [84 24 22 67 94 16 76 49 50 43]\n",
            "Avg Client Loss: 3.5273 | Avg Client Accuracy: 20.00%\n",
            "Evaluation Loss:3.4841 | Val Accuracy: 22.70%\n",
            "--------------------------------------------------\n",
            "Checkpoint salvato su: /content/drive/MyDrive/FL/FederatedLearningProject/checkpoints/FL/dino_vits16_J4_rounds_200_checkpoint.pth\n",
            "\n",
            "Round 30/200\n",
            "Selected Clients: [42 89 51 69 99 39 40 55 93 36]\n",
            "Avg Client Loss: 3.0841 | Avg Client Accuracy: 25.82%\n",
            "Evaluation Loss:3.1271 | Val Accuracy: 27.93%\n",
            "--------------------------------------------------\n",
            "Checkpoint salvato su: /content/drive/MyDrive/FL/FederatedLearningProject/checkpoints/FL/dino_vits16_J4_rounds_200_checkpoint.pth\n",
            "\n",
            "Round 40/200\n",
            "Selected Clients: [88  6 36 63 66 38 90  5 77 28]\n",
            "Avg Client Loss: 2.9266 | Avg Client Accuracy: 29.18%\n",
            "Evaluation Loss:2.9343 | Val Accuracy: 31.03%\n",
            "--------------------------------------------------\n",
            "Checkpoint salvato su: /content/drive/MyDrive/FL/FederatedLearningProject/checkpoints/FL/dino_vits16_J4_rounds_200_checkpoint.pth\n",
            "\n",
            "Round 50/200\n",
            "Selected Clients: [55 72 42 75 48 37 38 63 96 70]\n",
            "Avg Client Loss: 2.7940 | Avg Client Accuracy: 31.72%\n",
            "Evaluation Loss:2.7792 | Val Accuracy: 33.33%\n",
            "--------------------------------------------------\n",
            "Checkpoint salvato su: /content/drive/MyDrive/FL/FederatedLearningProject/checkpoints/FL/dino_vits16_J4_rounds_200_checkpoint.pth\n",
            "\n",
            "Round 60/200\n",
            "Selected Clients: [39 86 96 10 88 38 95 41 98 65]\n",
            "Avg Client Loss: 2.7358 | Avg Client Accuracy: 31.99%\n",
            "Evaluation Loss:2.6867 | Val Accuracy: 35.10%\n",
            "--------------------------------------------------\n",
            "Checkpoint salvato su: /content/drive/MyDrive/FL/FederatedLearningProject/checkpoints/FL/dino_vits16_J4_rounds_200_checkpoint.pth\n",
            "\n",
            "Round 70/200\n",
            "Selected Clients: [29 61 55 93 48  3 79 54 69 53]\n",
            "Avg Client Loss: 2.6999 | Avg Client Accuracy: 33.52%\n",
            "Evaluation Loss:2.6049 | Val Accuracy: 36.31%\n",
            "--------------------------------------------------\n",
            "Checkpoint salvato su: /content/drive/MyDrive/FL/FederatedLearningProject/checkpoints/FL/dino_vits16_J4_rounds_200_checkpoint.pth\n",
            "\n",
            "Round 80/200\n",
            "Selected Clients: [12 76 11 37 82 23 78 94 28 57]\n",
            "Avg Client Loss: 2.5756 | Avg Client Accuracy: 34.61%\n",
            "Evaluation Loss:2.5541 | Val Accuracy: 37.76%\n",
            "--------------------------------------------------\n",
            "Checkpoint salvato su: /content/drive/MyDrive/FL/FederatedLearningProject/checkpoints/FL/dino_vits16_J4_rounds_200_checkpoint.pth\n",
            "\n",
            "Round 90/200\n",
            "Selected Clients: [48 74 51 34  9 43  4 38 39 30]\n",
            "Avg Client Loss: 2.5240 | Avg Client Accuracy: 37.27%\n",
            "Evaluation Loss:2.5162 | Val Accuracy: 38.30%\n",
            "--------------------------------------------------\n",
            "Checkpoint salvato su: /content/drive/MyDrive/FL/FederatedLearningProject/checkpoints/FL/dino_vits16_J4_rounds_200_checkpoint.pth\n",
            "\n",
            "Round 100/200\n",
            "Selected Clients: [36 90 98 33 47 96 42 95 72 88]\n",
            "Avg Client Loss: 2.4974 | Avg Client Accuracy: 36.80%\n",
            "Evaluation Loss:2.4609 | Val Accuracy: 39.26%\n",
            "--------------------------------------------------\n",
            "Checkpoint salvato su: /content/drive/MyDrive/FL/FederatedLearningProject/checkpoints/FL/dino_vits16_J4_rounds_200_checkpoint.pth\n",
            "\n",
            "Round 110/200\n",
            "Selected Clients: [84 63 40 92 74  1 22 20 29 42]\n",
            "Avg Client Loss: 2.4650 | Avg Client Accuracy: 38.40%\n",
            "Evaluation Loss:2.4169 | Val Accuracy: 39.96%\n",
            "--------------------------------------------------\n",
            "Checkpoint salvato su: /content/drive/MyDrive/FL/FederatedLearningProject/checkpoints/FL/dino_vits16_J4_rounds_200_checkpoint.pth\n",
            "\n",
            "Round 120/200\n",
            "Selected Clients: [21 17 22 55 39 14 25 87 75 26]\n",
            "Avg Client Loss: 2.3835 | Avg Client Accuracy: 39.18%\n",
            "Evaluation Loss:2.3934 | Val Accuracy: 40.73%\n",
            "--------------------------------------------------\n",
            "Checkpoint salvato su: /content/drive/MyDrive/FL/FederatedLearningProject/checkpoints/FL/dino_vits16_J4_rounds_200_checkpoint.pth\n",
            "\n",
            "Round 130/200\n",
            "Selected Clients: [59 43 48 74 20 65  3 29 85 37]\n",
            "Avg Client Loss: 2.3491 | Avg Client Accuracy: 39.65%\n",
            "Evaluation Loss:2.3666 | Val Accuracy: 41.13%\n",
            "--------------------------------------------------\n",
            "Checkpoint salvato su: /content/drive/MyDrive/FL/FederatedLearningProject/checkpoints/FL/dino_vits16_J4_rounds_200_checkpoint.pth\n",
            "\n",
            "Round 140/200\n",
            "Selected Clients: [ 4 59 31 54 81 30 22 19 23 70]\n",
            "Avg Client Loss: 2.4036 | Avg Client Accuracy: 39.53%\n",
            "Evaluation Loss:2.3462 | Val Accuracy: 41.34%\n",
            "--------------------------------------------------\n",
            "Checkpoint salvato su: /content/drive/MyDrive/FL/FederatedLearningProject/checkpoints/FL/dino_vits16_J4_rounds_200_checkpoint.pth\n",
            "\n",
            "Round 150/200\n",
            "Selected Clients: [ 4 42 66 89 17 12 79 21 77 28]\n",
            "Avg Client Loss: 2.4603 | Avg Client Accuracy: 37.62%\n",
            "Evaluation Loss:2.3325 | Val Accuracy: 41.89%\n",
            "--------------------------------------------------\n",
            "Checkpoint salvato su: /content/drive/MyDrive/FL/FederatedLearningProject/checkpoints/FL/dino_vits16_J4_rounds_200_checkpoint.pth\n",
            "\n",
            "Round 160/200\n",
            "Selected Clients: [65 95 89 21 24 83 79 88 54 20]\n",
            "Avg Client Loss: 2.3596 | Avg Client Accuracy: 38.83%\n",
            "Evaluation Loss:2.3096 | Val Accuracy: 42.35%\n",
            "--------------------------------------------------\n",
            "Checkpoint salvato su: /content/drive/MyDrive/FL/FederatedLearningProject/checkpoints/FL/dino_vits16_J4_rounds_200_checkpoint.pth\n",
            "\n",
            "Round 170/200\n",
            "Selected Clients: [88 40 18 58 85 13 61 65 83  0]\n",
            "Avg Client Loss: 2.3197 | Avg Client Accuracy: 41.09%\n",
            "Evaluation Loss:2.2899 | Val Accuracy: 42.65%\n",
            "--------------------------------------------------\n",
            "Checkpoint salvato su: /content/drive/MyDrive/FL/FederatedLearningProject/checkpoints/FL/dino_vits16_J4_rounds_200_checkpoint.pth\n",
            "\n",
            "Round 180/200\n",
            "Selected Clients: [48 85 31 46 96 67 24 69 57 97]\n",
            "Avg Client Loss: 2.3894 | Avg Client Accuracy: 38.59%\n",
            "Evaluation Loss:2.2764 | Val Accuracy: 42.99%\n",
            "--------------------------------------------------\n",
            "Checkpoint salvato su: /content/drive/MyDrive/FL/FederatedLearningProject/checkpoints/FL/dino_vits16_J4_rounds_200_checkpoint.pth\n",
            "\n",
            "Round 190/200\n",
            "Selected Clients: [88 54 81 95 87 60 48 37 52  4]\n",
            "Avg Client Loss: 2.2118 | Avg Client Accuracy: 42.03%\n",
            "Evaluation Loss:2.2736 | Val Accuracy: 43.18%\n",
            "--------------------------------------------------\n",
            "Checkpoint salvato su: /content/drive/MyDrive/FL/FederatedLearningProject/checkpoints/FL/dino_vits16_J4_rounds_200_checkpoint.pth\n",
            "\n",
            "Round 200/200\n",
            "Selected Clients: [79 89 87 28 64 77 29 74 34 73]\n",
            "Avg Client Loss: 2.3296 | Avg Client Accuracy: 41.60%\n",
            "Evaluation Loss:2.2614 | Val Accuracy: 43.68%\n",
            "--------------------------------------------------\n"
          ]
        },
        {
          "output_type": "display_data",
          "data": {
            "text/plain": [
              "<IPython.core.display.HTML object>"
            ],
            "text/html": []
          },
          "metadata": {}
        },
        {
          "output_type": "display_data",
          "data": {
            "text/plain": [
              "<IPython.core.display.HTML object>"
            ],
            "text/html": [
              "<br>    <style><br>        .wandb-row {<br>            display: flex;<br>            flex-direction: row;<br>            flex-wrap: wrap;<br>            justify-content: flex-start;<br>            width: 100%;<br>        }<br>        .wandb-col {<br>            display: flex;<br>            flex-direction: column;<br>            flex-basis: 100%;<br>            flex: 1;<br>            padding: 10px;<br>        }<br>    </style><br><div class=\"wandb-row\"><div class=\"wandb-col\"><h3>Run history:</h3><br/><table class=\"wandb\"><tr><td>client_avg_accuracy</td><td>▁▃▄▅▅▆▆▆▇▇▇▇▇▇▇▇█▇██</td></tr><tr><td>client_avg_loss</td><td>█▆▄▃▃▃▃▂▂▂▂▂▁▂▂▂▁▂▁▁</td></tr><tr><td>round</td><td>▁▁▂▂▂▃▃▄▄▄▅▅▅▆▆▇▇▇██</td></tr><tr><td>server_val_accuracy</td><td>▁▃▄▅▆▆▆▇▇▇▇▇▇▇██████</td></tr><tr><td>server_val_loss</td><td>█▅▄▃▃▂▂▂▂▂▂▁▁▁▁▁▁▁▁▁</td></tr></table><br/></div><div class=\"wandb-col\"><h3>Run summary:</h3><br/><table class=\"wandb\"><tr><td>client_avg_accuracy</td><td>41.60156</td></tr><tr><td>client_avg_loss</td><td>2.32964</td></tr><tr><td>round</td><td>199</td></tr><tr><td>server_val_accuracy</td><td>43.68</td></tr><tr><td>server_val_loss</td><td>2.26143</td></tr></table><br/></div></div>"
            ]
          },
          "metadata": {}
        },
        {
          "output_type": "display_data",
          "data": {
            "text/plain": [
              "<IPython.core.display.HTML object>"
            ],
            "text/html": [
              " View run <strong style=\"color:#cdcd00\">dino_vits16_J4_rounds_200</strong> at: <a href='https://wandb.ai/depetrofabio-politecnico-di-torino/FederatedProject/runs/hzyziqg1' target=\"_blank\">https://wandb.ai/depetrofabio-politecnico-di-torino/FederatedProject/runs/hzyziqg1</a><br> View project at: <a href='https://wandb.ai/depetrofabio-politecnico-di-torino/FederatedProject' target=\"_blank\">https://wandb.ai/depetrofabio-politecnico-di-torino/FederatedProject</a><br>Synced 5 W&B file(s), 0 media file(s), 0 artifact file(s) and 0 other file(s)"
            ]
          },
          "metadata": {}
        },
        {
          "output_type": "display_data",
          "data": {
            "text/plain": [
              "<IPython.core.display.HTML object>"
            ],
            "text/html": [
              "Find logs at: <code>./wandb/run-20250630_135043-hzyziqg1/logs</code>"
            ]
          },
          "metadata": {}
        },
        {
          "output_type": "stream",
          "name": "stderr",
          "text": [
            "Using cache found in /root/.cache/torch/hub/facebookresearch_dino_main\n"
          ]
        },
        {
          "output_type": "stream",
          "name": "stdout",
          "text": [
            "moving model to cuda\n"
          ]
        },
        {
          "output_type": "display_data",
          "data": {
            "text/plain": [
              "<IPython.core.display.HTML object>"
            ],
            "text/html": [
              "Tracking run with wandb version 0.20.1"
            ]
          },
          "metadata": {}
        },
        {
          "output_type": "display_data",
          "data": {
            "text/plain": [
              "<IPython.core.display.HTML object>"
            ],
            "text/html": [
              "Run data is saved locally in <code>/content/drive/MyDrive/FL/wandb/run-20250630_135657-gk1y2xat</code>"
            ]
          },
          "metadata": {}
        },
        {
          "output_type": "display_data",
          "data": {
            "text/plain": [
              "<IPython.core.display.HTML object>"
            ],
            "text/html": [
              "Syncing run <strong><a href='https://wandb.ai/depetrofabio-politecnico-di-torino/FederatedProject/runs/gk1y2xat' target=\"_blank\">dino_vits16_J4_rounds_300</a></strong> to <a href='https://wandb.ai/depetrofabio-politecnico-di-torino/FederatedProject' target=\"_blank\">Weights & Biases</a> (<a href='https://wandb.me/developer-guide' target=\"_blank\">docs</a>)<br>"
            ]
          },
          "metadata": {}
        },
        {
          "output_type": "display_data",
          "data": {
            "text/plain": [
              "<IPython.core.display.HTML object>"
            ],
            "text/html": [
              " View project at <a href='https://wandb.ai/depetrofabio-politecnico-di-torino/FederatedProject' target=\"_blank\">https://wandb.ai/depetrofabio-politecnico-di-torino/FederatedProject</a>"
            ]
          },
          "metadata": {}
        },
        {
          "output_type": "display_data",
          "data": {
            "text/plain": [
              "<IPython.core.display.HTML object>"
            ],
            "text/html": [
              " View run at <a href='https://wandb.ai/depetrofabio-politecnico-di-torino/FederatedProject/runs/gk1y2xat' target=\"_blank\">https://wandb.ai/depetrofabio-politecnico-di-torino/FederatedProject/runs/gk1y2xat</a>"
            ]
          },
          "metadata": {}
        },
        {
          "output_type": "stream",
          "name": "stdout",
          "text": [
            " Nessun checkpoint trovato, inizio da round 1.\n",
            "\n",
            "Could not load model or optimizer state dictionary. Starting from scratch or with default initialization.\n",
            "\n",
            "--- Starting training for num_rounds = 300 ---\n",
            "Checkpoint salvato su: /content/drive/MyDrive/FL/FederatedLearningProject/checkpoints/FL/dino_vits16_J4_rounds_300_checkpoint.pth\n",
            "\n",
            "Round 10/300\n",
            "Selected Clients: [95 43  9 11 26 76 53 14 89 47]\n",
            "Avg Client Loss: 4.2283 | Avg Client Accuracy: 12.42%\n",
            "Evaluation Loss:4.2434 | Val Accuracy: 13.98%\n",
            "--------------------------------------------------\n",
            "Checkpoint salvato su: /content/drive/MyDrive/FL/FederatedLearningProject/checkpoints/FL/dino_vits16_J4_rounds_300_checkpoint.pth\n",
            "\n",
            "Round 20/300\n",
            "Selected Clients: [36 82 93 41 81 30 55 31 21 11]\n",
            "Avg Client Loss: 3.4035 | Avg Client Accuracy: 21.29%\n",
            "Evaluation Loss:3.4683 | Val Accuracy: 23.40%\n",
            "--------------------------------------------------\n",
            "Checkpoint salvato su: /content/drive/MyDrive/FL/FederatedLearningProject/checkpoints/FL/dino_vits16_J4_rounds_300_checkpoint.pth\n",
            "\n",
            "Round 30/300\n",
            "Selected Clients: [90 96 54 36 23 87 81  0  8 97]\n",
            "Avg Client Loss: 3.1074 | Avg Client Accuracy: 25.78%\n",
            "Evaluation Loss:3.1280 | Val Accuracy: 28.12%\n",
            "--------------------------------------------------\n",
            "Checkpoint salvato su: /content/drive/MyDrive/FL/FederatedLearningProject/checkpoints/FL/dino_vits16_J4_rounds_300_checkpoint.pth\n",
            "\n",
            "Round 40/300\n",
            "Selected Clients: [ 2 74 65 49 28 70 18 62 71 85]\n",
            "Avg Client Loss: 2.9223 | Avg Client Accuracy: 29.80%\n",
            "Evaluation Loss:2.9190 | Val Accuracy: 31.49%\n",
            "--------------------------------------------------\n",
            "Checkpoint salvato su: /content/drive/MyDrive/FL/FederatedLearningProject/checkpoints/FL/dino_vits16_J4_rounds_300_checkpoint.pth\n",
            "\n",
            "Round 50/300\n",
            "Selected Clients: [31 53 85 17 84 96 27 86 34 97]\n",
            "Avg Client Loss: 2.9106 | Avg Client Accuracy: 29.77%\n",
            "Evaluation Loss:2.7946 | Val Accuracy: 33.02%\n",
            "--------------------------------------------------\n",
            "Checkpoint salvato su: /content/drive/MyDrive/FL/FederatedLearningProject/checkpoints/FL/dino_vits16_J4_rounds_300_checkpoint.pth\n",
            "\n",
            "Round 60/300\n",
            "Selected Clients: [42 47 21 66 30 81 50 16 59 45]\n",
            "Avg Client Loss: 2.6834 | Avg Client Accuracy: 33.05%\n",
            "Evaluation Loss:2.6836 | Val Accuracy: 34.85%\n",
            "--------------------------------------------------\n",
            "Checkpoint salvato su: /content/drive/MyDrive/FL/FederatedLearningProject/checkpoints/FL/dino_vits16_J4_rounds_300_checkpoint.pth\n",
            "\n",
            "Round 70/300\n",
            "Selected Clients: [14 68 97 62 61 26 91  7 45 19]\n",
            "Avg Client Loss: 2.6927 | Avg Client Accuracy: 33.16%\n",
            "Evaluation Loss:2.6221 | Val Accuracy: 36.24%\n",
            "--------------------------------------------------\n",
            "Checkpoint salvato su: /content/drive/MyDrive/FL/FederatedLearningProject/checkpoints/FL/dino_vits16_J4_rounds_300_checkpoint.pth\n",
            "\n",
            "Round 80/300\n",
            "Selected Clients: [56 93 58 59 34 37 41 25 70 86]\n",
            "Avg Client Loss: 2.5653 | Avg Client Accuracy: 35.12%\n",
            "Evaluation Loss:2.5514 | Val Accuracy: 37.84%\n",
            "--------------------------------------------------\n",
            "Checkpoint salvato su: /content/drive/MyDrive/FL/FederatedLearningProject/checkpoints/FL/dino_vits16_J4_rounds_300_checkpoint.pth\n",
            "\n",
            "Round 90/300\n",
            "Selected Clients: [77 53 81 76 25 50 12 61 19  1]\n",
            "Avg Client Loss: 2.5781 | Avg Client Accuracy: 36.33%\n",
            "Evaluation Loss:2.4864 | Val Accuracy: 38.62%\n",
            "--------------------------------------------------\n",
            "Checkpoint salvato su: /content/drive/MyDrive/FL/FederatedLearningProject/checkpoints/FL/dino_vits16_J4_rounds_300_checkpoint.pth\n",
            "\n",
            "Round 100/300\n",
            "Selected Clients: [13 25 42 65 74 99 40 45 34 16]\n",
            "Avg Client Loss: 2.5173 | Avg Client Accuracy: 36.25%\n",
            "Evaluation Loss:2.4484 | Val Accuracy: 39.65%\n",
            "--------------------------------------------------\n",
            "Checkpoint salvato su: /content/drive/MyDrive/FL/FederatedLearningProject/checkpoints/FL/dino_vits16_J4_rounds_300_checkpoint.pth\n",
            "\n",
            "Round 110/300\n",
            "Selected Clients: [10 14 86 34 85  6 38 26 91 45]\n",
            "Avg Client Loss: 2.5097 | Avg Client Accuracy: 36.72%\n",
            "Evaluation Loss:2.4256 | Val Accuracy: 39.96%\n",
            "--------------------------------------------------\n",
            "Checkpoint salvato su: /content/drive/MyDrive/FL/FederatedLearningProject/checkpoints/FL/dino_vits16_J4_rounds_300_checkpoint.pth\n",
            "\n",
            "Round 120/300\n",
            "Selected Clients: [30 72 40 58 80 93 54 15 38 59]\n",
            "Avg Client Loss: 2.4176 | Avg Client Accuracy: 38.40%\n",
            "Evaluation Loss:2.3978 | Val Accuracy: 40.54%\n",
            "--------------------------------------------------\n",
            "Checkpoint salvato su: /content/drive/MyDrive/FL/FederatedLearningProject/checkpoints/FL/dino_vits16_J4_rounds_300_checkpoint.pth\n",
            "\n",
            "Round 130/300\n",
            "Selected Clients: [87 75 58 10 38 74 68 39 24 32]\n",
            "Avg Client Loss: 2.3574 | Avg Client Accuracy: 40.35%\n",
            "Evaluation Loss:2.3753 | Val Accuracy: 40.85%\n",
            "--------------------------------------------------\n",
            "Checkpoint salvato su: /content/drive/MyDrive/FL/FederatedLearningProject/checkpoints/FL/dino_vits16_J4_rounds_300_checkpoint.pth\n",
            "\n",
            "Round 140/300\n",
            "Selected Clients: [73 48 56 66 16 96 65 41 46 28]\n",
            "Avg Client Loss: 2.4560 | Avg Client Accuracy: 37.30%\n",
            "Evaluation Loss:2.3454 | Val Accuracy: 41.41%\n",
            "--------------------------------------------------\n",
            "Checkpoint salvato su: /content/drive/MyDrive/FL/FederatedLearningProject/checkpoints/FL/dino_vits16_J4_rounds_300_checkpoint.pth\n",
            "\n",
            "Round 150/300\n",
            "Selected Clients: [50 91 24 45 89 22 53  9 15 64]\n",
            "Avg Client Loss: 2.4154 | Avg Client Accuracy: 37.66%\n",
            "Evaluation Loss:2.3335 | Val Accuracy: 41.73%\n",
            "--------------------------------------------------\n",
            "Checkpoint salvato su: /content/drive/MyDrive/FL/FederatedLearningProject/checkpoints/FL/dino_vits16_J4_rounds_300_checkpoint.pth\n",
            "\n",
            "Round 160/300\n",
            "Selected Clients: [76 28 25 83 84  6 26 45 19 14]\n",
            "Avg Client Loss: 2.4019 | Avg Client Accuracy: 39.06%\n",
            "Evaluation Loss:2.3151 | Val Accuracy: 41.87%\n",
            "--------------------------------------------------\n",
            "Checkpoint salvato su: /content/drive/MyDrive/FL/FederatedLearningProject/checkpoints/FL/dino_vits16_J4_rounds_300_checkpoint.pth\n",
            "\n",
            "Round 170/300\n",
            "Selected Clients: [62 32 55 23 80 68 51 11 71 49]\n",
            "Avg Client Loss: 2.3537 | Avg Client Accuracy: 39.61%\n",
            "Evaluation Loss:2.3012 | Val Accuracy: 42.09%\n",
            "--------------------------------------------------\n",
            "Checkpoint salvato su: /content/drive/MyDrive/FL/FederatedLearningProject/checkpoints/FL/dino_vits16_J4_rounds_300_checkpoint.pth\n",
            "\n",
            "Round 180/300\n",
            "Selected Clients: [73 95 80 85 10 83 27 51 35  1]\n",
            "Avg Client Loss: 2.3361 | Avg Client Accuracy: 39.73%\n",
            "Evaluation Loss:2.2786 | Val Accuracy: 42.85%\n",
            "--------------------------------------------------\n",
            "Checkpoint salvato su: /content/drive/MyDrive/FL/FederatedLearningProject/checkpoints/FL/dino_vits16_J4_rounds_300_checkpoint.pth\n",
            "\n",
            "Round 190/300\n",
            "Selected Clients: [44 17 93 98 27 51 69 96 58 66]\n",
            "Avg Client Loss: 2.3090 | Avg Client Accuracy: 39.49%\n",
            "Evaluation Loss:2.2657 | Val Accuracy: 43.06%\n",
            "--------------------------------------------------\n",
            "Checkpoint salvato su: /content/drive/MyDrive/FL/FederatedLearningProject/checkpoints/FL/dino_vits16_J4_rounds_300_checkpoint.pth\n",
            "\n",
            "Round 200/300\n",
            "Selected Clients: [22 76  7 63 38 18 79 96 88 29]\n",
            "Avg Client Loss: 2.2762 | Avg Client Accuracy: 40.43%\n",
            "Evaluation Loss:2.2584 | Val Accuracy: 43.32%\n",
            "--------------------------------------------------\n",
            "Checkpoint salvato su: /content/drive/MyDrive/FL/FederatedLearningProject/checkpoints/FL/dino_vits16_J4_rounds_300_checkpoint.pth\n",
            "\n",
            "Round 210/300\n",
            "Selected Clients: [79 35 99 51 24 47  7 53 84 41]\n",
            "Avg Client Loss: 2.3064 | Avg Client Accuracy: 40.43%\n",
            "Evaluation Loss:2.2563 | Val Accuracy: 43.36%\n",
            "--------------------------------------------------\n",
            "Checkpoint salvato su: /content/drive/MyDrive/FL/FederatedLearningProject/checkpoints/FL/dino_vits16_J4_rounds_300_checkpoint.pth\n",
            "\n",
            "Round 220/300\n",
            "Selected Clients: [72 89 66 61 24 69 54 98  9 23]\n",
            "Avg Client Loss: 2.2562 | Avg Client Accuracy: 42.07%\n",
            "Evaluation Loss:2.2472 | Val Accuracy: 43.71%\n",
            "--------------------------------------------------\n",
            "Checkpoint salvato su: /content/drive/MyDrive/FL/FederatedLearningProject/checkpoints/FL/dino_vits16_J4_rounds_300_checkpoint.pth\n",
            "\n",
            "Round 230/300\n",
            "Selected Clients: [29  2 15 86 51  8 72 49 73 48]\n",
            "Avg Client Loss: 2.2889 | Avg Client Accuracy: 40.59%\n",
            "Evaluation Loss:2.2229 | Val Accuracy: 43.89%\n",
            "--------------------------------------------------\n",
            "Checkpoint salvato su: /content/drive/MyDrive/FL/FederatedLearningProject/checkpoints/FL/dino_vits16_J4_rounds_300_checkpoint.pth\n",
            "\n",
            "Round 240/300\n",
            "Selected Clients: [41 16  4  7 88 59 10 70  9 32]\n",
            "Avg Client Loss: 2.2160 | Avg Client Accuracy: 42.11%\n",
            "Evaluation Loss:2.2204 | Val Accuracy: 44.14%\n",
            "--------------------------------------------------\n",
            "Checkpoint salvato su: /content/drive/MyDrive/FL/FederatedLearningProject/checkpoints/FL/dino_vits16_J4_rounds_300_checkpoint.pth\n",
            "\n",
            "Round 250/300\n",
            "Selected Clients: [90  9 81 17 68 62 87 45 27 12]\n",
            "Avg Client Loss: 2.2660 | Avg Client Accuracy: 41.45%\n",
            "Evaluation Loss:2.2198 | Val Accuracy: 43.89%\n",
            "--------------------------------------------------\n",
            "Checkpoint salvato su: /content/drive/MyDrive/FL/FederatedLearningProject/checkpoints/FL/dino_vits16_J4_rounds_300_checkpoint.pth\n",
            "\n",
            "Round 260/300\n",
            "Selected Clients: [65 90 93 27 25 39 69 54  9  3]\n",
            "Avg Client Loss: 2.1716 | Avg Client Accuracy: 43.59%\n",
            "Evaluation Loss:2.2089 | Val Accuracy: 44.39%\n",
            "--------------------------------------------------\n",
            "Checkpoint salvato su: /content/drive/MyDrive/FL/FederatedLearningProject/checkpoints/FL/dino_vits16_J4_rounds_300_checkpoint.pth\n",
            "\n",
            "Round 270/300\n",
            "Selected Clients: [83 13 25 69 97 52 34 50 87 82]\n",
            "Avg Client Loss: 2.2542 | Avg Client Accuracy: 42.38%\n",
            "Evaluation Loss:2.2075 | Val Accuracy: 44.52%\n",
            "--------------------------------------------------\n",
            "Checkpoint salvato su: /content/drive/MyDrive/FL/FederatedLearningProject/checkpoints/FL/dino_vits16_J4_rounds_300_checkpoint.pth\n",
            "\n",
            "Round 280/300\n",
            "Selected Clients: [30 37 44 15 20 99 56 75 50 53]\n",
            "Avg Client Loss: 2.2022 | Avg Client Accuracy: 43.40%\n",
            "Evaluation Loss:2.2058 | Val Accuracy: 44.53%\n",
            "--------------------------------------------------\n",
            "Checkpoint salvato su: /content/drive/MyDrive/FL/FederatedLearningProject/checkpoints/FL/dino_vits16_J4_rounds_300_checkpoint.pth\n",
            "\n",
            "Round 290/300\n",
            "Selected Clients: [64 45 44 50 30 71 27 32 62 10]\n",
            "Avg Client Loss: 2.2413 | Avg Client Accuracy: 41.80%\n",
            "Evaluation Loss:2.1987 | Val Accuracy: 45.03%\n",
            "--------------------------------------------------\n",
            "Checkpoint salvato su: /content/drive/MyDrive/FL/FederatedLearningProject/checkpoints/FL/dino_vits16_J4_rounds_300_checkpoint.pth\n",
            "\n",
            "Round 300/300\n",
            "Selected Clients: [79  8  3 22 12 66 16 53  6 64]\n",
            "Avg Client Loss: 2.2198 | Avg Client Accuracy: 41.88%\n",
            "Evaluation Loss:2.1880 | Val Accuracy: 44.82%\n",
            "--------------------------------------------------\n"
          ]
        },
        {
          "output_type": "display_data",
          "data": {
            "text/plain": [
              "<IPython.core.display.HTML object>"
            ],
            "text/html": []
          },
          "metadata": {}
        },
        {
          "output_type": "display_data",
          "data": {
            "text/plain": [
              "<IPython.core.display.HTML object>"
            ],
            "text/html": [
              "<br>    <style><br>        .wandb-row {<br>            display: flex;<br>            flex-direction: row;<br>            flex-wrap: wrap;<br>            justify-content: flex-start;<br>            width: 100%;<br>        }<br>        .wandb-col {<br>            display: flex;<br>            flex-direction: column;<br>            flex-basis: 100%;<br>            flex: 1;<br>            padding: 10px;<br>        }<br>    </style><br><div class=\"wandb-row\"><div class=\"wandb-col\"><h3>Run history:</h3><br/><table class=\"wandb\"><tr><td>client_avg_accuracy</td><td>▁▃▄▅▅▆▆▆▆▆▆▇▇▇▇▇▇▇▇▇▇█▇███████</td></tr><tr><td>client_avg_loss</td><td>█▅▄▄▄▃▃▂▂▂▂▂▂▂▂▂▂▂▁▁▁▁▁▁▁▁▁▁▁▁</td></tr><tr><td>round</td><td>▁▁▁▂▂▂▂▃▃▃▃▄▄▄▄▅▅▅▅▆▆▆▆▇▇▇▇███</td></tr><tr><td>server_val_accuracy</td><td>▁▃▄▅▅▆▆▆▇▇▇▇▇▇▇▇▇█████████████</td></tr><tr><td>server_val_loss</td><td>█▅▄▃▃▃▂▂▂▂▂▂▂▂▁▁▁▁▁▁▁▁▁▁▁▁▁▁▁▁</td></tr></table><br/></div><div class=\"wandb-col\"><h3>Run summary:</h3><br/><table class=\"wandb\"><tr><td>client_avg_accuracy</td><td>41.875</td></tr><tr><td>client_avg_loss</td><td>2.21978</td></tr><tr><td>round</td><td>299</td></tr><tr><td>server_val_accuracy</td><td>44.82</td></tr><tr><td>server_val_loss</td><td>2.18801</td></tr></table><br/></div></div>"
            ]
          },
          "metadata": {}
        },
        {
          "output_type": "display_data",
          "data": {
            "text/plain": [
              "<IPython.core.display.HTML object>"
            ],
            "text/html": [
              " View run <strong style=\"color:#cdcd00\">dino_vits16_J4_rounds_300</strong> at: <a href='https://wandb.ai/depetrofabio-politecnico-di-torino/FederatedProject/runs/gk1y2xat' target=\"_blank\">https://wandb.ai/depetrofabio-politecnico-di-torino/FederatedProject/runs/gk1y2xat</a><br> View project at: <a href='https://wandb.ai/depetrofabio-politecnico-di-torino/FederatedProject' target=\"_blank\">https://wandb.ai/depetrofabio-politecnico-di-torino/FederatedProject</a><br>Synced 5 W&B file(s), 0 media file(s), 0 artifact file(s) and 0 other file(s)"
            ]
          },
          "metadata": {}
        },
        {
          "output_type": "display_data",
          "data": {
            "text/plain": [
              "<IPython.core.display.HTML object>"
            ],
            "text/html": [
              "Find logs at: <code>./wandb/run-20250630_135657-gk1y2xat/logs</code>"
            ]
          },
          "metadata": {}
        },
        {
          "output_type": "stream",
          "name": "stderr",
          "text": [
            "Using cache found in /root/.cache/torch/hub/facebookresearch_dino_main\n"
          ]
        },
        {
          "output_type": "stream",
          "name": "stdout",
          "text": [
            "moving model to cuda\n"
          ]
        },
        {
          "output_type": "display_data",
          "data": {
            "text/plain": [
              "<IPython.core.display.HTML object>"
            ],
            "text/html": [
              "Tracking run with wandb version 0.20.1"
            ]
          },
          "metadata": {}
        },
        {
          "output_type": "display_data",
          "data": {
            "text/plain": [
              "<IPython.core.display.HTML object>"
            ],
            "text/html": [
              "Run data is saved locally in <code>/content/drive/MyDrive/FL/wandb/run-20250630_140612-livy1abx</code>"
            ]
          },
          "metadata": {}
        },
        {
          "output_type": "display_data",
          "data": {
            "text/plain": [
              "<IPython.core.display.HTML object>"
            ],
            "text/html": [
              "Syncing run <strong><a href='https://wandb.ai/depetrofabio-politecnico-di-torino/FederatedProject/runs/livy1abx' target=\"_blank\">dino_vits16_J4_rounds_400</a></strong> to <a href='https://wandb.ai/depetrofabio-politecnico-di-torino/FederatedProject' target=\"_blank\">Weights & Biases</a> (<a href='https://wandb.me/developer-guide' target=\"_blank\">docs</a>)<br>"
            ]
          },
          "metadata": {}
        },
        {
          "output_type": "display_data",
          "data": {
            "text/plain": [
              "<IPython.core.display.HTML object>"
            ],
            "text/html": [
              " View project at <a href='https://wandb.ai/depetrofabio-politecnico-di-torino/FederatedProject' target=\"_blank\">https://wandb.ai/depetrofabio-politecnico-di-torino/FederatedProject</a>"
            ]
          },
          "metadata": {}
        },
        {
          "output_type": "display_data",
          "data": {
            "text/plain": [
              "<IPython.core.display.HTML object>"
            ],
            "text/html": [
              " View run at <a href='https://wandb.ai/depetrofabio-politecnico-di-torino/FederatedProject/runs/livy1abx' target=\"_blank\">https://wandb.ai/depetrofabio-politecnico-di-torino/FederatedProject/runs/livy1abx</a>"
            ]
          },
          "metadata": {}
        },
        {
          "output_type": "stream",
          "name": "stdout",
          "text": [
            " Nessun checkpoint trovato, inizio da round 1.\n",
            "\n",
            "Could not load model or optimizer state dictionary. Starting from scratch or with default initialization.\n",
            "\n",
            "--- Starting training for num_rounds = 400 ---\n",
            "Checkpoint salvato su: /content/drive/MyDrive/FL/FederatedLearningProject/checkpoints/FL/dino_vits16_J4_rounds_400_checkpoint.pth\n",
            "\n",
            "Round 10/400\n",
            "Selected Clients: [74 97 19 23 25  4 41 57  6 15]\n",
            "Avg Client Loss: 4.2501 | Avg Client Accuracy: 12.19%\n",
            "Evaluation Loss:4.2911 | Val Accuracy: 14.38%\n",
            "--------------------------------------------------\n",
            "Checkpoint salvato su: /content/drive/MyDrive/FL/FederatedLearningProject/checkpoints/FL/dino_vits16_J4_rounds_400_checkpoint.pth\n",
            "\n",
            "Round 20/400\n",
            "Selected Clients: [54 87 61 92 10 26 53  7 75 73]\n",
            "Avg Client Loss: 3.5031 | Avg Client Accuracy: 20.27%\n",
            "Evaluation Loss:3.5074 | Val Accuracy: 22.68%\n",
            "--------------------------------------------------\n",
            "Checkpoint salvato su: /content/drive/MyDrive/FL/FederatedLearningProject/checkpoints/FL/dino_vits16_J4_rounds_400_checkpoint.pth\n",
            "\n",
            "Round 30/400\n",
            "Selected Clients: [94  4 59 37 18 95 49 53 56 15]\n",
            "Avg Client Loss: 3.1646 | Avg Client Accuracy: 25.23%\n",
            "Evaluation Loss:3.1487 | Val Accuracy: 27.82%\n",
            "--------------------------------------------------\n",
            "Checkpoint salvato su: /content/drive/MyDrive/FL/FederatedLearningProject/checkpoints/FL/dino_vits16_J4_rounds_400_checkpoint.pth\n",
            "\n",
            "Round 40/400\n",
            "Selected Clients: [30 73 49 90 58 85  1 33 41 72]\n",
            "Avg Client Loss: 2.9608 | Avg Client Accuracy: 28.52%\n",
            "Evaluation Loss:2.9333 | Val Accuracy: 30.59%\n",
            "--------------------------------------------------\n",
            "Checkpoint salvato su: /content/drive/MyDrive/FL/FederatedLearningProject/checkpoints/FL/dino_vits16_J4_rounds_400_checkpoint.pth\n",
            "\n",
            "Round 50/400\n",
            "Selected Clients: [97 32 11 85 22 40 71 95  6 72]\n",
            "Avg Client Loss: 2.8060 | Avg Client Accuracy: 30.90%\n",
            "Evaluation Loss:2.7998 | Val Accuracy: 32.86%\n",
            "--------------------------------------------------\n",
            "Checkpoint salvato su: /content/drive/MyDrive/FL/FederatedLearningProject/checkpoints/FL/dino_vits16_J4_rounds_400_checkpoint.pth\n",
            "\n",
            "Round 60/400\n",
            "Selected Clients: [29 42 50 66  4 79  5 40 32 72]\n",
            "Avg Client Loss: 2.7228 | Avg Client Accuracy: 33.20%\n",
            "Evaluation Loss:2.6880 | Val Accuracy: 34.85%\n",
            "--------------------------------------------------\n",
            "Checkpoint salvato su: /content/drive/MyDrive/FL/FederatedLearningProject/checkpoints/FL/dino_vits16_J4_rounds_400_checkpoint.pth\n",
            "\n",
            "Round 70/400\n",
            "Selected Clients: [ 4 59 47 74 76 22 51 65 97 15]\n",
            "Avg Client Loss: 2.6219 | Avg Client Accuracy: 35.27%\n",
            "Evaluation Loss:2.6013 | Val Accuracy: 36.47%\n",
            "--------------------------------------------------\n",
            "Checkpoint salvato su: /content/drive/MyDrive/FL/FederatedLearningProject/checkpoints/FL/dino_vits16_J4_rounds_400_checkpoint.pth\n",
            "\n",
            "Round 80/400\n",
            "Selected Clients: [32 71  0 44 94 25 22 91 14 90]\n",
            "Avg Client Loss: 2.6086 | Avg Client Accuracy: 34.65%\n",
            "Evaluation Loss:2.5577 | Val Accuracy: 37.44%\n",
            "--------------------------------------------------\n",
            "Checkpoint salvato su: /content/drive/MyDrive/FL/FederatedLearningProject/checkpoints/FL/dino_vits16_J4_rounds_400_checkpoint.pth\n",
            "\n",
            "Round 90/400\n",
            "Selected Clients: [41 54 81 26  0  6 50  1 73 48]\n",
            "Avg Client Loss: 2.5793 | Avg Client Accuracy: 36.09%\n",
            "Evaluation Loss:2.5199 | Val Accuracy: 38.52%\n",
            "--------------------------------------------------\n",
            "Checkpoint salvato su: /content/drive/MyDrive/FL/FederatedLearningProject/checkpoints/FL/dino_vits16_J4_rounds_400_checkpoint.pth\n",
            "\n",
            "Round 100/400\n",
            "Selected Clients: [87 91  0 89 84 92 12  2 70 77]\n",
            "Avg Client Loss: 2.4859 | Avg Client Accuracy: 36.95%\n",
            "Evaluation Loss:2.4630 | Val Accuracy: 39.35%\n",
            "--------------------------------------------------\n",
            "Checkpoint salvato su: /content/drive/MyDrive/FL/FederatedLearningProject/checkpoints/FL/dino_vits16_J4_rounds_400_checkpoint.pth\n",
            "\n",
            "Round 110/400\n",
            "Selected Clients: [26 65 46 22 83 62 78 96  5 36]\n",
            "Avg Client Loss: 2.4924 | Avg Client Accuracy: 36.45%\n",
            "Evaluation Loss:2.4318 | Val Accuracy: 39.87%\n",
            "--------------------------------------------------\n",
            "Checkpoint salvato su: /content/drive/MyDrive/FL/FederatedLearningProject/checkpoints/FL/dino_vits16_J4_rounds_400_checkpoint.pth\n",
            "\n",
            "Round 120/400\n",
            "Selected Clients: [61 17 12 14 23 69 36 82 66  9]\n",
            "Avg Client Loss: 2.5325 | Avg Client Accuracy: 35.62%\n",
            "Evaluation Loss:2.3924 | Val Accuracy: 40.87%\n",
            "--------------------------------------------------\n",
            "Checkpoint salvato su: /content/drive/MyDrive/FL/FederatedLearningProject/checkpoints/FL/dino_vits16_J4_rounds_400_checkpoint.pth\n",
            "\n",
            "Round 130/400\n",
            "Selected Clients: [49 42  5 54 91 10  4 57 37 59]\n",
            "Avg Client Loss: 2.4032 | Avg Client Accuracy: 38.98%\n",
            "Evaluation Loss:2.3749 | Val Accuracy: 41.07%\n",
            "--------------------------------------------------\n",
            "Checkpoint salvato su: /content/drive/MyDrive/FL/FederatedLearningProject/checkpoints/FL/dino_vits16_J4_rounds_400_checkpoint.pth\n",
            "\n",
            "Round 140/400\n",
            "Selected Clients: [84 23 96 38 78 90 91 46 55 52]\n",
            "Avg Client Loss: 2.3841 | Avg Client Accuracy: 38.09%\n",
            "Evaluation Loss:2.3483 | Val Accuracy: 41.33%\n",
            "--------------------------------------------------\n",
            "Checkpoint salvato su: /content/drive/MyDrive/FL/FederatedLearningProject/checkpoints/FL/dino_vits16_J4_rounds_400_checkpoint.pth\n",
            "\n",
            "Round 150/400\n",
            "Selected Clients: [73 88 19 93 27 16 80 51 77 46]\n",
            "Avg Client Loss: 2.3528 | Avg Client Accuracy: 38.12%\n",
            "Evaluation Loss:2.3436 | Val Accuracy: 41.56%\n",
            "--------------------------------------------------\n",
            "Checkpoint salvato su: /content/drive/MyDrive/FL/FederatedLearningProject/checkpoints/FL/dino_vits16_J4_rounds_400_checkpoint.pth\n",
            "\n",
            "Round 160/400\n",
            "Selected Clients: [84 65 96 60 95 98 83  1 73 45]\n",
            "Avg Client Loss: 2.3687 | Avg Client Accuracy: 38.63%\n",
            "Evaluation Loss:2.3144 | Val Accuracy: 42.06%\n",
            "--------------------------------------------------\n",
            "Checkpoint salvato su: /content/drive/MyDrive/FL/FederatedLearningProject/checkpoints/FL/dino_vits16_J4_rounds_400_checkpoint.pth\n",
            "\n",
            "Round 170/400\n",
            "Selected Clients: [11 44 35 67  3  2 29 61  1 45]\n",
            "Avg Client Loss: 2.2851 | Avg Client Accuracy: 40.31%\n",
            "Evaluation Loss:2.2893 | Val Accuracy: 42.57%\n",
            "--------------------------------------------------\n",
            "Checkpoint salvato su: /content/drive/MyDrive/FL/FederatedLearningProject/checkpoints/FL/dino_vits16_J4_rounds_400_checkpoint.pth\n",
            "\n",
            "Round 180/400\n",
            "Selected Clients: [27 20 31 94 72 33 61 75 70 95]\n",
            "Avg Client Loss: 2.2937 | Avg Client Accuracy: 40.31%\n",
            "Evaluation Loss:2.2774 | Val Accuracy: 42.76%\n",
            "--------------------------------------------------\n",
            "Checkpoint salvato su: /content/drive/MyDrive/FL/FederatedLearningProject/checkpoints/FL/dino_vits16_J4_rounds_400_checkpoint.pth\n",
            "\n",
            "Round 190/400\n",
            "Selected Clients: [97  8 68 73 12 53 65  5 38 90]\n",
            "Avg Client Loss: 2.2881 | Avg Client Accuracy: 41.41%\n",
            "Evaluation Loss:2.2681 | Val Accuracy: 42.97%\n",
            "--------------------------------------------------\n",
            "Checkpoint salvato su: /content/drive/MyDrive/FL/FederatedLearningProject/checkpoints/FL/dino_vits16_J4_rounds_400_checkpoint.pth\n",
            "\n",
            "Round 200/400\n",
            "Selected Clients: [84 29 98 16 50  5 77 35 36 31]\n",
            "Avg Client Loss: 2.2842 | Avg Client Accuracy: 41.13%\n",
            "Evaluation Loss:2.2617 | Val Accuracy: 43.11%\n",
            "--------------------------------------------------\n",
            "Checkpoint salvato su: /content/drive/MyDrive/FL/FederatedLearningProject/checkpoints/FL/dino_vits16_J4_rounds_400_checkpoint.pth\n",
            "\n",
            "Round 210/400\n",
            "Selected Clients: [26 34 37 88 80 84 92 97 38  0]\n",
            "Avg Client Loss: 2.2597 | Avg Client Accuracy: 42.30%\n",
            "Evaluation Loss:2.2546 | Val Accuracy: 43.46%\n",
            "--------------------------------------------------\n",
            "Checkpoint salvato su: /content/drive/MyDrive/FL/FederatedLearningProject/checkpoints/FL/dino_vits16_J4_rounds_400_checkpoint.pth\n",
            "\n",
            "Round 220/400\n",
            "Selected Clients: [11 22 73 77 64 40 13 58 34 17]\n",
            "Avg Client Loss: 2.2746 | Avg Client Accuracy: 40.55%\n",
            "Evaluation Loss:2.2482 | Val Accuracy: 43.66%\n",
            "--------------------------------------------------\n",
            "Checkpoint salvato su: /content/drive/MyDrive/FL/FederatedLearningProject/checkpoints/FL/dino_vits16_J4_rounds_400_checkpoint.pth\n",
            "\n",
            "Round 230/400\n",
            "Selected Clients: [ 2 44 88 47 52 54  8  5 71 42]\n",
            "Avg Client Loss: 2.2729 | Avg Client Accuracy: 40.98%\n",
            "Evaluation Loss:2.2311 | Val Accuracy: 43.99%\n",
            "--------------------------------------------------\n",
            "Checkpoint salvato su: /content/drive/MyDrive/FL/FederatedLearningProject/checkpoints/FL/dino_vits16_J4_rounds_400_checkpoint.pth\n",
            "\n",
            "Round 240/400\n",
            "Selected Clients: [75 94 10 80 87 92 77 20 95 90]\n",
            "Avg Client Loss: 2.2816 | Avg Client Accuracy: 40.98%\n",
            "Evaluation Loss:2.2262 | Val Accuracy: 44.18%\n",
            "--------------------------------------------------\n",
            "Checkpoint salvato su: /content/drive/MyDrive/FL/FederatedLearningProject/checkpoints/FL/dino_vits16_J4_rounds_400_checkpoint.pth\n",
            "\n",
            "Round 250/400\n",
            "Selected Clients: [15  4 29 20 47 93 84 33 54 23]\n",
            "Avg Client Loss: 2.2001 | Avg Client Accuracy: 42.15%\n",
            "Evaluation Loss:2.2153 | Val Accuracy: 44.12%\n",
            "--------------------------------------------------\n",
            "Checkpoint salvato su: /content/drive/MyDrive/FL/FederatedLearningProject/checkpoints/FL/dino_vits16_J4_rounds_400_checkpoint.pth\n",
            "\n",
            "Round 260/400\n",
            "Selected Clients: [ 7 52 56 90 35 27 55 51 70 89]\n",
            "Avg Client Loss: 2.1941 | Avg Client Accuracy: 43.36%\n",
            "Evaluation Loss:2.2190 | Val Accuracy: 44.11%\n",
            "--------------------------------------------------\n",
            "Checkpoint salvato su: /content/drive/MyDrive/FL/FederatedLearningProject/checkpoints/FL/dino_vits16_J4_rounds_400_checkpoint.pth\n",
            "\n",
            "Round 270/400\n",
            "Selected Clients: [60 45 46 40 82 69 52 79 98  0]\n",
            "Avg Client Loss: 2.2691 | Avg Client Accuracy: 40.86%\n",
            "Evaluation Loss:2.2136 | Val Accuracy: 43.89%\n",
            "--------------------------------------------------\n",
            "Checkpoint salvato su: /content/drive/MyDrive/FL/FederatedLearningProject/checkpoints/FL/dino_vits16_J4_rounds_400_checkpoint.pth\n",
            "\n",
            "Round 280/400\n",
            "Selected Clients: [16  0 61 54  3 49 26 91 10 27]\n",
            "Avg Client Loss: 2.2465 | Avg Client Accuracy: 41.91%\n",
            "Evaluation Loss:2.2078 | Val Accuracy: 44.35%\n",
            "--------------------------------------------------\n",
            "Checkpoint salvato su: /content/drive/MyDrive/FL/FederatedLearningProject/checkpoints/FL/dino_vits16_J4_rounds_400_checkpoint.pth\n",
            "\n",
            "Round 290/400\n",
            "Selected Clients: [14 20 50 84 32 52 77 15 69 75]\n",
            "Avg Client Loss: 2.2632 | Avg Client Accuracy: 42.30%\n",
            "Evaluation Loss:2.2046 | Val Accuracy: 44.26%\n",
            "--------------------------------------------------\n",
            "Checkpoint salvato su: /content/drive/MyDrive/FL/FederatedLearningProject/checkpoints/FL/dino_vits16_J4_rounds_400_checkpoint.pth\n",
            "\n",
            "Round 300/400\n",
            "Selected Clients: [89 60 93 34 41 31 76 80 53 24]\n",
            "Avg Client Loss: 2.1838 | Avg Client Accuracy: 42.34%\n",
            "Evaluation Loss:2.1893 | Val Accuracy: 44.94%\n",
            "--------------------------------------------------\n",
            "Checkpoint salvato su: /content/drive/MyDrive/FL/FederatedLearningProject/checkpoints/FL/dino_vits16_J4_rounds_400_checkpoint.pth\n",
            "\n",
            "Round 310/400\n",
            "Selected Clients: [85 23 51 87 43 88 63 60 39 22]\n",
            "Avg Client Loss: 2.2118 | Avg Client Accuracy: 42.38%\n",
            "Evaluation Loss:2.1934 | Val Accuracy: 44.61%\n",
            "--------------------------------------------------\n",
            "Checkpoint salvato su: /content/drive/MyDrive/FL/FederatedLearningProject/checkpoints/FL/dino_vits16_J4_rounds_400_checkpoint.pth\n",
            "\n",
            "Round 320/400\n",
            "Selected Clients: [51  1 59 43 68 48 52 33 31 28]\n",
            "Avg Client Loss: 2.1907 | Avg Client Accuracy: 42.42%\n",
            "Evaluation Loss:2.1845 | Val Accuracy: 44.76%\n",
            "--------------------------------------------------\n",
            "Checkpoint salvato su: /content/drive/MyDrive/FL/FederatedLearningProject/checkpoints/FL/dino_vits16_J4_rounds_400_checkpoint.pth\n",
            "\n",
            "Round 330/400\n",
            "Selected Clients: [12 82 40 32 16 18 11 91 97 53]\n",
            "Avg Client Loss: 2.2555 | Avg Client Accuracy: 40.59%\n",
            "Evaluation Loss:2.1892 | Val Accuracy: 44.96%\n",
            "--------------------------------------------------\n",
            "Checkpoint salvato su: /content/drive/MyDrive/FL/FederatedLearningProject/checkpoints/FL/dino_vits16_J4_rounds_400_checkpoint.pth\n",
            "\n",
            "Round 340/400\n",
            "Selected Clients: [99 54 55 64  7 29 26 71 76 72]\n",
            "Avg Client Loss: 2.1725 | Avg Client Accuracy: 43.28%\n",
            "Evaluation Loss:2.1747 | Val Accuracy: 45.31%\n",
            "--------------------------------------------------\n",
            "Checkpoint salvato su: /content/drive/MyDrive/FL/FederatedLearningProject/checkpoints/FL/dino_vits16_J4_rounds_400_checkpoint.pth\n",
            "\n",
            "Round 350/400\n",
            "Selected Clients: [60  7 35 19 75 72 73 26 20 88]\n",
            "Avg Client Loss: 2.1814 | Avg Client Accuracy: 42.27%\n",
            "Evaluation Loss:2.1689 | Val Accuracy: 45.13%\n",
            "--------------------------------------------------\n",
            "Checkpoint salvato su: /content/drive/MyDrive/FL/FederatedLearningProject/checkpoints/FL/dino_vits16_J4_rounds_400_checkpoint.pth\n",
            "\n",
            "Round 360/400\n",
            "Selected Clients: [98 75 22 20 97 38 15 41 76 24]\n",
            "Avg Client Loss: 2.1643 | Avg Client Accuracy: 43.83%\n",
            "Evaluation Loss:2.1752 | Val Accuracy: 45.25%\n",
            "--------------------------------------------------\n",
            "Checkpoint salvato su: /content/drive/MyDrive/FL/FederatedLearningProject/checkpoints/FL/dino_vits16_J4_rounds_400_checkpoint.pth\n",
            "\n",
            "Round 370/400\n",
            "Selected Clients: [ 6 90 35 76  1 46 55 31 97 77]\n",
            "Avg Client Loss: 2.1524 | Avg Client Accuracy: 43.44%\n",
            "Evaluation Loss:2.1744 | Val Accuracy: 45.26%\n",
            "--------------------------------------------------\n",
            "Checkpoint salvato su: /content/drive/MyDrive/FL/FederatedLearningProject/checkpoints/FL/dino_vits16_J4_rounds_400_checkpoint.pth\n",
            "\n",
            "Round 380/400\n",
            "Selected Clients: [ 5 26 78 35  8 74 60  1 81 70]\n",
            "Avg Client Loss: 2.1017 | Avg Client Accuracy: 44.65%\n",
            "Evaluation Loss:2.1656 | Val Accuracy: 44.81%\n",
            "--------------------------------------------------\n",
            "Checkpoint salvato su: /content/drive/MyDrive/FL/FederatedLearningProject/checkpoints/FL/dino_vits16_J4_rounds_400_checkpoint.pth\n",
            "\n",
            "Round 390/400\n",
            "Selected Clients: [48 49 26 43 59 37 32 57 17 64]\n",
            "Avg Client Loss: 2.2025 | Avg Client Accuracy: 43.75%\n",
            "Evaluation Loss:2.1760 | Val Accuracy: 45.03%\n",
            "--------------------------------------------------\n",
            "Checkpoint salvato su: /content/drive/MyDrive/FL/FederatedLearningProject/checkpoints/FL/dino_vits16_J4_rounds_400_checkpoint.pth\n",
            "\n",
            "Round 400/400\n",
            "Selected Clients: [ 2 31 73 27  9 50 59 20 28 33]\n",
            "Avg Client Loss: 2.1378 | Avg Client Accuracy: 43.95%\n",
            "Evaluation Loss:2.1743 | Val Accuracy: 45.44%\n",
            "--------------------------------------------------\n"
          ]
        },
        {
          "output_type": "display_data",
          "data": {
            "text/plain": [
              "<IPython.core.display.HTML object>"
            ],
            "text/html": []
          },
          "metadata": {}
        },
        {
          "output_type": "display_data",
          "data": {
            "text/plain": [
              "<IPython.core.display.HTML object>"
            ],
            "text/html": [
              "<br>    <style><br>        .wandb-row {<br>            display: flex;<br>            flex-direction: row;<br>            flex-wrap: wrap;<br>            justify-content: flex-start;<br>            width: 100%;<br>        }<br>        .wandb-col {<br>            display: flex;<br>            flex-direction: column;<br>            flex-basis: 100%;<br>            flex: 1;<br>            padding: 10px;<br>        }<br>    </style><br><div class=\"wandb-row\"><div class=\"wandb-col\"><h3>Run history:</h3><br/><table class=\"wandb\"><tr><td>client_avg_accuracy</td><td>▁▃▄▅▅▆▆▆▆▆▆▆▇▇▇▇▇▇▇▇▇▇▇▇▇█▇▇▇███▇█▇█████</td></tr><tr><td>client_avg_loss</td><td>█▆▄▄▃▃▃▃▃▂▂▂▂▂▂▂▂▂▂▂▂▂▂▂▁▁▂▁▂▁▁▁▂▁▁▁▁▁▁▁</td></tr><tr><td>round</td><td>▁▁▁▂▂▂▂▂▂▃▃▃▃▃▄▄▄▄▄▄▅▅▅▅▅▅▆▆▆▆▆▇▇▇▇▇▇███</td></tr><tr><td>server_val_accuracy</td><td>▁▃▄▅▅▆▆▆▆▇▇▇▇▇▇▇▇▇▇▇████████████████████</td></tr><tr><td>server_val_loss</td><td>█▅▄▄▃▃▂▂▂▂▂▂▂▂▂▁▁▁▁▁▁▁▁▁▁▁▁▁▁▁▁▁▁▁▁▁▁▁▁▁</td></tr></table><br/></div><div class=\"wandb-col\"><h3>Run summary:</h3><br/><table class=\"wandb\"><tr><td>client_avg_accuracy</td><td>43.94531</td></tr><tr><td>client_avg_loss</td><td>2.13777</td></tr><tr><td>round</td><td>399</td></tr><tr><td>server_val_accuracy</td><td>45.44</td></tr><tr><td>server_val_loss</td><td>2.17429</td></tr></table><br/></div></div>"
            ]
          },
          "metadata": {}
        },
        {
          "output_type": "display_data",
          "data": {
            "text/plain": [
              "<IPython.core.display.HTML object>"
            ],
            "text/html": [
              " View run <strong style=\"color:#cdcd00\">dino_vits16_J4_rounds_400</strong> at: <a href='https://wandb.ai/depetrofabio-politecnico-di-torino/FederatedProject/runs/livy1abx' target=\"_blank\">https://wandb.ai/depetrofabio-politecnico-di-torino/FederatedProject/runs/livy1abx</a><br> View project at: <a href='https://wandb.ai/depetrofabio-politecnico-di-torino/FederatedProject' target=\"_blank\">https://wandb.ai/depetrofabio-politecnico-di-torino/FederatedProject</a><br>Synced 5 W&B file(s), 0 media file(s), 0 artifact file(s) and 0 other file(s)"
            ]
          },
          "metadata": {}
        },
        {
          "output_type": "display_data",
          "data": {
            "text/plain": [
              "<IPython.core.display.HTML object>"
            ],
            "text/html": [
              "Find logs at: <code>./wandb/run-20250630_140612-livy1abx/logs</code>"
            ]
          },
          "metadata": {}
        },
        {
          "output_type": "stream",
          "name": "stderr",
          "text": [
            "Using cache found in /root/.cache/torch/hub/facebookresearch_dino_main\n"
          ]
        },
        {
          "output_type": "stream",
          "name": "stdout",
          "text": [
            "moving model to cuda\n"
          ]
        },
        {
          "output_type": "display_data",
          "data": {
            "text/plain": [
              "<IPython.core.display.HTML object>"
            ],
            "text/html": [
              "Tracking run with wandb version 0.20.1"
            ]
          },
          "metadata": {}
        },
        {
          "output_type": "display_data",
          "data": {
            "text/plain": [
              "<IPython.core.display.HTML object>"
            ],
            "text/html": [
              "Run data is saved locally in <code>/content/drive/MyDrive/FL/wandb/run-20250630_141825-0oxwj91w</code>"
            ]
          },
          "metadata": {}
        },
        {
          "output_type": "display_data",
          "data": {
            "text/plain": [
              "<IPython.core.display.HTML object>"
            ],
            "text/html": [
              "Syncing run <strong><a href='https://wandb.ai/depetrofabio-politecnico-di-torino/FederatedProject/runs/0oxwj91w' target=\"_blank\">dino_vits16_J4_rounds_500</a></strong> to <a href='https://wandb.ai/depetrofabio-politecnico-di-torino/FederatedProject' target=\"_blank\">Weights & Biases</a> (<a href='https://wandb.me/developer-guide' target=\"_blank\">docs</a>)<br>"
            ]
          },
          "metadata": {}
        },
        {
          "output_type": "display_data",
          "data": {
            "text/plain": [
              "<IPython.core.display.HTML object>"
            ],
            "text/html": [
              " View project at <a href='https://wandb.ai/depetrofabio-politecnico-di-torino/FederatedProject' target=\"_blank\">https://wandb.ai/depetrofabio-politecnico-di-torino/FederatedProject</a>"
            ]
          },
          "metadata": {}
        },
        {
          "output_type": "display_data",
          "data": {
            "text/plain": [
              "<IPython.core.display.HTML object>"
            ],
            "text/html": [
              " View run at <a href='https://wandb.ai/depetrofabio-politecnico-di-torino/FederatedProject/runs/0oxwj91w' target=\"_blank\">https://wandb.ai/depetrofabio-politecnico-di-torino/FederatedProject/runs/0oxwj91w</a>"
            ]
          },
          "metadata": {}
        },
        {
          "output_type": "stream",
          "name": "stdout",
          "text": [
            " Nessun checkpoint trovato, inizio da round 1.\n",
            "\n",
            "Could not load model or optimizer state dictionary. Starting from scratch or with default initialization.\n",
            "\n",
            "--- Starting training for num_rounds = 500 ---\n",
            "Checkpoint salvato su: /content/drive/MyDrive/FL/FederatedLearningProject/checkpoints/FL/dino_vits16_J4_rounds_500_checkpoint.pth\n",
            "\n",
            "Round 10/500\n",
            "Selected Clients: [68 72 46 58 23  1 47 97 64 41]\n",
            "Avg Client Loss: 4.2638 | Avg Client Accuracy: 11.60%\n",
            "Evaluation Loss:4.2506 | Val Accuracy: 14.67%\n",
            "--------------------------------------------------\n",
            "Checkpoint salvato su: /content/drive/MyDrive/FL/FederatedLearningProject/checkpoints/FL/dino_vits16_J4_rounds_500_checkpoint.pth\n",
            "\n",
            "Round 20/500\n",
            "Selected Clients: [29 69 11  5 44 25 41 93  2 13]\n",
            "Avg Client Loss: 3.5425 | Avg Client Accuracy: 20.27%\n",
            "Evaluation Loss:3.4281 | Val Accuracy: 23.81%\n",
            "--------------------------------------------------\n",
            "Checkpoint salvato su: /content/drive/MyDrive/FL/FederatedLearningProject/checkpoints/FL/dino_vits16_J4_rounds_500_checkpoint.pth\n",
            "\n",
            "Round 30/500\n",
            "Selected Clients: [ 7 57 91 83 53 85 77 12 44 28]\n",
            "Avg Client Loss: 3.2169 | Avg Client Accuracy: 24.18%\n",
            "Evaluation Loss:3.0941 | Val Accuracy: 28.99%\n",
            "--------------------------------------------------\n",
            "Checkpoint salvato su: /content/drive/MyDrive/FL/FederatedLearningProject/checkpoints/FL/dino_vits16_J4_rounds_500_checkpoint.pth\n",
            "\n",
            "Round 40/500\n",
            "Selected Clients: [22 31 97 37 78 76 45 47 67 49]\n",
            "Avg Client Loss: 2.9990 | Avg Client Accuracy: 27.07%\n",
            "Evaluation Loss:2.8742 | Val Accuracy: 32.52%\n",
            "--------------------------------------------------\n",
            "Checkpoint salvato su: /content/drive/MyDrive/FL/FederatedLearningProject/checkpoints/FL/dino_vits16_J4_rounds_500_checkpoint.pth\n",
            "\n",
            "Round 50/500\n",
            "Selected Clients: [48 95 25 26 52 55 22 90 69 44]\n",
            "Avg Client Loss: 2.8629 | Avg Client Accuracy: 30.08%\n",
            "Evaluation Loss:2.7318 | Val Accuracy: 35.25%\n",
            "--------------------------------------------------\n",
            "Checkpoint salvato su: /content/drive/MyDrive/FL/FederatedLearningProject/checkpoints/FL/dino_vits16_J4_rounds_500_checkpoint.pth\n",
            "\n",
            "Round 60/500\n",
            "Selected Clients: [42 40 80 37 99 46 68 78 32 65]\n",
            "Avg Client Loss: 2.6804 | Avg Client Accuracy: 32.89%\n",
            "Evaluation Loss:2.6395 | Val Accuracy: 36.50%\n",
            "--------------------------------------------------\n",
            "Checkpoint salvato su: /content/drive/MyDrive/FL/FederatedLearningProject/checkpoints/FL/dino_vits16_J4_rounds_500_checkpoint.pth\n",
            "\n",
            "Round 70/500\n",
            "Selected Clients: [46 49 52 33 55  6 95 11 44 72]\n",
            "Avg Client Loss: 2.6666 | Avg Client Accuracy: 33.67%\n",
            "Evaluation Loss:2.5798 | Val Accuracy: 37.30%\n",
            "--------------------------------------------------\n",
            "Checkpoint salvato su: /content/drive/MyDrive/FL/FederatedLearningProject/checkpoints/FL/dino_vits16_J4_rounds_500_checkpoint.pth\n",
            "\n",
            "Round 80/500\n",
            "Selected Clients: [57 78 13 15  4 80 16 86 67 50]\n",
            "Avg Client Loss: 2.6214 | Avg Client Accuracy: 33.63%\n",
            "Evaluation Loss:2.5095 | Val Accuracy: 38.36%\n",
            "--------------------------------------------------\n",
            "Checkpoint salvato su: /content/drive/MyDrive/FL/FederatedLearningProject/checkpoints/FL/dino_vits16_J4_rounds_500_checkpoint.pth\n",
            "\n",
            "Round 90/500\n",
            "Selected Clients: [76 77 91 14 38 22 72  5 44 97]\n",
            "Avg Client Loss: 2.5568 | Avg Client Accuracy: 34.92%\n",
            "Evaluation Loss:2.4809 | Val Accuracy: 38.90%\n",
            "--------------------------------------------------\n",
            "Checkpoint salvato su: /content/drive/MyDrive/FL/FederatedLearningProject/checkpoints/FL/dino_vits16_J4_rounds_500_checkpoint.pth\n",
            "\n",
            "Round 100/500\n",
            "Selected Clients: [52 76 70 68  1 53 61 73 27 22]\n",
            "Avg Client Loss: 2.5479 | Avg Client Accuracy: 37.07%\n",
            "Evaluation Loss:2.4433 | Val Accuracy: 39.35%\n",
            "--------------------------------------------------\n",
            "Checkpoint salvato su: /content/drive/MyDrive/FL/FederatedLearningProject/checkpoints/FL/dino_vits16_J4_rounds_500_checkpoint.pth\n",
            "\n",
            "Round 110/500\n",
            "Selected Clients: [46 85 94 34 29 66 60 42 70 13]\n",
            "Avg Client Loss: 2.4427 | Avg Client Accuracy: 37.85%\n",
            "Evaluation Loss:2.4035 | Val Accuracy: 40.32%\n",
            "--------------------------------------------------\n",
            "Checkpoint salvato su: /content/drive/MyDrive/FL/FederatedLearningProject/checkpoints/FL/dino_vits16_J4_rounds_500_checkpoint.pth\n",
            "\n",
            "Round 120/500\n",
            "Selected Clients: [17 79 82 11 72 28 63 60 87 22]\n",
            "Avg Client Loss: 2.4837 | Avg Client Accuracy: 37.93%\n",
            "Evaluation Loss:2.3760 | Val Accuracy: 40.99%\n",
            "--------------------------------------------------\n",
            "Checkpoint salvato su: /content/drive/MyDrive/FL/FederatedLearningProject/checkpoints/FL/dino_vits16_J4_rounds_500_checkpoint.pth\n",
            "\n",
            "Round 130/500\n",
            "Selected Clients: [14 11 88 91 36  6 71 56 68  4]\n",
            "Avg Client Loss: 2.5083 | Avg Client Accuracy: 36.52%\n",
            "Evaluation Loss:2.3516 | Val Accuracy: 41.48%\n",
            "--------------------------------------------------\n",
            "Checkpoint salvato su: /content/drive/MyDrive/FL/FederatedLearningProject/checkpoints/FL/dino_vits16_J4_rounds_500_checkpoint.pth\n",
            "\n",
            "Round 140/500\n",
            "Selected Clients: [28 30 88 42 14 34 69 40 43 68]\n",
            "Avg Client Loss: 2.3709 | Avg Client Accuracy: 39.41%\n",
            "Evaluation Loss:2.3323 | Val Accuracy: 41.45%\n",
            "--------------------------------------------------\n",
            "Checkpoint salvato su: /content/drive/MyDrive/FL/FederatedLearningProject/checkpoints/FL/dino_vits16_J4_rounds_500_checkpoint.pth\n",
            "\n",
            "Round 150/500\n",
            "Selected Clients: [88 77 90 65 95 54 47 40 29 74]\n",
            "Avg Client Loss: 2.3289 | Avg Client Accuracy: 40.55%\n",
            "Evaluation Loss:2.3091 | Val Accuracy: 41.83%\n",
            "--------------------------------------------------\n",
            "Checkpoint salvato su: /content/drive/MyDrive/FL/FederatedLearningProject/checkpoints/FL/dino_vits16_J4_rounds_500_checkpoint.pth\n",
            "\n",
            "Round 160/500\n",
            "Selected Clients: [73 13 39 60 65 79 90 74 52 98]\n",
            "Avg Client Loss: 2.3860 | Avg Client Accuracy: 38.01%\n",
            "Evaluation Loss:2.2905 | Val Accuracy: 42.36%\n",
            "--------------------------------------------------\n",
            "Checkpoint salvato su: /content/drive/MyDrive/FL/FederatedLearningProject/checkpoints/FL/dino_vits16_J4_rounds_500_checkpoint.pth\n",
            "\n",
            "Round 170/500\n",
            "Selected Clients: [31 61 27 80 19 30 87 14 59 46]\n",
            "Avg Client Loss: 2.4185 | Avg Client Accuracy: 37.81%\n",
            "Evaluation Loss:2.2870 | Val Accuracy: 42.44%\n",
            "--------------------------------------------------\n",
            "Checkpoint salvato su: /content/drive/MyDrive/FL/FederatedLearningProject/checkpoints/FL/dino_vits16_J4_rounds_500_checkpoint.pth\n",
            "\n",
            "Round 180/500\n",
            "Selected Clients: [72 25 27 78 99 87 57 33 11 22]\n",
            "Avg Client Loss: 2.3463 | Avg Client Accuracy: 39.65%\n",
            "Evaluation Loss:2.2657 | Val Accuracy: 43.26%\n",
            "--------------------------------------------------\n",
            "Checkpoint salvato su: /content/drive/MyDrive/FL/FederatedLearningProject/checkpoints/FL/dino_vits16_J4_rounds_500_checkpoint.pth\n",
            "\n",
            "Round 190/500\n",
            "Selected Clients: [68  7 19 16 94 45 51 43 75 52]\n",
            "Avg Client Loss: 2.2623 | Avg Client Accuracy: 40.78%\n",
            "Evaluation Loss:2.2557 | Val Accuracy: 43.29%\n",
            "--------------------------------------------------\n",
            "Checkpoint salvato su: /content/drive/MyDrive/FL/FederatedLearningProject/checkpoints/FL/dino_vits16_J4_rounds_500_checkpoint.pth\n",
            "\n",
            "Round 200/500\n",
            "Selected Clients: [61 11 58 85 10 54 20 33 59 95]\n",
            "Avg Client Loss: 2.3256 | Avg Client Accuracy: 40.08%\n",
            "Evaluation Loss:2.2470 | Val Accuracy: 43.41%\n",
            "--------------------------------------------------\n",
            "Checkpoint salvato su: /content/drive/MyDrive/FL/FederatedLearningProject/checkpoints/FL/dino_vits16_J4_rounds_500_checkpoint.pth\n",
            "\n",
            "Round 210/500\n",
            "Selected Clients: [10 77 84 81 54 70 78 14 29 32]\n",
            "Avg Client Loss: 2.2781 | Avg Client Accuracy: 41.99%\n",
            "Evaluation Loss:2.2429 | Val Accuracy: 43.50%\n",
            "--------------------------------------------------\n",
            "Checkpoint salvato su: /content/drive/MyDrive/FL/FederatedLearningProject/checkpoints/FL/dino_vits16_J4_rounds_500_checkpoint.pth\n",
            "\n",
            "Round 220/500\n",
            "Selected Clients: [86 75 14 60 93  5 18 31 20 46]\n",
            "Avg Client Loss: 2.2745 | Avg Client Accuracy: 40.47%\n",
            "Evaluation Loss:2.2368 | Val Accuracy: 43.67%\n",
            "--------------------------------------------------\n",
            "Checkpoint salvato su: /content/drive/MyDrive/FL/FederatedLearningProject/checkpoints/FL/dino_vits16_J4_rounds_500_checkpoint.pth\n",
            "\n",
            "Round 230/500\n",
            "Selected Clients: [93 26 18 30 66 35 45 87  2  9]\n",
            "Avg Client Loss: 2.2481 | Avg Client Accuracy: 42.66%\n",
            "Evaluation Loss:2.2345 | Val Accuracy: 44.00%\n",
            "--------------------------------------------------\n",
            "Checkpoint salvato su: /content/drive/MyDrive/FL/FederatedLearningProject/checkpoints/FL/dino_vits16_J4_rounds_500_checkpoint.pth\n",
            "\n",
            "Round 240/500\n",
            "Selected Clients: [36 63 11 46 34 29 87 52 25 75]\n",
            "Avg Client Loss: 2.2819 | Avg Client Accuracy: 41.56%\n",
            "Evaluation Loss:2.2277 | Val Accuracy: 44.06%\n",
            "--------------------------------------------------\n",
            "Checkpoint salvato su: /content/drive/MyDrive/FL/FederatedLearningProject/checkpoints/FL/dino_vits16_J4_rounds_500_checkpoint.pth\n",
            "\n",
            "Round 250/500\n",
            "Selected Clients: [58 63 35 17 71 48 31 37 42 33]\n",
            "Avg Client Loss: 2.1925 | Avg Client Accuracy: 42.66%\n",
            "Evaluation Loss:2.2166 | Val Accuracy: 44.34%\n",
            "--------------------------------------------------\n",
            "Checkpoint salvato su: /content/drive/MyDrive/FL/FederatedLearningProject/checkpoints/FL/dino_vits16_J4_rounds_500_checkpoint.pth\n",
            "\n",
            "Round 260/500\n",
            "Selected Clients: [62  0 76  1 29 24 16 71 94 59]\n",
            "Avg Client Loss: 2.2204 | Avg Client Accuracy: 41.88%\n",
            "Evaluation Loss:2.2135 | Val Accuracy: 44.10%\n",
            "--------------------------------------------------\n",
            "Checkpoint salvato su: /content/drive/MyDrive/FL/FederatedLearningProject/checkpoints/FL/dino_vits16_J4_rounds_500_checkpoint.pth\n",
            "\n",
            "Round 270/500\n",
            "Selected Clients: [48 59 61 74 53 54 10 93  2 22]\n",
            "Avg Client Loss: 2.1983 | Avg Client Accuracy: 43.75%\n",
            "Evaluation Loss:2.2024 | Val Accuracy: 44.74%\n",
            "--------------------------------------------------\n",
            "Checkpoint salvato su: /content/drive/MyDrive/FL/FederatedLearningProject/checkpoints/FL/dino_vits16_J4_rounds_500_checkpoint.pth\n",
            "\n",
            "Round 280/500\n",
            "Selected Clients: [79 77 59 12 50 99 54  4 19 88]\n",
            "Avg Client Loss: 2.2498 | Avg Client Accuracy: 42.27%\n",
            "Evaluation Loss:2.2039 | Val Accuracy: 44.54%\n",
            "--------------------------------------------------\n",
            "Checkpoint salvato su: /content/drive/MyDrive/FL/FederatedLearningProject/checkpoints/FL/dino_vits16_J4_rounds_500_checkpoint.pth\n",
            "\n",
            "Round 290/500\n",
            "Selected Clients: [40 72 29 15 89  4 56  3 49 17]\n",
            "Avg Client Loss: 2.1803 | Avg Client Accuracy: 43.20%\n",
            "Evaluation Loss:2.1965 | Val Accuracy: 44.93%\n",
            "--------------------------------------------------\n",
            "Checkpoint salvato su: /content/drive/MyDrive/FL/FederatedLearningProject/checkpoints/FL/dino_vits16_J4_rounds_500_checkpoint.pth\n",
            "\n",
            "Round 300/500\n",
            "Selected Clients: [ 4 67 95 69 46 98 84 43 61 64]\n",
            "Avg Client Loss: 2.2147 | Avg Client Accuracy: 41.02%\n",
            "Evaluation Loss:2.2014 | Val Accuracy: 44.85%\n",
            "--------------------------------------------------\n",
            "Checkpoint salvato su: /content/drive/MyDrive/FL/FederatedLearningProject/checkpoints/FL/dino_vits16_J4_rounds_500_checkpoint.pth\n",
            "\n",
            "Round 310/500\n",
            "Selected Clients: [52 92 57 60 53 22 40  5 93 43]\n",
            "Avg Client Loss: 2.1811 | Avg Client Accuracy: 43.48%\n",
            "Evaluation Loss:2.1993 | Val Accuracy: 44.55%\n",
            "--------------------------------------------------\n",
            "Checkpoint salvato su: /content/drive/MyDrive/FL/FederatedLearningProject/checkpoints/FL/dino_vits16_J4_rounds_500_checkpoint.pth\n",
            "\n",
            "Round 320/500\n",
            "Selected Clients: [64 23 73 49 98 12 68 75 84 82]\n",
            "Avg Client Loss: 2.2216 | Avg Client Accuracy: 42.66%\n",
            "Evaluation Loss:2.1835 | Val Accuracy: 44.95%\n",
            "--------------------------------------------------\n",
            "Checkpoint salvato su: /content/drive/MyDrive/FL/FederatedLearningProject/checkpoints/FL/dino_vits16_J4_rounds_500_checkpoint.pth\n",
            "\n",
            "Round 330/500\n",
            "Selected Clients: [60 53 35 10 56 34 70 69 55 39]\n",
            "Avg Client Loss: 2.2140 | Avg Client Accuracy: 43.24%\n",
            "Evaluation Loss:2.1698 | Val Accuracy: 45.56%\n",
            "--------------------------------------------------\n",
            "Checkpoint salvato su: /content/drive/MyDrive/FL/FederatedLearningProject/checkpoints/FL/dino_vits16_J4_rounds_500_checkpoint.pth\n",
            "\n",
            "Round 340/500\n",
            "Selected Clients: [ 0 65 53 14 87 69 83 71 61 36]\n",
            "Avg Client Loss: 2.1394 | Avg Client Accuracy: 43.98%\n",
            "Evaluation Loss:2.1781 | Val Accuracy: 45.32%\n",
            "--------------------------------------------------\n",
            "Checkpoint salvato su: /content/drive/MyDrive/FL/FederatedLearningProject/checkpoints/FL/dino_vits16_J4_rounds_500_checkpoint.pth\n",
            "\n",
            "Round 350/500\n",
            "Selected Clients: [84 26 13 60 64 96 21 25 91 46]\n",
            "Avg Client Loss: 2.2169 | Avg Client Accuracy: 43.44%\n",
            "Evaluation Loss:2.1782 | Val Accuracy: 45.28%\n",
            "--------------------------------------------------\n",
            "Checkpoint salvato su: /content/drive/MyDrive/FL/FederatedLearningProject/checkpoints/FL/dino_vits16_J4_rounds_500_checkpoint.pth\n",
            "\n",
            "Round 360/500\n",
            "Selected Clients: [72 89  2 90 55  8 35 96 74 60]\n",
            "Avg Client Loss: 2.1284 | Avg Client Accuracy: 44.53%\n",
            "Evaluation Loss:2.1649 | Val Accuracy: 45.29%\n",
            "--------------------------------------------------\n",
            "Checkpoint salvato su: /content/drive/MyDrive/FL/FederatedLearningProject/checkpoints/FL/dino_vits16_J4_rounds_500_checkpoint.pth\n",
            "\n",
            "Round 370/500\n",
            "Selected Clients: [45 64 42  7 62 65 78 27 34 87]\n",
            "Avg Client Loss: 2.1458 | Avg Client Accuracy: 43.52%\n",
            "Evaluation Loss:2.1708 | Val Accuracy: 45.29%\n",
            "--------------------------------------------------\n",
            "Checkpoint salvato su: /content/drive/MyDrive/FL/FederatedLearningProject/checkpoints/FL/dino_vits16_J4_rounds_500_checkpoint.pth\n",
            "\n",
            "Round 380/500\n",
            "Selected Clients: [91 49 31 29 85 94 68 11 78 33]\n",
            "Avg Client Loss: 2.2199 | Avg Client Accuracy: 41.99%\n",
            "Evaluation Loss:2.1714 | Val Accuracy: 45.57%\n",
            "--------------------------------------------------\n",
            "Checkpoint salvato su: /content/drive/MyDrive/FL/FederatedLearningProject/checkpoints/FL/dino_vits16_J4_rounds_500_checkpoint.pth\n",
            "\n",
            "Round 390/500\n",
            "Selected Clients: [26 99 36 40 30 28 65 63  1 97]\n",
            "Avg Client Loss: 2.1544 | Avg Client Accuracy: 43.75%\n",
            "Evaluation Loss:2.1561 | Val Accuracy: 46.01%\n",
            "--------------------------------------------------\n",
            "Checkpoint salvato su: /content/drive/MyDrive/FL/FederatedLearningProject/checkpoints/FL/dino_vits16_J4_rounds_500_checkpoint.pth\n",
            "\n",
            "Round 400/500\n",
            "Selected Clients: [59 20 31 77 61  6 13 75 80 87]\n",
            "Avg Client Loss: 2.1781 | Avg Client Accuracy: 42.66%\n",
            "Evaluation Loss:2.1624 | Val Accuracy: 45.61%\n",
            "--------------------------------------------------\n",
            "Checkpoint salvato su: /content/drive/MyDrive/FL/FederatedLearningProject/checkpoints/FL/dino_vits16_J4_rounds_500_checkpoint.pth\n",
            "\n",
            "Round 410/500\n",
            "Selected Clients: [69 20 56 57  3 95 82 12 50  8]\n",
            "Avg Client Loss: 2.1714 | Avg Client Accuracy: 42.54%\n",
            "Evaluation Loss:2.1583 | Val Accuracy: 46.09%\n",
            "--------------------------------------------------\n",
            "Checkpoint salvato su: /content/drive/MyDrive/FL/FederatedLearningProject/checkpoints/FL/dino_vits16_J4_rounds_500_checkpoint.pth\n",
            "\n",
            "Round 420/500\n",
            "Selected Clients: [70 25 92 69 66 16  0  2 23 54]\n",
            "Avg Client Loss: 2.1301 | Avg Client Accuracy: 44.22%\n",
            "Evaluation Loss:2.1567 | Val Accuracy: 46.35%\n",
            "--------------------------------------------------\n",
            "Checkpoint salvato su: /content/drive/MyDrive/FL/FederatedLearningProject/checkpoints/FL/dino_vits16_J4_rounds_500_checkpoint.pth\n",
            "\n",
            "Round 430/500\n",
            "Selected Clients: [26 24 44 13 82  1 94 56 92 55]\n",
            "Avg Client Loss: 2.1214 | Avg Client Accuracy: 44.06%\n",
            "Evaluation Loss:2.1642 | Val Accuracy: 46.03%\n",
            "--------------------------------------------------\n",
            "Checkpoint salvato su: /content/drive/MyDrive/FL/FederatedLearningProject/checkpoints/FL/dino_vits16_J4_rounds_500_checkpoint.pth\n",
            "\n",
            "Round 440/500\n",
            "Selected Clients: [56 11  5  8 26 58 32  9 21 13]\n",
            "Avg Client Loss: 2.1600 | Avg Client Accuracy: 43.71%\n",
            "Evaluation Loss:2.1614 | Val Accuracy: 45.93%\n",
            "--------------------------------------------------\n",
            "Checkpoint salvato su: /content/drive/MyDrive/FL/FederatedLearningProject/checkpoints/FL/dino_vits16_J4_rounds_500_checkpoint.pth\n",
            "\n",
            "Round 450/500\n",
            "Selected Clients: [ 9  8 23 31 30 26 18 99 87 17]\n",
            "Avg Client Loss: 2.1569 | Avg Client Accuracy: 43.40%\n",
            "Evaluation Loss:2.1514 | Val Accuracy: 46.42%\n",
            "--------------------------------------------------\n",
            "Checkpoint salvato su: /content/drive/MyDrive/FL/FederatedLearningProject/checkpoints/FL/dino_vits16_J4_rounds_500_checkpoint.pth\n",
            "\n",
            "Round 460/500\n",
            "Selected Clients: [73 42 10 72 13 82 64 49  3 89]\n",
            "Avg Client Loss: 2.1075 | Avg Client Accuracy: 43.79%\n",
            "Evaluation Loss:2.1600 | Val Accuracy: 46.06%\n",
            "--------------------------------------------------\n",
            "Checkpoint salvato su: /content/drive/MyDrive/FL/FederatedLearningProject/checkpoints/FL/dino_vits16_J4_rounds_500_checkpoint.pth\n",
            "\n",
            "Round 470/500\n",
            "Selected Clients: [74 41 29 71  2 60 18 63 21 75]\n",
            "Avg Client Loss: 2.0762 | Avg Client Accuracy: 44.45%\n",
            "Evaluation Loss:2.1475 | Val Accuracy: 46.42%\n",
            "--------------------------------------------------\n",
            "Checkpoint salvato su: /content/drive/MyDrive/FL/FederatedLearningProject/checkpoints/FL/dino_vits16_J4_rounds_500_checkpoint.pth\n",
            "\n",
            "Round 480/500\n",
            "Selected Clients: [69 16  2 54 60 34  3 57 80 71]\n",
            "Avg Client Loss: 2.1077 | Avg Client Accuracy: 44.69%\n",
            "Evaluation Loss:2.1575 | Val Accuracy: 46.13%\n",
            "--------------------------------------------------\n",
            "Checkpoint salvato su: /content/drive/MyDrive/FL/FederatedLearningProject/checkpoints/FL/dino_vits16_J4_rounds_500_checkpoint.pth\n",
            "\n",
            "Round 490/500\n",
            "Selected Clients: [61 58 94 74 86 53 56 69 26 60]\n",
            "Avg Client Loss: 2.1424 | Avg Client Accuracy: 42.89%\n",
            "Evaluation Loss:2.1607 | Val Accuracy: 46.22%\n",
            "--------------------------------------------------\n",
            "Checkpoint salvato su: /content/drive/MyDrive/FL/FederatedLearningProject/checkpoints/FL/dino_vits16_J4_rounds_500_checkpoint.pth\n",
            "\n",
            "Round 500/500\n",
            "Selected Clients: [85 22 89 72 44 61 82 19  0 73]\n",
            "Avg Client Loss: 2.1055 | Avg Client Accuracy: 44.73%\n",
            "Evaluation Loss:2.1495 | Val Accuracy: 46.30%\n",
            "--------------------------------------------------\n"
          ]
        },
        {
          "output_type": "display_data",
          "data": {
            "text/plain": [
              "<IPython.core.display.HTML object>"
            ],
            "text/html": []
          },
          "metadata": {}
        },
        {
          "output_type": "display_data",
          "data": {
            "text/plain": [
              "<IPython.core.display.HTML object>"
            ],
            "text/html": [
              "<br>    <style><br>        .wandb-row {<br>            display: flex;<br>            flex-direction: row;<br>            flex-wrap: wrap;<br>            justify-content: flex-start;<br>            width: 100%;<br>        }<br>        .wandb-col {<br>            display: flex;<br>            flex-direction: column;<br>            flex-basis: 100%;<br>            flex: 1;<br>            padding: 10px;<br>        }<br>    </style><br><div class=\"wandb-row\"><div class=\"wandb-col\"><h3>Run history:</h3><br/><table class=\"wandb\"><tr><td>client_avg_accuracy</td><td>▁▃▄▄▅▆▆▆▆▇▆▇▇▇▇▇▇▇▇██▇█▇████████████████</td></tr><tr><td>client_avg_loss</td><td>█▆▄▄▃▃▃▃▂▂▂▂▂▂▂▂▂▂▂▂▁▁▂▁▁▁▁▁▁▁▁▁▁▁▁▁▁▁▁▁</td></tr><tr><td>round</td><td>▁▁▁▁▂▂▂▂▂▂▃▃▃▃▃▄▄▄▄▄▅▅▅▅▅▆▆▆▆▆▆▇▇▇▇▇▇███</td></tr><tr><td>server_val_accuracy</td><td>▁▃▄▅▆▆▆▆▆▇▇▇▇▇▇▇▇▇▇▇▇███████████████████</td></tr><tr><td>server_val_loss</td><td>█▅▄▃▃▂▂▂▂▂▂▂▂▁▁▁▁▁▁▁▁▁▁▁▁▁▁▁▁▁▁▁▁▁▁▁▁▁▁▁</td></tr></table><br/></div><div class=\"wandb-col\"><h3>Run summary:</h3><br/><table class=\"wandb\"><tr><td>client_avg_accuracy</td><td>44.72656</td></tr><tr><td>client_avg_loss</td><td>2.10548</td></tr><tr><td>round</td><td>499</td></tr><tr><td>server_val_accuracy</td><td>46.3</td></tr><tr><td>server_val_loss</td><td>2.14952</td></tr></table><br/></div></div>"
            ]
          },
          "metadata": {}
        },
        {
          "output_type": "display_data",
          "data": {
            "text/plain": [
              "<IPython.core.display.HTML object>"
            ],
            "text/html": [
              " View run <strong style=\"color:#cdcd00\">dino_vits16_J4_rounds_500</strong> at: <a href='https://wandb.ai/depetrofabio-politecnico-di-torino/FederatedProject/runs/0oxwj91w' target=\"_blank\">https://wandb.ai/depetrofabio-politecnico-di-torino/FederatedProject/runs/0oxwj91w</a><br> View project at: <a href='https://wandb.ai/depetrofabio-politecnico-di-torino/FederatedProject' target=\"_blank\">https://wandb.ai/depetrofabio-politecnico-di-torino/FederatedProject</a><br>Synced 5 W&B file(s), 0 media file(s), 0 artifact file(s) and 0 other file(s)"
            ]
          },
          "metadata": {}
        },
        {
          "output_type": "display_data",
          "data": {
            "text/plain": [
              "<IPython.core.display.HTML object>"
            ],
            "text/html": [
              "Find logs at: <code>./wandb/run-20250630_141825-0oxwj91w/logs</code>"
            ]
          },
          "metadata": {}
        },
        {
          "output_type": "stream",
          "name": "stderr",
          "text": [
            "Using cache found in /root/.cache/torch/hub/facebookresearch_dino_main\n"
          ]
        },
        {
          "output_type": "stream",
          "name": "stdout",
          "text": [
            "moving model to cuda\n"
          ]
        },
        {
          "output_type": "display_data",
          "data": {
            "text/plain": [
              "<IPython.core.display.HTML object>"
            ],
            "text/html": [
              "Tracking run with wandb version 0.20.1"
            ]
          },
          "metadata": {}
        },
        {
          "output_type": "display_data",
          "data": {
            "text/plain": [
              "<IPython.core.display.HTML object>"
            ],
            "text/html": [
              "Run data is saved locally in <code>/content/drive/MyDrive/FL/wandb/run-20250630_143326-ppworloo</code>"
            ]
          },
          "metadata": {}
        },
        {
          "output_type": "display_data",
          "data": {
            "text/plain": [
              "<IPython.core.display.HTML object>"
            ],
            "text/html": [
              "Syncing run <strong><a href='https://wandb.ai/depetrofabio-politecnico-di-torino/FederatedProject/runs/ppworloo' target=\"_blank\">dino_vits16_J4_rounds_600</a></strong> to <a href='https://wandb.ai/depetrofabio-politecnico-di-torino/FederatedProject' target=\"_blank\">Weights & Biases</a> (<a href='https://wandb.me/developer-guide' target=\"_blank\">docs</a>)<br>"
            ]
          },
          "metadata": {}
        },
        {
          "output_type": "display_data",
          "data": {
            "text/plain": [
              "<IPython.core.display.HTML object>"
            ],
            "text/html": [
              " View project at <a href='https://wandb.ai/depetrofabio-politecnico-di-torino/FederatedProject' target=\"_blank\">https://wandb.ai/depetrofabio-politecnico-di-torino/FederatedProject</a>"
            ]
          },
          "metadata": {}
        },
        {
          "output_type": "display_data",
          "data": {
            "text/plain": [
              "<IPython.core.display.HTML object>"
            ],
            "text/html": [
              " View run at <a href='https://wandb.ai/depetrofabio-politecnico-di-torino/FederatedProject/runs/ppworloo' target=\"_blank\">https://wandb.ai/depetrofabio-politecnico-di-torino/FederatedProject/runs/ppworloo</a>"
            ]
          },
          "metadata": {}
        },
        {
          "output_type": "stream",
          "name": "stdout",
          "text": [
            " Nessun checkpoint trovato, inizio da round 1.\n",
            "\n",
            "Could not load model or optimizer state dictionary. Starting from scratch or with default initialization.\n",
            "\n",
            "--- Starting training for num_rounds = 600 ---\n",
            "Checkpoint salvato su: /content/drive/MyDrive/FL/FederatedLearningProject/checkpoints/FL/dino_vits16_J4_rounds_600_checkpoint.pth\n",
            "\n",
            "Round 10/600\n",
            "Selected Clients: [66 46 88 10 65 64 29 48 94 21]\n",
            "Avg Client Loss: 4.2258 | Avg Client Accuracy: 11.68%\n",
            "Evaluation Loss:4.2160 | Val Accuracy: 14.51%\n",
            "--------------------------------------------------\n",
            "Checkpoint salvato su: /content/drive/MyDrive/FL/FederatedLearningProject/checkpoints/FL/dino_vits16_J4_rounds_600_checkpoint.pth\n",
            "\n",
            "Round 20/600\n",
            "Selected Clients: [44 80 68 89 75 83  5 47 45 57]\n",
            "Avg Client Loss: 3.5220 | Avg Client Accuracy: 19.53%\n",
            "Evaluation Loss:3.4553 | Val Accuracy: 23.88%\n",
            "--------------------------------------------------\n",
            "Checkpoint salvato su: /content/drive/MyDrive/FL/FederatedLearningProject/checkpoints/FL/dino_vits16_J4_rounds_600_checkpoint.pth\n",
            "\n",
            "Round 30/600\n",
            "Selected Clients: [98  4 70 90 92 45 28  6 40 48]\n",
            "Avg Client Loss: 3.1523 | Avg Client Accuracy: 26.33%\n",
            "Evaluation Loss:3.0954 | Val Accuracy: 28.88%\n",
            "--------------------------------------------------\n",
            "Checkpoint salvato su: /content/drive/MyDrive/FL/FederatedLearningProject/checkpoints/FL/dino_vits16_J4_rounds_600_checkpoint.pth\n",
            "\n",
            "Round 40/600\n",
            "Selected Clients: [40 24 58 93 34 52 43 19 67 59]\n",
            "Avg Client Loss: 2.9991 | Avg Client Accuracy: 28.28%\n",
            "Evaluation Loss:2.9041 | Val Accuracy: 32.02%\n",
            "--------------------------------------------------\n",
            "Checkpoint salvato su: /content/drive/MyDrive/FL/FederatedLearningProject/checkpoints/FL/dino_vits16_J4_rounds_600_checkpoint.pth\n",
            "\n",
            "Round 50/600\n",
            "Selected Clients: [75 50 58 89 96 73 45  0 47 10]\n",
            "Avg Client Loss: 2.8429 | Avg Client Accuracy: 31.91%\n",
            "Evaluation Loss:2.7723 | Val Accuracy: 34.23%\n",
            "--------------------------------------------------\n",
            "Checkpoint salvato su: /content/drive/MyDrive/FL/FederatedLearningProject/checkpoints/FL/dino_vits16_J4_rounds_600_checkpoint.pth\n",
            "\n",
            "Round 60/600\n",
            "Selected Clients: [62 76 84  1 59 27 25  6 17 40]\n",
            "Avg Client Loss: 2.7110 | Avg Client Accuracy: 33.20%\n",
            "Evaluation Loss:2.6623 | Val Accuracy: 35.88%\n",
            "--------------------------------------------------\n",
            "Checkpoint salvato su: /content/drive/MyDrive/FL/FederatedLearningProject/checkpoints/FL/dino_vits16_J4_rounds_600_checkpoint.pth\n",
            "\n",
            "Round 70/600\n",
            "Selected Clients: [77  3 50 71 29 13 32 62 68  0]\n",
            "Avg Client Loss: 2.6689 | Avg Client Accuracy: 34.57%\n",
            "Evaluation Loss:2.6033 | Val Accuracy: 37.20%\n",
            "--------------------------------------------------\n",
            "Checkpoint salvato su: /content/drive/MyDrive/FL/FederatedLearningProject/checkpoints/FL/dino_vits16_J4_rounds_600_checkpoint.pth\n",
            "\n",
            "Round 80/600\n",
            "Selected Clients: [ 5 11  1 34 27 16  9 38 15 94]\n",
            "Avg Client Loss: 2.6447 | Avg Client Accuracy: 33.91%\n",
            "Evaluation Loss:2.5407 | Val Accuracy: 38.11%\n",
            "--------------------------------------------------\n",
            "Checkpoint salvato su: /content/drive/MyDrive/FL/FederatedLearningProject/checkpoints/FL/dino_vits16_J4_rounds_600_checkpoint.pth\n",
            "\n",
            "Round 90/600\n",
            "Selected Clients: [14 80 90 54 86 72 88 32  0 84]\n",
            "Avg Client Loss: 2.5956 | Avg Client Accuracy: 34.88%\n",
            "Evaluation Loss:2.4878 | Val Accuracy: 39.05%\n",
            "--------------------------------------------------\n",
            "Checkpoint salvato su: /content/drive/MyDrive/FL/FederatedLearningProject/checkpoints/FL/dino_vits16_J4_rounds_600_checkpoint.pth\n",
            "\n",
            "Round 100/600\n",
            "Selected Clients: [ 4 24 95 16 30  1 36 76 79 15]\n",
            "Avg Client Loss: 2.5231 | Avg Client Accuracy: 36.88%\n",
            "Evaluation Loss:2.4450 | Val Accuracy: 39.80%\n",
            "--------------------------------------------------\n",
            "Checkpoint salvato su: /content/drive/MyDrive/FL/FederatedLearningProject/checkpoints/FL/dino_vits16_J4_rounds_600_checkpoint.pth\n",
            "\n",
            "Round 110/600\n",
            "Selected Clients: [49 20  9 16 64  6 81 39 32 99]\n",
            "Avg Client Loss: 2.4373 | Avg Client Accuracy: 38.20%\n",
            "Evaluation Loss:2.4150 | Val Accuracy: 40.49%\n",
            "--------------------------------------------------\n",
            "Checkpoint salvato su: /content/drive/MyDrive/FL/FederatedLearningProject/checkpoints/FL/dino_vits16_J4_rounds_600_checkpoint.pth\n",
            "\n",
            "Round 120/600\n",
            "Selected Clients: [51 80 35 71 36 26 32 98 74 97]\n",
            "Avg Client Loss: 2.4117 | Avg Client Accuracy: 38.71%\n",
            "Evaluation Loss:2.3929 | Val Accuracy: 40.60%\n",
            "--------------------------------------------------\n",
            "Checkpoint salvato su: /content/drive/MyDrive/FL/FederatedLearningProject/checkpoints/FL/dino_vits16_J4_rounds_600_checkpoint.pth\n",
            "\n",
            "Round 130/600\n",
            "Selected Clients: [25 78 47 43 56 28 81 54 22 15]\n",
            "Avg Client Loss: 2.4724 | Avg Client Accuracy: 37.15%\n",
            "Evaluation Loss:2.3577 | Val Accuracy: 41.37%\n",
            "--------------------------------------------------\n",
            "Checkpoint salvato su: /content/drive/MyDrive/FL/FederatedLearningProject/checkpoints/FL/dino_vits16_J4_rounds_600_checkpoint.pth\n",
            "\n",
            "Round 140/600\n",
            "Selected Clients: [70  4 12 92  6 16 87  3 77 91]\n",
            "Avg Client Loss: 2.3960 | Avg Client Accuracy: 38.63%\n",
            "Evaluation Loss:2.3435 | Val Accuracy: 42.18%\n",
            "--------------------------------------------------\n",
            "Checkpoint salvato su: /content/drive/MyDrive/FL/FederatedLearningProject/checkpoints/FL/dino_vits16_J4_rounds_600_checkpoint.pth\n",
            "\n",
            "Round 150/600\n",
            "Selected Clients: [65 47 74 79  3 11  2 22 60 94]\n",
            "Avg Client Loss: 2.3493 | Avg Client Accuracy: 39.80%\n",
            "Evaluation Loss:2.3250 | Val Accuracy: 42.16%\n",
            "--------------------------------------------------\n",
            "Checkpoint salvato su: /content/drive/MyDrive/FL/FederatedLearningProject/checkpoints/FL/dino_vits16_J4_rounds_600_checkpoint.pth\n",
            "\n",
            "Round 160/600\n",
            "Selected Clients: [21 98 50 12 35 42 79 99 34  0]\n",
            "Avg Client Loss: 2.3724 | Avg Client Accuracy: 38.59%\n",
            "Evaluation Loss:2.3032 | Val Accuracy: 42.69%\n",
            "--------------------------------------------------\n",
            "Checkpoint salvato su: /content/drive/MyDrive/FL/FederatedLearningProject/checkpoints/FL/dino_vits16_J4_rounds_600_checkpoint.pth\n",
            "\n",
            "Round 170/600\n",
            "Selected Clients: [16 15 94 77 85 98 38 65 42 54]\n",
            "Avg Client Loss: 2.3013 | Avg Client Accuracy: 40.82%\n",
            "Evaluation Loss:2.2999 | Val Accuracy: 42.85%\n",
            "--------------------------------------------------\n",
            "Checkpoint salvato su: /content/drive/MyDrive/FL/FederatedLearningProject/checkpoints/FL/dino_vits16_J4_rounds_600_checkpoint.pth\n",
            "\n",
            "Round 180/600\n",
            "Selected Clients: [39 28 70 26 98 69 47 80 76 56]\n",
            "Avg Client Loss: 2.3995 | Avg Client Accuracy: 39.53%\n",
            "Evaluation Loss:2.2707 | Val Accuracy: 43.34%\n",
            "--------------------------------------------------\n",
            "Checkpoint salvato su: /content/drive/MyDrive/FL/FederatedLearningProject/checkpoints/FL/dino_vits16_J4_rounds_600_checkpoint.pth\n",
            "\n",
            "Round 190/600\n",
            "Selected Clients: [97  5 81 94 14 71 31 85  4 77]\n",
            "Avg Client Loss: 2.2737 | Avg Client Accuracy: 41.76%\n",
            "Evaluation Loss:2.2714 | Val Accuracy: 43.44%\n",
            "--------------------------------------------------\n",
            "Checkpoint salvato su: /content/drive/MyDrive/FL/FederatedLearningProject/checkpoints/FL/dino_vits16_J4_rounds_600_checkpoint.pth\n",
            "\n",
            "Round 200/600\n",
            "Selected Clients: [20 62 11 39  0 45  5 75 31 47]\n",
            "Avg Client Loss: 2.3345 | Avg Client Accuracy: 41.02%\n",
            "Evaluation Loss:2.2512 | Val Accuracy: 44.09%\n",
            "--------------------------------------------------\n",
            "Checkpoint salvato su: /content/drive/MyDrive/FL/FederatedLearningProject/checkpoints/FL/dino_vits16_J4_rounds_600_checkpoint.pth\n",
            "\n",
            "Round 210/600\n",
            "Selected Clients: [26 48 18 99 57 52 32 21 37 91]\n",
            "Avg Client Loss: 2.3070 | Avg Client Accuracy: 39.73%\n",
            "Evaluation Loss:2.2504 | Val Accuracy: 44.30%\n",
            "--------------------------------------------------\n",
            "Checkpoint salvato su: /content/drive/MyDrive/FL/FederatedLearningProject/checkpoints/FL/dino_vits16_J4_rounds_600_checkpoint.pth\n",
            "\n",
            "Round 220/600\n",
            "Selected Clients: [50 23 70 62 80  0 74 41 43 37]\n",
            "Avg Client Loss: 2.2328 | Avg Client Accuracy: 41.76%\n",
            "Evaluation Loss:2.2388 | Val Accuracy: 43.98%\n",
            "--------------------------------------------------\n",
            "Checkpoint salvato su: /content/drive/MyDrive/FL/FederatedLearningProject/checkpoints/FL/dino_vits16_J4_rounds_600_checkpoint.pth\n",
            "\n",
            "Round 230/600\n",
            "Selected Clients: [86 80 97 31 12 77 82 27 64 34]\n",
            "Avg Client Loss: 2.2107 | Avg Client Accuracy: 42.46%\n",
            "Evaluation Loss:2.2341 | Val Accuracy: 43.98%\n",
            "--------------------------------------------------\n",
            "Checkpoint salvato su: /content/drive/MyDrive/FL/FederatedLearningProject/checkpoints/FL/dino_vits16_J4_rounds_600_checkpoint.pth\n",
            "\n",
            "Round 240/600\n",
            "Selected Clients: [72 46 28 95 12 16 41 23 47 92]\n",
            "Avg Client Loss: 2.2988 | Avg Client Accuracy: 41.13%\n",
            "Evaluation Loss:2.2231 | Val Accuracy: 44.58%\n",
            "--------------------------------------------------\n",
            "Checkpoint salvato su: /content/drive/MyDrive/FL/FederatedLearningProject/checkpoints/FL/dino_vits16_J4_rounds_600_checkpoint.pth\n",
            "\n",
            "Round 250/600\n",
            "Selected Clients: [91 23 80 59 35 66 62 40 52 88]\n",
            "Avg Client Loss: 2.2703 | Avg Client Accuracy: 41.91%\n",
            "Evaluation Loss:2.2056 | Val Accuracy: 45.08%\n",
            "--------------------------------------------------\n",
            "Checkpoint salvato su: /content/drive/MyDrive/FL/FederatedLearningProject/checkpoints/FL/dino_vits16_J4_rounds_600_checkpoint.pth\n",
            "\n",
            "Round 260/600\n",
            "Selected Clients: [64 67  3 74 96 12 97 27 32 41]\n",
            "Avg Client Loss: 2.1729 | Avg Client Accuracy: 42.73%\n",
            "Evaluation Loss:2.2095 | Val Accuracy: 45.06%\n",
            "--------------------------------------------------\n",
            "Checkpoint salvato su: /content/drive/MyDrive/FL/FederatedLearningProject/checkpoints/FL/dino_vits16_J4_rounds_600_checkpoint.pth\n",
            "\n",
            "Round 270/600\n",
            "Selected Clients: [99 46 31 85 95 48 59 16 81 63]\n",
            "Avg Client Loss: 2.2530 | Avg Client Accuracy: 41.99%\n",
            "Evaluation Loss:2.2080 | Val Accuracy: 44.90%\n",
            "--------------------------------------------------\n",
            "Checkpoint salvato su: /content/drive/MyDrive/FL/FederatedLearningProject/checkpoints/FL/dino_vits16_J4_rounds_600_checkpoint.pth\n",
            "\n",
            "Round 280/600\n",
            "Selected Clients: [75 68 36 44 15 65 48 98 53 85]\n",
            "Avg Client Loss: 2.2183 | Avg Client Accuracy: 41.21%\n",
            "Evaluation Loss:2.2057 | Val Accuracy: 45.30%\n",
            "--------------------------------------------------\n",
            "Checkpoint salvato su: /content/drive/MyDrive/FL/FederatedLearningProject/checkpoints/FL/dino_vits16_J4_rounds_600_checkpoint.pth\n",
            "\n",
            "Round 290/600\n",
            "Selected Clients: [18 45 88 72 94 96 35 78 52 56]\n",
            "Avg Client Loss: 2.2313 | Avg Client Accuracy: 42.07%\n",
            "Evaluation Loss:2.2096 | Val Accuracy: 44.57%\n",
            "--------------------------------------------------\n",
            "Checkpoint salvato su: /content/drive/MyDrive/FL/FederatedLearningProject/checkpoints/FL/dino_vits16_J4_rounds_600_checkpoint.pth\n",
            "\n",
            "Round 300/600\n",
            "Selected Clients: [85  4 70 74 61 87 27 29 66 92]\n",
            "Avg Client Loss: 2.1969 | Avg Client Accuracy: 43.59%\n",
            "Evaluation Loss:2.1934 | Val Accuracy: 45.31%\n",
            "--------------------------------------------------\n",
            "Checkpoint salvato su: /content/drive/MyDrive/FL/FederatedLearningProject/checkpoints/FL/dino_vits16_J4_rounds_600_checkpoint.pth\n",
            "\n",
            "Round 310/600\n",
            "Selected Clients: [13 37 98 50 57 73 19 48 81 24]\n",
            "Avg Client Loss: 2.1787 | Avg Client Accuracy: 41.95%\n",
            "Evaluation Loss:2.1958 | Val Accuracy: 45.23%\n",
            "--------------------------------------------------\n",
            "Checkpoint salvato su: /content/drive/MyDrive/FL/FederatedLearningProject/checkpoints/FL/dino_vits16_J4_rounds_600_checkpoint.pth\n",
            "\n",
            "Round 320/600\n",
            "Selected Clients: [56 48 36 47 38  1 23 30 24 92]\n",
            "Avg Client Loss: 2.1420 | Avg Client Accuracy: 42.97%\n",
            "Evaluation Loss:2.1888 | Val Accuracy: 45.53%\n",
            "--------------------------------------------------\n",
            "Checkpoint salvato su: /content/drive/MyDrive/FL/FederatedLearningProject/checkpoints/FL/dino_vits16_J4_rounds_600_checkpoint.pth\n",
            "\n",
            "Round 330/600\n",
            "Selected Clients: [68 23 58 79 71 97 31 12  4  2]\n",
            "Avg Client Loss: 2.1470 | Avg Client Accuracy: 43.59%\n",
            "Evaluation Loss:2.1878 | Val Accuracy: 45.52%\n",
            "--------------------------------------------------\n",
            "Checkpoint salvato su: /content/drive/MyDrive/FL/FederatedLearningProject/checkpoints/FL/dino_vits16_J4_rounds_600_checkpoint.pth\n",
            "\n",
            "Round 340/600\n",
            "Selected Clients: [18 56  3 12  6 46 33 57 69 76]\n",
            "Avg Client Loss: 2.1575 | Avg Client Accuracy: 44.26%\n",
            "Evaluation Loss:2.1978 | Val Accuracy: 45.20%\n",
            "--------------------------------------------------\n",
            "Checkpoint salvato su: /content/drive/MyDrive/FL/FederatedLearningProject/checkpoints/FL/dino_vits16_J4_rounds_600_checkpoint.pth\n",
            "\n",
            "Round 350/600\n",
            "Selected Clients: [46 68 70 48 57  1 54 55 47 22]\n",
            "Avg Client Loss: 2.2683 | Avg Client Accuracy: 40.62%\n",
            "Evaluation Loss:2.1933 | Val Accuracy: 45.47%\n",
            "--------------------------------------------------\n",
            "Checkpoint salvato su: /content/drive/MyDrive/FL/FederatedLearningProject/checkpoints/FL/dino_vits16_J4_rounds_600_checkpoint.pth\n",
            "\n",
            "Round 360/600\n",
            "Selected Clients: [ 5 95 39 88 15 89 56  6 55 94]\n",
            "Avg Client Loss: 2.1636 | Avg Client Accuracy: 42.73%\n",
            "Evaluation Loss:2.1843 | Val Accuracy: 45.66%\n",
            "--------------------------------------------------\n",
            "Checkpoint salvato su: /content/drive/MyDrive/FL/FederatedLearningProject/checkpoints/FL/dino_vits16_J4_rounds_600_checkpoint.pth\n",
            "\n",
            "Round 370/600\n",
            "Selected Clients: [59 37 63 51 54  3 93  5 23 73]\n",
            "Avg Client Loss: 2.1456 | Avg Client Accuracy: 42.50%\n",
            "Evaluation Loss:2.1782 | Val Accuracy: 45.73%\n",
            "--------------------------------------------------\n",
            "Checkpoint salvato su: /content/drive/MyDrive/FL/FederatedLearningProject/checkpoints/FL/dino_vits16_J4_rounds_600_checkpoint.pth\n",
            "\n",
            "Round 380/600\n",
            "Selected Clients: [ 4 50 94 88 98 60 31 41 13 57]\n",
            "Avg Client Loss: 2.1246 | Avg Client Accuracy: 43.44%\n",
            "Evaluation Loss:2.1735 | Val Accuracy: 45.77%\n",
            "--------------------------------------------------\n",
            "Checkpoint salvato su: /content/drive/MyDrive/FL/FederatedLearningProject/checkpoints/FL/dino_vits16_J4_rounds_600_checkpoint.pth\n",
            "\n",
            "Round 390/600\n",
            "Selected Clients: [ 8 70 73 47 74 93 89 23 97 20]\n",
            "Avg Client Loss: 2.2206 | Avg Client Accuracy: 41.72%\n",
            "Evaluation Loss:2.1839 | Val Accuracy: 45.79%\n",
            "--------------------------------------------------\n",
            "Checkpoint salvato su: /content/drive/MyDrive/FL/FederatedLearningProject/checkpoints/FL/dino_vits16_J4_rounds_600_checkpoint.pth\n",
            "\n",
            "Round 400/600\n",
            "Selected Clients: [25 83 99 90  9 24 65 52 85 26]\n",
            "Avg Client Loss: 2.1223 | Avg Client Accuracy: 45.20%\n",
            "Evaluation Loss:2.1727 | Val Accuracy: 45.82%\n",
            "--------------------------------------------------\n",
            "Checkpoint salvato su: /content/drive/MyDrive/FL/FederatedLearningProject/checkpoints/FL/dino_vits16_J4_rounds_600_checkpoint.pth\n",
            "\n",
            "Round 410/600\n",
            "Selected Clients: [50 64  8 74 46 26 99  7 32 66]\n",
            "Avg Client Loss: 2.2766 | Avg Client Accuracy: 41.48%\n",
            "Evaluation Loss:2.1723 | Val Accuracy: 46.00%\n",
            "--------------------------------------------------\n",
            "Checkpoint salvato su: /content/drive/MyDrive/FL/FederatedLearningProject/checkpoints/FL/dino_vits16_J4_rounds_600_checkpoint.pth\n",
            "\n",
            "Round 420/600\n",
            "Selected Clients: [26 80 13 51 61 59 62 29 99 83]\n",
            "Avg Client Loss: 2.1449 | Avg Client Accuracy: 43.20%\n",
            "Evaluation Loss:2.1633 | Val Accuracy: 46.36%\n",
            "--------------------------------------------------\n",
            "Checkpoint salvato su: /content/drive/MyDrive/FL/FederatedLearningProject/checkpoints/FL/dino_vits16_J4_rounds_600_checkpoint.pth\n",
            "\n",
            "Round 430/600\n",
            "Selected Clients: [13 67 37  1 56 75  7 55 33  6]\n",
            "Avg Client Loss: 2.1007 | Avg Client Accuracy: 43.91%\n",
            "Evaluation Loss:2.1624 | Val Accuracy: 46.25%\n",
            "--------------------------------------------------\n",
            "Checkpoint salvato su: /content/drive/MyDrive/FL/FederatedLearningProject/checkpoints/FL/dino_vits16_J4_rounds_600_checkpoint.pth\n",
            "\n",
            "Round 440/600\n",
            "Selected Clients: [ 5 33 68 31 16 60 71 49 79 91]\n",
            "Avg Client Loss: 2.1955 | Avg Client Accuracy: 42.34%\n",
            "Evaluation Loss:2.1688 | Val Accuracy: 45.67%\n",
            "--------------------------------------------------\n",
            "Checkpoint salvato su: /content/drive/MyDrive/FL/FederatedLearningProject/checkpoints/FL/dino_vits16_J4_rounds_600_checkpoint.pth\n",
            "\n",
            "Round 450/600\n",
            "Selected Clients: [98 49  0 88  1  9 31 99 92 48]\n",
            "Avg Client Loss: 2.1387 | Avg Client Accuracy: 43.83%\n",
            "Evaluation Loss:2.1684 | Val Accuracy: 46.09%\n",
            "--------------------------------------------------\n",
            "Checkpoint salvato su: /content/drive/MyDrive/FL/FederatedLearningProject/checkpoints/FL/dino_vits16_J4_rounds_600_checkpoint.pth\n",
            "\n",
            "Round 460/600\n",
            "Selected Clients: [69 27 95 86 92 25 12 65 30 23]\n",
            "Avg Client Loss: 2.1015 | Avg Client Accuracy: 43.91%\n",
            "Evaluation Loss:2.1587 | Val Accuracy: 46.15%\n",
            "--------------------------------------------------\n",
            "Checkpoint salvato su: /content/drive/MyDrive/FL/FederatedLearningProject/checkpoints/FL/dino_vits16_J4_rounds_600_checkpoint.pth\n",
            "\n",
            "Round 470/600\n",
            "Selected Clients: [30 53 20 56  2 27 43 64 51  9]\n",
            "Avg Client Loss: 2.1709 | Avg Client Accuracy: 42.77%\n",
            "Evaluation Loss:2.1656 | Val Accuracy: 46.02%\n",
            "--------------------------------------------------\n",
            "Checkpoint salvato su: /content/drive/MyDrive/FL/FederatedLearningProject/checkpoints/FL/dino_vits16_J4_rounds_600_checkpoint.pth\n",
            "\n",
            "Round 480/600\n",
            "Selected Clients: [24 22 28 38 14 23 56 33 43 62]\n",
            "Avg Client Loss: 2.1762 | Avg Client Accuracy: 42.15%\n",
            "Evaluation Loss:2.1645 | Val Accuracy: 46.27%\n",
            "--------------------------------------------------\n",
            "Checkpoint salvato su: /content/drive/MyDrive/FL/FederatedLearningProject/checkpoints/FL/dino_vits16_J4_rounds_600_checkpoint.pth\n",
            "\n",
            "Round 490/600\n",
            "Selected Clients: [53 14  3 22 10 55 90 81 67 99]\n",
            "Avg Client Loss: 2.1060 | Avg Client Accuracy: 44.61%\n",
            "Evaluation Loss:2.1610 | Val Accuracy: 46.07%\n",
            "--------------------------------------------------\n",
            "Checkpoint salvato su: /content/drive/MyDrive/FL/FederatedLearningProject/checkpoints/FL/dino_vits16_J4_rounds_600_checkpoint.pth\n",
            "\n",
            "Round 500/600\n",
            "Selected Clients: [11 88 93 14 45 74 39 86 72 71]\n",
            "Avg Client Loss: 2.1592 | Avg Client Accuracy: 43.63%\n",
            "Evaluation Loss:2.1510 | Val Accuracy: 46.34%\n",
            "--------------------------------------------------\n",
            "Checkpoint salvato su: /content/drive/MyDrive/FL/FederatedLearningProject/checkpoints/FL/dino_vits16_J4_rounds_600_checkpoint.pth\n",
            "\n",
            "Round 510/600\n",
            "Selected Clients: [96  7 95 57 60 32 68 71 30 22]\n",
            "Avg Client Loss: 2.1288 | Avg Client Accuracy: 44.14%\n",
            "Evaluation Loss:2.1493 | Val Accuracy: 46.30%\n",
            "--------------------------------------------------\n",
            "Checkpoint salvato su: /content/drive/MyDrive/FL/FederatedLearningProject/checkpoints/FL/dino_vits16_J4_rounds_600_checkpoint.pth\n",
            "\n",
            "Round 520/600\n",
            "Selected Clients: [21 46 31 78 80 13 42 60 66 32]\n",
            "Avg Client Loss: 2.1056 | Avg Client Accuracy: 44.57%\n",
            "Evaluation Loss:2.1534 | Val Accuracy: 45.96%\n",
            "--------------------------------------------------\n",
            "Checkpoint salvato su: /content/drive/MyDrive/FL/FederatedLearningProject/checkpoints/FL/dino_vits16_J4_rounds_600_checkpoint.pth\n",
            "\n",
            "Round 530/600\n",
            "Selected Clients: [40 41 52 53 57 46 61 11 25 17]\n",
            "Avg Client Loss: 2.1473 | Avg Client Accuracy: 43.71%\n",
            "Evaluation Loss:2.1586 | Val Accuracy: 46.14%\n",
            "--------------------------------------------------\n",
            "Checkpoint salvato su: /content/drive/MyDrive/FL/FederatedLearningProject/checkpoints/FL/dino_vits16_J4_rounds_600_checkpoint.pth\n",
            "\n",
            "Round 540/600\n",
            "Selected Clients: [22 50 69 46  8 48 17 66  0  9]\n",
            "Avg Client Loss: 2.2006 | Avg Client Accuracy: 42.38%\n",
            "Evaluation Loss:2.1575 | Val Accuracy: 46.30%\n",
            "--------------------------------------------------\n",
            "Checkpoint salvato su: /content/drive/MyDrive/FL/FederatedLearningProject/checkpoints/FL/dino_vits16_J4_rounds_600_checkpoint.pth\n",
            "\n",
            "Round 550/600\n",
            "Selected Clients: [18 70 14 92  1 66 31 28 86  3]\n",
            "Avg Client Loss: 2.1636 | Avg Client Accuracy: 43.40%\n",
            "Evaluation Loss:2.1619 | Val Accuracy: 45.93%\n",
            "--------------------------------------------------\n",
            "Checkpoint salvato su: /content/drive/MyDrive/FL/FederatedLearningProject/checkpoints/FL/dino_vits16_J4_rounds_600_checkpoint.pth\n",
            "\n",
            "Round 560/600\n",
            "Selected Clients: [16 88 70 71  9  7  3 65 79 63]\n",
            "Avg Client Loss: 2.1280 | Avg Client Accuracy: 43.83%\n",
            "Evaluation Loss:2.1559 | Val Accuracy: 46.27%\n",
            "--------------------------------------------------\n",
            "Checkpoint salvato su: /content/drive/MyDrive/FL/FederatedLearningProject/checkpoints/FL/dino_vits16_J4_rounds_600_checkpoint.pth\n",
            "\n",
            "Round 570/600\n",
            "Selected Clients: [29 69 58 28 17 76 75 10 36 20]\n",
            "Avg Client Loss: 2.1215 | Avg Client Accuracy: 43.40%\n",
            "Evaluation Loss:2.1574 | Val Accuracy: 46.47%\n",
            "--------------------------------------------------\n",
            "Checkpoint salvato su: /content/drive/MyDrive/FL/FederatedLearningProject/checkpoints/FL/dino_vits16_J4_rounds_600_checkpoint.pth\n",
            "\n",
            "Round 580/600\n",
            "Selected Clients: [39 74 10 48 52 23 35 37 89 92]\n",
            "Avg Client Loss: 2.1302 | Avg Client Accuracy: 43.52%\n",
            "Evaluation Loss:2.1514 | Val Accuracy: 46.58%\n",
            "--------------------------------------------------\n",
            "Checkpoint salvato su: /content/drive/MyDrive/FL/FederatedLearningProject/checkpoints/FL/dino_vits16_J4_rounds_600_checkpoint.pth\n",
            "\n",
            "Round 590/600\n",
            "Selected Clients: [56 82 10 36 59  6 50 71  8 72]\n",
            "Avg Client Loss: 2.1319 | Avg Client Accuracy: 44.88%\n",
            "Evaluation Loss:2.1562 | Val Accuracy: 46.51%\n",
            "--------------------------------------------------\n",
            "Checkpoint salvato su: /content/drive/MyDrive/FL/FederatedLearningProject/checkpoints/FL/dino_vits16_J4_rounds_600_checkpoint.pth\n",
            "\n",
            "Round 600/600\n",
            "Selected Clients: [32 55 61 10 98 99 45  0 53 18]\n",
            "Avg Client Loss: 2.1310 | Avg Client Accuracy: 43.71%\n",
            "Evaluation Loss:2.1513 | Val Accuracy: 46.42%\n",
            "--------------------------------------------------\n"
          ]
        },
        {
          "output_type": "display_data",
          "data": {
            "text/plain": [
              "<IPython.core.display.HTML object>"
            ],
            "text/html": []
          },
          "metadata": {}
        },
        {
          "output_type": "display_data",
          "data": {
            "text/plain": [
              "<IPython.core.display.HTML object>"
            ],
            "text/html": [
              "<br>    <style><br>        .wandb-row {<br>            display: flex;<br>            flex-direction: row;<br>            flex-wrap: wrap;<br>            justify-content: flex-start;<br>            width: 100%;<br>        }<br>        .wandb-col {<br>            display: flex;<br>            flex-direction: column;<br>            flex-basis: 100%;<br>            flex: 1;<br>            padding: 10px;<br>        }<br>    </style><br><div class=\"wandb-row\"><div class=\"wandb-col\"><h3>Run history:</h3><br/><table class=\"wandb\"><tr><td>client_avg_accuracy</td><td>▁▃▄▅▆▇▆▇▇▇▇▇▇▇▇▇▇▇█▇█▇██▇▇█████▇████████</td></tr><tr><td>client_avg_loss</td><td>█▆▄▄▃▃▃▂▂▂▂▂▂▂▂▂▂▁▂▁▁▁▁▁▁▁▁▂▁▁▁▁▁▁▁▁▁▁▁▁</td></tr><tr><td>round</td><td>▁▁▁▁▁▂▂▂▂▂▃▃▃▃▃▄▄▄▄▄▅▅▅▅▅▅▆▆▆▆▇▇▇▇▇▇████</td></tr><tr><td>server_val_accuracy</td><td>▁▃▄▅▆▆▇▇▇▇▇▇▇▇▇▇████████████████████████</td></tr><tr><td>server_val_loss</td><td>█▇▆▅▄▃▃▃▃▂▂▂▂▂▂▂▁▁▁▁▁▁▁▁▁▁▁▁▁▁▁▁▁▁▁▁▁▁▁▁</td></tr></table><br/></div><div class=\"wandb-col\"><h3>Run summary:</h3><br/><table class=\"wandb\"><tr><td>client_avg_accuracy</td><td>43.71094</td></tr><tr><td>client_avg_loss</td><td>2.13101</td></tr><tr><td>round</td><td>599</td></tr><tr><td>server_val_accuracy</td><td>46.42</td></tr><tr><td>server_val_loss</td><td>2.15125</td></tr></table><br/></div></div>"
            ]
          },
          "metadata": {}
        },
        {
          "output_type": "display_data",
          "data": {
            "text/plain": [
              "<IPython.core.display.HTML object>"
            ],
            "text/html": [
              " View run <strong style=\"color:#cdcd00\">dino_vits16_J4_rounds_600</strong> at: <a href='https://wandb.ai/depetrofabio-politecnico-di-torino/FederatedProject/runs/ppworloo' target=\"_blank\">https://wandb.ai/depetrofabio-politecnico-di-torino/FederatedProject/runs/ppworloo</a><br> View project at: <a href='https://wandb.ai/depetrofabio-politecnico-di-torino/FederatedProject' target=\"_blank\">https://wandb.ai/depetrofabio-politecnico-di-torino/FederatedProject</a><br>Synced 5 W&B file(s), 0 media file(s), 0 artifact file(s) and 0 other file(s)"
            ]
          },
          "metadata": {}
        },
        {
          "output_type": "display_data",
          "data": {
            "text/plain": [
              "<IPython.core.display.HTML object>"
            ],
            "text/html": [
              "Find logs at: <code>./wandb/run-20250630_143326-ppworloo/logs</code>"
            ]
          },
          "metadata": {}
        }
      ]
    },
    {
      "cell_type": "code",
      "source": [
        "num_optimal_rounds = 300"
      ],
      "metadata": {
        "id": "z0Fle1suWHPp"
      },
      "execution_count": null,
      "outputs": []
    },
    {
      "cell_type": "code",
      "source": [
        "### IID SETTING, TESTING WITH 4,8,16 num_local_steps\n",
        "\n",
        "num_total_steps = num_optimal_rounds * num_local_steps\n",
        "\n",
        "### LOOP FOR IID ACCURACIES AND PLOTS\n",
        "\n"
      ],
      "metadata": {
        "id": "2vm_5nXZGV1r",
        "outputId": "a7a1466b-0d7f-4631-8873-25e0af1e6bcd",
        "colab": {
          "base_uri": "https://localhost:8080/"
        }
      },
      "execution_count": null,
      "outputs": [
        {
          "output_type": "execute_result",
          "data": {
            "text/plain": [
              "4"
            ]
          },
          "metadata": {},
          "execution_count": 14
        }
      ]
    }
  ],
  "metadata": {
    "accelerator": "GPU",
    "colab": {
      "gpuType": "T4",
      "provenance": []
    },
    "kernelspec": {
      "display_name": "Python 3",
      "name": "python3"
    },
    "language_info": {
      "codemirror_mode": {
        "name": "ipython",
        "version": 3
      },
      "file_extension": ".py",
      "mimetype": "text/x-python",
      "name": "python",
      "nbconvert_exporter": "python",
      "pygments_lexer": "ipython3",
      "version": "3.12.9"
    }
  },
  "nbformat": 4,
  "nbformat_minor": 0
}