{
 "cells": [
  {
   "cell_type": "code",
   "execution_count": 1,
   "id": "228da2b7",
   "metadata": {
    "colab": {
     "base_uri": "https://localhost:8080/"
    },
    "executionInfo": {
     "elapsed": 39853,
     "status": "ok",
     "timestamp": 1747064299771,
     "user": {
      "displayName": "Niccolò",
      "userId": "00690440481202077065"
     },
     "user_tz": -120
    },
    "id": "228da2b7",
    "outputId": "f2c6ac8a-d67c-4653-e6b1-1485bba3a297"
   },
   "outputs": [
    {
     "name": "stdout",
     "output_type": "stream",
     "text": [
      "Mounted at /content/drive\n"
     ]
    }
   ],
   "source": [
    "import numpy as np\n",
    "import wandb\n",
    "from google.colab import drive\n",
    "drive.mount('/content/drive', force_remount=True)\n",
    "import shutil\n",
    "import os                              # Import the 'os' module for changing directories\n",
    "os.chdir('/content/drive/MyDrive/FL')  # Change the directory\n"
   ]
  },
  {
   "cell_type": "code",
   "execution_count": 2,
   "id": "f27d1321",
   "metadata": {
    "executionInfo": {
     "elapsed": 12098,
     "status": "ok",
     "timestamp": 1747064311879,
     "user": {
      "displayName": "Niccolò",
      "userId": "00690440481202077065"
     },
     "user_tz": -120
    },
    "id": "f27d1321"
   },
   "outputs": [],
   "source": [
    "import torch\n",
    "import torch.optim as optim\n",
    "from torch.optim.lr_scheduler import CosineAnnealingLR\n",
    "\n",
    "import torch.nn as nn\n",
    "import torchvision\n",
    "from torchvision import transforms\n",
    "from torchvision.datasets import CIFAR100\n",
    "from torch.utils.data import Subset, DataLoader, random_split\n",
    "\n",
    "from FederatedLearningProject.data.cifar100_loader import get_cifar100\n",
    "import FederatedLearningProject.checkpoints.checkpointing as checkpointing\n",
    "from FederatedLearningProject.training.centralized_training import train_and_validate\n"
   ]
  },
  {
   "cell_type": "code",
   "execution_count": 3,
   "id": "usCBOVfNjyQI",
   "metadata": {
    "colab": {
     "base_uri": "https://localhost:8080/",
     "height": 142
    },
    "executionInfo": {
     "elapsed": 5170,
     "status": "ok",
     "timestamp": 1747064317052,
     "user": {
      "displayName": "Niccolò",
      "userId": "00690440481202077065"
     },
     "user_tz": -120
    },
    "id": "usCBOVfNjyQI",
    "outputId": "fb333322-a5c8-4557-bc5b-1eacc35b3902"
   },
   "outputs": [
    {
     "data": {
      "application/javascript": "\n        window._wandbApiKey = new Promise((resolve, reject) => {\n            function loadScript(url) {\n            return new Promise(function(resolve, reject) {\n                let newScript = document.createElement(\"script\");\n                newScript.onerror = reject;\n                newScript.onload = resolve;\n                document.body.appendChild(newScript);\n                newScript.src = url;\n            });\n            }\n            loadScript(\"https://cdn.jsdelivr.net/npm/postmate/build/postmate.min.js\").then(() => {\n            const iframe = document.createElement('iframe')\n            iframe.style.cssText = \"width:0;height:0;border:none\"\n            document.body.appendChild(iframe)\n            const handshake = new Postmate({\n                container: iframe,\n                url: 'https://wandb.ai/authorize'\n            });\n            const timeout = setTimeout(() => reject(\"Couldn't auto authenticate\"), 5000)\n            handshake.then(function(child) {\n                child.on('authorize', data => {\n                    clearTimeout(timeout)\n                    resolve(data)\n                });\n            });\n            })\n        });\n    ",
      "text/plain": [
       "<IPython.core.display.Javascript object>"
      ]
     },
     "metadata": {},
     "output_type": "display_data"
    },
    {
     "name": "stderr",
     "output_type": "stream",
     "text": [
      "\u001b[34m\u001b[1mwandb\u001b[0m: \u001b[33mWARNING\u001b[0m If you're specifying your api key in code, ensure this code is not shared publicly.\n",
      "\u001b[34m\u001b[1mwandb\u001b[0m: \u001b[33mWARNING\u001b[0m Consider setting the WANDB_API_KEY environment variable, or running `wandb login` from the command line.\n",
      "\u001b[34m\u001b[1mwandb\u001b[0m: No netrc file found, creating one.\n",
      "\u001b[34m\u001b[1mwandb\u001b[0m: Appending key for api.wandb.ai to your netrc file: /root/.netrc\n",
      "\u001b[34m\u001b[1mwandb\u001b[0m: Currently logged in as: \u001b[33mnicco-to\u001b[0m (\u001b[33mnicco-to-politecnico-di-torino\u001b[0m) to \u001b[32mhttps://api.wandb.ai\u001b[0m. Use \u001b[1m`wandb login --relogin`\u001b[0m to force relogin\n"
     ]
    },
    {
     "data": {
      "text/plain": [
       "True"
      ]
     },
     "execution_count": 3,
     "metadata": {},
     "output_type": "execute_result"
    }
   ],
   "source": [
    "wandb.login() # Ask for your API key for logging in to the wandb library."
   ]
  },
  {
   "cell_type": "code",
   "execution_count": 4,
   "id": "f1uwQJOSKHgl",
   "metadata": {
    "colab": {
     "base_uri": "https://localhost:8080/"
    },
    "executionInfo": {
     "elapsed": 7467,
     "status": "ok",
     "timestamp": 1747064324520,
     "user": {
      "displayName": "Niccolò",
      "userId": "00690440481202077065"
     },
     "user_tz": -120
    },
    "id": "f1uwQJOSKHgl",
    "outputId": "a60afe55-1691-43ff-b3c9-e77d6db83a12"
   },
   "outputs": [
    {
     "name": "stdout",
     "output_type": "stream",
     "text": [
      "Number of images in Training Set:   40000\n",
      "Number of images in Validation Set: 10000\n",
      "Number of images in Test Set:       10000\n",
      "✅ Datasets loaded successfully\n"
     ]
    }
   ],
   "source": [
    "# Import CIFAR100 dataset: train_set, val_set, test_set\n",
    "# The transforms are applied before returning the dataset (in the module)\n",
    "\n",
    "valid_split_perc = 0.2    # of the 50000 training data\n",
    "train_set, val_set, test_set = get_cifar100(valid_split_perc)"
   ]
  },
  {
   "cell_type": "code",
   "execution_count": 5,
   "id": "c_UDv-rPjVSj",
   "metadata": {
    "executionInfo": {
     "elapsed": 4,
     "status": "ok",
     "timestamp": 1747064324521,
     "user": {
      "displayName": "Niccolò",
      "userId": "00690440481202077065"
     },
     "user_tz": -120
    },
    "id": "c_UDv-rPjVSj"
   },
   "outputs": [],
   "source": [
    "# Create DataLoaders for training, validation, and test sets\n",
    "\n",
    "# batch_size è in hyperparameter (64, 128, ..), anche num_workers (consigliato per colab 2 o 4)\n",
    "\n",
    "train_loader = DataLoader(train_set, batch_size=128, shuffle=True, num_workers=2)\n",
    "val_loader = DataLoader(val_set, batch_size=128, shuffle=False, num_workers=2)\n",
    "test_loader = DataLoader(test_set, batch_size=128, shuffle=False, num_workers=2)"
   ]
  },
  {
   "cell_type": "markdown",
   "id": "TaKru93QF_8C",
   "metadata": {
    "id": "TaKru93QF_8C"
   },
   "source": [
    "\n",
    "### Possible Models\n",
    "|                        | **Simple linear head**                               | **MLP head w/ Dropout**                                                      |\n",
    "| :--------------------- | :--------------------------------------------------- | :--------------------------------------------------------------------------- |\n",
    "| **Definition**         | `nn.Linear(384 → 100)`                               | `Dropout → Linear(384 → 256) → ReLU → Dropout → Linear(256 → 100)`           |\n",
    "| **# trainable params** | 384×100 + 100 ≈ **38 500**                           | 384×256+256 + 256×100+100 ≈ **123 000**                                      |\n",
    "| **Regularization**     | none                                                 | dropout on both layers                                                       |\n",
    "| **Expressive power**   | low  – just a single hyperplane on the CLS embedding | higher – small nonlinear bottleneck can learn more complex features in heads |\n",
    "| **Compute / memory**   | minimal                                              | \\~3× more weights, a bit more forward/backward cost                          |\n",
    "\n",
    "---\n",
    "\n",
    "**Appunto sui layer di testa:**\n",
    "\n",
    "1. **`self.classifier`**\n",
    "\n",
    "   * **Cosa contiene?** Un singolo `nn.Linear(embed_dim → num_classes)`.\n",
    "   * **Quando usarlo?** Se vuoi un *linear probe* puro: un solo layer che prende il CLS token e mappa direttamente alle classi.\n",
    "   * **Pro:** estremamente leggero (∼38 K parametri), veloce da addestrare e da inferire.\n",
    "   * **Contro:** capacità espressiva minima (è solo un’iper‐superficie lineare sullo spazio degli embedding).\n",
    "\n",
    "2. **`self.head`**\n",
    "\n",
    "   * **Cosa contiene?** Una piccola sequenza (`nn.Sequential`) di layer:\n",
    "\n",
    "     * Dropout\n",
    "     * Linear (embed\\_dim → hidden\\_dim)\n",
    "     * ReLU\n",
    "     * Dropout\n",
    "     * Linear (hidden\\_dim → num\\_classes)\n",
    "   * **Quando usarlo?** Se vuoi dare al tuo “probe” un po’ più di potenza di calcolo, trasformando non-linearmente il CLS prima della classificazione.\n",
    "   * **Pro:** maggiore capacità di apprendere rappresentazioni complesse nella testa, un minimo di regolarizzazione via dropout.\n",
    "   * **Contro:** più pesante (∼3× parametri in più rispetto al solo `classifier`), leggermente più lento da addestrare e inferire.\n",
    "\n",
    "---\n",
    "\n",
    "### Perché una piuttosto che l’altra?\n",
    "\n",
    "* **Vincoli di risorse** (GPU/RAM, tempo d’addestramento):\n",
    "\n",
    "  * Se sei sotto forte pressione computazionale o vuoi risultati rapidi, opti per `self.classifier`.\n",
    "* **Prestazioni** (accuratezza su dataset piccolo/mediamente grande come CIFAR-100):\n",
    "\n",
    "  * Se noti che il linear probe raggiunge un plateau basso, un piccolo MLP (`self.head`) può guadagnare qualche punto percentuale in più.\n",
    "* **Semplicità vs flessibilità**:\n",
    "\n",
    "  * Con una sola `classifier` hai un codice più pulito e diretto.\n",
    "  * Con `head` puoi sperimentare — cambiare `hidden_dim`, aggiungere altro dropout, batchnorm o ulteriori layer.\n",
    "\n",
    "In definitiva, **il nome** (`classifier` vs `head`) è arbitrario: serve a rendere più chiaro nel codice di che “peso” stiamo parlando. Se hai un solo layer, chiamalo `classifier`; se invece è un blocco più articolato, chiamalo `head` o `projection_head`, per tener separata la parte “feature extractor” (backbone) dalla parte “feature consumer” (testa di classificazione).\n"
   ]
  },
  {
   "cell_type": "code",
   "execution_count": 6,
   "id": "WKtFc5PxZXB3",
   "metadata": {
    "colab": {
     "base_uri": "https://localhost:8080/"
    },
    "executionInfo": {
     "elapsed": 3222,
     "status": "ok",
     "timestamp": 1747064327741,
     "user": {
      "displayName": "Niccolò",
      "userId": "00690440481202077065"
     },
     "user_tz": -120
    },
    "id": "WKtFc5PxZXB3",
    "outputId": "ae22ed66-a2f8-4bd3-a5fa-4b4d2ba8e4e6"
   },
   "outputs": [
    {
     "name": "stderr",
     "output_type": "stream",
     "text": [
      "Downloading: \"https://github.com/facebookresearch/dino/zipball/main\" to /root/.cache/torch/hub/main.zip\n",
      "Downloading: \"https://dl.fbaipublicfiles.com/dino/dino_deitsmall16_pretrain/dino_deitsmall16_pretrain.pth\" to /root/.cache/torch/hub/checkpoints/dino_deitsmall16_pretrain.pth\n",
      "100%|██████████| 82.7M/82.7M [00:00<00:00, 107MB/s]\n"
     ]
    },
    {
     "data": {
      "text/plain": [
       "Sequential(\n",
       "  (0): Linear(in_features=384, out_features=256, bias=True)\n",
       "  (1): ReLU(inplace=True)\n",
       "  (2): Dropout(p=0.5, inplace=False)\n",
       "  (3): Linear(in_features=256, out_features=100, bias=True)\n",
       ")"
      ]
     },
     "execution_count": 6,
     "metadata": {},
     "output_type": "execute_result"
    }
   ],
   "source": [
    "# Freeze only the first 9 blocks of the ViT backbone\n",
    "import torch\n",
    "\n",
    "import torch.nn as nn\n",
    "backbone = torch.hub.load('facebookresearch/dino:main', 'dino_vits16')\n",
    "\n",
    "# Freeze patch embedding and dropout\n",
    "for p in backbone.patch_embed.parameters():  # embedding vectors sono rappresentazioni numeriche dei dati\n",
    "    p.requires_grad = False\n",
    "\n",
    "backbone.pos_embed.requires_grad = False\n",
    "backbone.cls_token.requires_grad = False\n",
    "\n",
    "\"\"\"\n",
    "pos_drop is likely an nn.Dropout layer associated with positional embeddings. nn.Dropout layers themselves don't have learnable parameters\n",
    "that are updated during backpropagation (only a dropout rate, which is a hyperparameter). So, iterating through parameters() of a standard\n",
    "dropout layer might yield an empty iterator or no parameters that gradients flow through. The main control over dropout is its train() or\n",
    "eval() mode. However, if pos_drop were a custom module with learnable parameters, this would freeze them. This line is unlikely to cause\n",
    "issues but might not have a significant effect if pos_drop is a standard nn.Dropout.\n",
    "\n",
    "for p in backbone.pos_drop.parameters():     # da verificare, non dovrebbero esserci parametri trainabili nei drop out layers\n",
    "    p.requires_grad = False\n",
    "\"\"\"\n",
    "\n",
    "# Define the classifier head with optional dropout/MLP\n",
    "class DinoClassifier(nn.Module):\n",
    "    def __init__(self, backbone, num_classes=100, hidden_dim=256, drop=0.5): # hidden_dim = dimensione del layer della nn\n",
    "        super().__init__()\n",
    "        self.backbone = backbone\n",
    "        embed_dim = backbone.embed_dim  # 384 for ViT-S/16\n",
    "        self.classifier = nn.Sequential(\n",
    "            # nn.Dropout(drop),                # solitamnete non si fa il dropout prima dell'input layer, da capire\n",
    "            nn.Linear(embed_dim, hidden_dim),     # from 384 to 256\n",
    "            nn.ReLU(inplace=True), # capire meglio inplace\n",
    "            nn.Dropout(drop),\n",
    "            nn.Linear(hidden_dim, num_classes)    # from 256 to 100\n",
    "        )\n",
    "\n",
    "    def forward(self, x):\n",
    "        feats = self.backbone.get_intermediate_layers(x, n=1)[0] # take the output features from DiNo's backbone\n",
    "        cls = feats[:, 0]                                        #\n",
    "        return self.classifier(cls)\n",
    "\n",
    "# Instantiate model and move to device\n",
    "device = torch.device('cuda' if torch.cuda.is_available() else 'cpu')\n",
    "model = DinoClassifier(backbone, num_classes=100).to(device)\n",
    "\n",
    "# Freeze first 9 blocks\n",
    "for block in model.backbone.blocks[0:9]:\n",
    "    block.eval()\n",
    "    for param in block.parameters():\n",
    "        param.requires_grad = False\n",
    "\n",
    "# Unfreeze remaining blocks (if needed)\n",
    "for block in model.backbone.blocks[9:]:\n",
    "    block.train()\n",
    "    for param in block.parameters():\n",
    "        param.requires_grad = True\n",
    "\n",
    "model.classifier.train()\n",
    "\n",
    "# Set backbone to train mode (so dropout works during training)\n",
    "# model.backbone.train()  # Ensure backbone is in training mode, non dovrebbe modificare i blocchi freezzati\n"
   ]
  },
  {
   "cell_type": "code",
   "execution_count": 7,
   "id": "y-h5o7y1CQHP",
   "metadata": {
    "executionInfo": {
     "elapsed": 14,
     "status": "ok",
     "timestamp": 1747064327756,
     "user": {
      "displayName": "Niccolò",
      "userId": "00690440481202077065"
     },
     "user_tz": -120
    },
    "id": "y-h5o7y1CQHP"
   },
   "outputs": [],
   "source": [
    "def debug_model(model: nn.Module, model_name: str = \"Model\"):\n",
    "    \"\"\"\n",
    "    Prints debugging information about a PyTorch model.\n",
    "\n",
    "    Information includes:\n",
    "    - Overall device of the first parameter (indicative of model's primary device).\n",
    "    - For each named parameter:\n",
    "        - Full parameter name.\n",
    "        - Device of the parameter.\n",
    "        - Whether the parameter requires gradients (is frozen or not).\n",
    "        - Inferred block index if the name matches a ViT-like structure.\n",
    "    \"\"\"\n",
    "    print(f\"\\n--- Debugging {model_name} ---\")\n",
    "\n",
    "    # Check overall model device (based on the first parameter)\n",
    "    try:\n",
    "        first_param_device = next(model.parameters()).device\n",
    "        print(f\"{model_name} is primarily on device: {first_param_device}\")\n",
    "    except StopIteration:\n",
    "        print(f\"{model_name} has no parameters.\")\n",
    "        return\n",
    "\n",
    "    print(\"\\nParameter Details (Name | Device | Requires Grad? | Inferred Block):\")\n",
    "    for name, param in model.named_parameters():\n",
    "        device = param.device\n",
    "        requires_grad = param.requires_grad\n",
    "\n",
    "        block_info = \"N/A\"\n",
    "        # Try to infer block index for ViT-like models\n",
    "        if \"blocks.\" in name:\n",
    "            try:\n",
    "                # e.g., name = \"blocks.0.attn.qkv.weight\"\n",
    "                block_idx_str = name.split(\"blocks.\")[1].split(\".\")[0]\n",
    "                if block_idx_str.isdigit():\n",
    "                    block_info = f\"Block {block_idx_str}\"\n",
    "            except IndexError:\n",
    "                block_info = \"Block (parse error)\"\n",
    "\n",
    "        print(f\"- {name:<50} | {str(device):<10} | {str(requires_grad):<15} | {block_info}\")\n",
    "\n",
    "    # You can add more specific checks here, e.g., for model mode (train/eval)\n",
    "    print(f\"{model_name} is in {'training' if model.training else 'evaluation'} mode.\")\n",
    "    print(f\"--- End Debugging {model_name} ---\\n\")\n"
   ]
  },
  {
   "cell_type": "code",
   "execution_count": 8,
   "id": "DpbqVvF7DRCC",
   "metadata": {
    "colab": {
     "base_uri": "https://localhost:8080/"
    },
    "executionInfo": {
     "elapsed": 28,
     "status": "ok",
     "timestamp": 1747064327773,
     "user": {
      "displayName": "Niccolò",
      "userId": "00690440481202077065"
     },
     "user_tz": -120
    },
    "id": "DpbqVvF7DRCC",
    "outputId": "bae6811c-6237-4924-a73c-ec8002d4eaee"
   },
   "outputs": [
    {
     "name": "stdout",
     "output_type": "stream",
     "text": [
      "\n",
      "--- Debugging Model ---\n",
      "Model is primarily on device: cuda:0\n",
      "\n",
      "Parameter Details (Name | Device | Requires Grad? | Inferred Block):\n",
      "- backbone.cls_token                                 | cuda:0     | False           | N/A\n",
      "- backbone.pos_embed                                 | cuda:0     | False           | N/A\n",
      "- backbone.patch_embed.proj.weight                   | cuda:0     | False           | N/A\n",
      "- backbone.patch_embed.proj.bias                     | cuda:0     | False           | N/A\n",
      "- backbone.blocks.0.norm1.weight                     | cuda:0     | False           | Block 0\n",
      "- backbone.blocks.0.norm1.bias                       | cuda:0     | False           | Block 0\n",
      "- backbone.blocks.0.attn.qkv.weight                  | cuda:0     | False           | Block 0\n",
      "- backbone.blocks.0.attn.qkv.bias                    | cuda:0     | False           | Block 0\n",
      "- backbone.blocks.0.attn.proj.weight                 | cuda:0     | False           | Block 0\n",
      "- backbone.blocks.0.attn.proj.bias                   | cuda:0     | False           | Block 0\n",
      "- backbone.blocks.0.norm2.weight                     | cuda:0     | False           | Block 0\n",
      "- backbone.blocks.0.norm2.bias                       | cuda:0     | False           | Block 0\n",
      "- backbone.blocks.0.mlp.fc1.weight                   | cuda:0     | False           | Block 0\n",
      "- backbone.blocks.0.mlp.fc1.bias                     | cuda:0     | False           | Block 0\n",
      "- backbone.blocks.0.mlp.fc2.weight                   | cuda:0     | False           | Block 0\n",
      "- backbone.blocks.0.mlp.fc2.bias                     | cuda:0     | False           | Block 0\n",
      "- backbone.blocks.1.norm1.weight                     | cuda:0     | False           | Block 1\n",
      "- backbone.blocks.1.norm1.bias                       | cuda:0     | False           | Block 1\n",
      "- backbone.blocks.1.attn.qkv.weight                  | cuda:0     | False           | Block 1\n",
      "- backbone.blocks.1.attn.qkv.bias                    | cuda:0     | False           | Block 1\n",
      "- backbone.blocks.1.attn.proj.weight                 | cuda:0     | False           | Block 1\n",
      "- backbone.blocks.1.attn.proj.bias                   | cuda:0     | False           | Block 1\n",
      "- backbone.blocks.1.norm2.weight                     | cuda:0     | False           | Block 1\n",
      "- backbone.blocks.1.norm2.bias                       | cuda:0     | False           | Block 1\n",
      "- backbone.blocks.1.mlp.fc1.weight                   | cuda:0     | False           | Block 1\n",
      "- backbone.blocks.1.mlp.fc1.bias                     | cuda:0     | False           | Block 1\n",
      "- backbone.blocks.1.mlp.fc2.weight                   | cuda:0     | False           | Block 1\n",
      "- backbone.blocks.1.mlp.fc2.bias                     | cuda:0     | False           | Block 1\n",
      "- backbone.blocks.2.norm1.weight                     | cuda:0     | False           | Block 2\n",
      "- backbone.blocks.2.norm1.bias                       | cuda:0     | False           | Block 2\n",
      "- backbone.blocks.2.attn.qkv.weight                  | cuda:0     | False           | Block 2\n",
      "- backbone.blocks.2.attn.qkv.bias                    | cuda:0     | False           | Block 2\n",
      "- backbone.blocks.2.attn.proj.weight                 | cuda:0     | False           | Block 2\n",
      "- backbone.blocks.2.attn.proj.bias                   | cuda:0     | False           | Block 2\n",
      "- backbone.blocks.2.norm2.weight                     | cuda:0     | False           | Block 2\n",
      "- backbone.blocks.2.norm2.bias                       | cuda:0     | False           | Block 2\n",
      "- backbone.blocks.2.mlp.fc1.weight                   | cuda:0     | False           | Block 2\n",
      "- backbone.blocks.2.mlp.fc1.bias                     | cuda:0     | False           | Block 2\n",
      "- backbone.blocks.2.mlp.fc2.weight                   | cuda:0     | False           | Block 2\n",
      "- backbone.blocks.2.mlp.fc2.bias                     | cuda:0     | False           | Block 2\n",
      "- backbone.blocks.3.norm1.weight                     | cuda:0     | False           | Block 3\n",
      "- backbone.blocks.3.norm1.bias                       | cuda:0     | False           | Block 3\n",
      "- backbone.blocks.3.attn.qkv.weight                  | cuda:0     | False           | Block 3\n",
      "- backbone.blocks.3.attn.qkv.bias                    | cuda:0     | False           | Block 3\n",
      "- backbone.blocks.3.attn.proj.weight                 | cuda:0     | False           | Block 3\n",
      "- backbone.blocks.3.attn.proj.bias                   | cuda:0     | False           | Block 3\n",
      "- backbone.blocks.3.norm2.weight                     | cuda:0     | False           | Block 3\n",
      "- backbone.blocks.3.norm2.bias                       | cuda:0     | False           | Block 3\n",
      "- backbone.blocks.3.mlp.fc1.weight                   | cuda:0     | False           | Block 3\n",
      "- backbone.blocks.3.mlp.fc1.bias                     | cuda:0     | False           | Block 3\n",
      "- backbone.blocks.3.mlp.fc2.weight                   | cuda:0     | False           | Block 3\n",
      "- backbone.blocks.3.mlp.fc2.bias                     | cuda:0     | False           | Block 3\n",
      "- backbone.blocks.4.norm1.weight                     | cuda:0     | False           | Block 4\n",
      "- backbone.blocks.4.norm1.bias                       | cuda:0     | False           | Block 4\n",
      "- backbone.blocks.4.attn.qkv.weight                  | cuda:0     | False           | Block 4\n",
      "- backbone.blocks.4.attn.qkv.bias                    | cuda:0     | False           | Block 4\n",
      "- backbone.blocks.4.attn.proj.weight                 | cuda:0     | False           | Block 4\n",
      "- backbone.blocks.4.attn.proj.bias                   | cuda:0     | False           | Block 4\n",
      "- backbone.blocks.4.norm2.weight                     | cuda:0     | False           | Block 4\n",
      "- backbone.blocks.4.norm2.bias                       | cuda:0     | False           | Block 4\n",
      "- backbone.blocks.4.mlp.fc1.weight                   | cuda:0     | False           | Block 4\n",
      "- backbone.blocks.4.mlp.fc1.bias                     | cuda:0     | False           | Block 4\n",
      "- backbone.blocks.4.mlp.fc2.weight                   | cuda:0     | False           | Block 4\n",
      "- backbone.blocks.4.mlp.fc2.bias                     | cuda:0     | False           | Block 4\n",
      "- backbone.blocks.5.norm1.weight                     | cuda:0     | False           | Block 5\n",
      "- backbone.blocks.5.norm1.bias                       | cuda:0     | False           | Block 5\n",
      "- backbone.blocks.5.attn.qkv.weight                  | cuda:0     | False           | Block 5\n",
      "- backbone.blocks.5.attn.qkv.bias                    | cuda:0     | False           | Block 5\n",
      "- backbone.blocks.5.attn.proj.weight                 | cuda:0     | False           | Block 5\n",
      "- backbone.blocks.5.attn.proj.bias                   | cuda:0     | False           | Block 5\n",
      "- backbone.blocks.5.norm2.weight                     | cuda:0     | False           | Block 5\n",
      "- backbone.blocks.5.norm2.bias                       | cuda:0     | False           | Block 5\n",
      "- backbone.blocks.5.mlp.fc1.weight                   | cuda:0     | False           | Block 5\n",
      "- backbone.blocks.5.mlp.fc1.bias                     | cuda:0     | False           | Block 5\n",
      "- backbone.blocks.5.mlp.fc2.weight                   | cuda:0     | False           | Block 5\n",
      "- backbone.blocks.5.mlp.fc2.bias                     | cuda:0     | False           | Block 5\n",
      "- backbone.blocks.6.norm1.weight                     | cuda:0     | False           | Block 6\n",
      "- backbone.blocks.6.norm1.bias                       | cuda:0     | False           | Block 6\n",
      "- backbone.blocks.6.attn.qkv.weight                  | cuda:0     | False           | Block 6\n",
      "- backbone.blocks.6.attn.qkv.bias                    | cuda:0     | False           | Block 6\n",
      "- backbone.blocks.6.attn.proj.weight                 | cuda:0     | False           | Block 6\n",
      "- backbone.blocks.6.attn.proj.bias                   | cuda:0     | False           | Block 6\n",
      "- backbone.blocks.6.norm2.weight                     | cuda:0     | False           | Block 6\n",
      "- backbone.blocks.6.norm2.bias                       | cuda:0     | False           | Block 6\n",
      "- backbone.blocks.6.mlp.fc1.weight                   | cuda:0     | False           | Block 6\n",
      "- backbone.blocks.6.mlp.fc1.bias                     | cuda:0     | False           | Block 6\n",
      "- backbone.blocks.6.mlp.fc2.weight                   | cuda:0     | False           | Block 6\n",
      "- backbone.blocks.6.mlp.fc2.bias                     | cuda:0     | False           | Block 6\n",
      "- backbone.blocks.7.norm1.weight                     | cuda:0     | False           | Block 7\n",
      "- backbone.blocks.7.norm1.bias                       | cuda:0     | False           | Block 7\n",
      "- backbone.blocks.7.attn.qkv.weight                  | cuda:0     | False           | Block 7\n",
      "- backbone.blocks.7.attn.qkv.bias                    | cuda:0     | False           | Block 7\n",
      "- backbone.blocks.7.attn.proj.weight                 | cuda:0     | False           | Block 7\n",
      "- backbone.blocks.7.attn.proj.bias                   | cuda:0     | False           | Block 7\n",
      "- backbone.blocks.7.norm2.weight                     | cuda:0     | False           | Block 7\n",
      "- backbone.blocks.7.norm2.bias                       | cuda:0     | False           | Block 7\n",
      "- backbone.blocks.7.mlp.fc1.weight                   | cuda:0     | False           | Block 7\n",
      "- backbone.blocks.7.mlp.fc1.bias                     | cuda:0     | False           | Block 7\n",
      "- backbone.blocks.7.mlp.fc2.weight                   | cuda:0     | False           | Block 7\n",
      "- backbone.blocks.7.mlp.fc2.bias                     | cuda:0     | False           | Block 7\n",
      "- backbone.blocks.8.norm1.weight                     | cuda:0     | False           | Block 8\n",
      "- backbone.blocks.8.norm1.bias                       | cuda:0     | False           | Block 8\n",
      "- backbone.blocks.8.attn.qkv.weight                  | cuda:0     | False           | Block 8\n",
      "- backbone.blocks.8.attn.qkv.bias                    | cuda:0     | False           | Block 8\n",
      "- backbone.blocks.8.attn.proj.weight                 | cuda:0     | False           | Block 8\n",
      "- backbone.blocks.8.attn.proj.bias                   | cuda:0     | False           | Block 8\n",
      "- backbone.blocks.8.norm2.weight                     | cuda:0     | False           | Block 8\n",
      "- backbone.blocks.8.norm2.bias                       | cuda:0     | False           | Block 8\n",
      "- backbone.blocks.8.mlp.fc1.weight                   | cuda:0     | False           | Block 8\n",
      "- backbone.blocks.8.mlp.fc1.bias                     | cuda:0     | False           | Block 8\n",
      "- backbone.blocks.8.mlp.fc2.weight                   | cuda:0     | False           | Block 8\n",
      "- backbone.blocks.8.mlp.fc2.bias                     | cuda:0     | False           | Block 8\n",
      "- backbone.blocks.9.norm1.weight                     | cuda:0     | True            | Block 9\n",
      "- backbone.blocks.9.norm1.bias                       | cuda:0     | True            | Block 9\n",
      "- backbone.blocks.9.attn.qkv.weight                  | cuda:0     | True            | Block 9\n",
      "- backbone.blocks.9.attn.qkv.bias                    | cuda:0     | True            | Block 9\n",
      "- backbone.blocks.9.attn.proj.weight                 | cuda:0     | True            | Block 9\n",
      "- backbone.blocks.9.attn.proj.bias                   | cuda:0     | True            | Block 9\n",
      "- backbone.blocks.9.norm2.weight                     | cuda:0     | True            | Block 9\n",
      "- backbone.blocks.9.norm2.bias                       | cuda:0     | True            | Block 9\n",
      "- backbone.blocks.9.mlp.fc1.weight                   | cuda:0     | True            | Block 9\n",
      "- backbone.blocks.9.mlp.fc1.bias                     | cuda:0     | True            | Block 9\n",
      "- backbone.blocks.9.mlp.fc2.weight                   | cuda:0     | True            | Block 9\n",
      "- backbone.blocks.9.mlp.fc2.bias                     | cuda:0     | True            | Block 9\n",
      "- backbone.blocks.10.norm1.weight                    | cuda:0     | True            | Block 10\n",
      "- backbone.blocks.10.norm1.bias                      | cuda:0     | True            | Block 10\n",
      "- backbone.blocks.10.attn.qkv.weight                 | cuda:0     | True            | Block 10\n",
      "- backbone.blocks.10.attn.qkv.bias                   | cuda:0     | True            | Block 10\n",
      "- backbone.blocks.10.attn.proj.weight                | cuda:0     | True            | Block 10\n",
      "- backbone.blocks.10.attn.proj.bias                  | cuda:0     | True            | Block 10\n",
      "- backbone.blocks.10.norm2.weight                    | cuda:0     | True            | Block 10\n",
      "- backbone.blocks.10.norm2.bias                      | cuda:0     | True            | Block 10\n",
      "- backbone.blocks.10.mlp.fc1.weight                  | cuda:0     | True            | Block 10\n",
      "- backbone.blocks.10.mlp.fc1.bias                    | cuda:0     | True            | Block 10\n",
      "- backbone.blocks.10.mlp.fc2.weight                  | cuda:0     | True            | Block 10\n",
      "- backbone.blocks.10.mlp.fc2.bias                    | cuda:0     | True            | Block 10\n",
      "- backbone.blocks.11.norm1.weight                    | cuda:0     | True            | Block 11\n",
      "- backbone.blocks.11.norm1.bias                      | cuda:0     | True            | Block 11\n",
      "- backbone.blocks.11.attn.qkv.weight                 | cuda:0     | True            | Block 11\n",
      "- backbone.blocks.11.attn.qkv.bias                   | cuda:0     | True            | Block 11\n",
      "- backbone.blocks.11.attn.proj.weight                | cuda:0     | True            | Block 11\n",
      "- backbone.blocks.11.attn.proj.bias                  | cuda:0     | True            | Block 11\n",
      "- backbone.blocks.11.norm2.weight                    | cuda:0     | True            | Block 11\n",
      "- backbone.blocks.11.norm2.bias                      | cuda:0     | True            | Block 11\n",
      "- backbone.blocks.11.mlp.fc1.weight                  | cuda:0     | True            | Block 11\n",
      "- backbone.blocks.11.mlp.fc1.bias                    | cuda:0     | True            | Block 11\n",
      "- backbone.blocks.11.mlp.fc2.weight                  | cuda:0     | True            | Block 11\n",
      "- backbone.blocks.11.mlp.fc2.bias                    | cuda:0     | True            | Block 11\n",
      "- backbone.norm.weight                               | cuda:0     | True            | N/A\n",
      "- backbone.norm.bias                                 | cuda:0     | True            | N/A\n",
      "- classifier.0.weight                                | cuda:0     | True            | N/A\n",
      "- classifier.0.bias                                  | cuda:0     | True            | N/A\n",
      "- classifier.3.weight                                | cuda:0     | True            | N/A\n",
      "- classifier.3.bias                                  | cuda:0     | True            | N/A\n",
      "Model is in training mode.\n",
      "--- End Debugging Model ---\n",
      "\n"
     ]
    }
   ],
   "source": [
    "debug_model(model=model)"
   ]
  },
  {
   "cell_type": "code",
   "execution_count": 9,
   "id": "RqiWVe89NEJC",
   "metadata": {
    "executionInfo": {
     "elapsed": 4,
     "status": "ok",
     "timestamp": 1747064327778,
     "user": {
      "displayName": "Niccolò",
      "userId": "00690440481202077065"
     },
     "user_tz": -120
    },
    "id": "RqiWVe89NEJC"
   },
   "outputs": [],
   "source": [
    "# --- OPTIMIZER AND LOSS FUNCTION ---\n",
    "learning_rate = 1e-4\n",
    "momentum = 0.9\n",
    "weight_decay = 5e-5\n",
    "epochs = 50\n",
    "\n",
    "\"\"\"\n",
    "# Example for differential learning rates:\n",
    "optimizer = torch.optim.AdamW([\n",
    "    {'params': model.backbone.blocks[9:].parameters(), 'lr': 1e-5}, # Adjust block indices if needed\n",
    "    # You might also want to fine-tune backbone.norm if it exists and is not frozen\n",
    "    # {'params': model.backbone.norm.parameters(), 'lr': 1e-5},\n",
    "    {'params': model.classifier.parameters(), 'lr': 1e-4}\n",
    "], weight_decay=0.05) # example weight decay\n",
    "\"\"\"\n",
    "# optimizer = optim.SGD(model.parameters(), lr=learning_rate, momentum=momentum, weight_decay=weight_decay)\n",
    "# Example optimizer instantiation:\n",
    "optimizer = torch.optim.SGD(\n",
    "    filter(lambda p: p.requires_grad, model.parameters()),\n",
    "    lr=learning_rate, # Example LR\n",
    "    weight_decay=weight_decay,\n",
    "    momentum=momentum\n",
    ")\n",
    "scheduler = CosineAnnealingLR(optimizer, T_max=epochs)\n",
    "criterion = nn.CrossEntropyLoss()"
   ]
  },
  {
   "cell_type": "code",
   "execution_count": 10,
   "id": "w2WnTA_ue2sX",
   "metadata": {
    "colab": {
     "base_uri": "https://localhost:8080/",
     "height": 104
    },
    "executionInfo": {
     "elapsed": 1224,
     "status": "ok",
     "timestamp": 1747064329003,
     "user": {
      "displayName": "Niccolò",
      "userId": "00690440481202077065"
     },
     "user_tz": -120
    },
    "id": "w2WnTA_ue2sX",
    "outputId": "a45ae6b2-60da-47be-dd49-f84d1ebfccf8"
   },
   "outputs": [
    {
     "data": {
      "text/html": [
       "Tracking run with wandb version 0.19.10"
      ],
      "text/plain": [
       "<IPython.core.display.HTML object>"
      ]
     },
     "metadata": {},
     "output_type": "display_data"
    },
    {
     "data": {
      "text/html": [
       "Run data is saved locally in <code>/content/drive/MyDrive/FL/wandb/run-20250512_153843-pj11gliq</code>"
      ],
      "text/plain": [
       "<IPython.core.display.HTML object>"
      ]
     },
     "metadata": {},
     "output_type": "display_data"
    },
    {
     "data": {
      "text/html": [
       "Syncing run <strong><a href='https://wandb.ai/nicco-to-politecnico-di-torino/FederatedProject/runs/pj11gliq' target=\"_blank\">dino_vits16_run</a></strong> to <a href='https://wandb.ai/nicco-to-politecnico-di-torino/FederatedProject' target=\"_blank\">Weights & Biases</a> (<a href='https://wandb.me/developer-guide' target=\"_blank\">docs</a>)<br>"
      ],
      "text/plain": [
       "<IPython.core.display.HTML object>"
      ]
     },
     "metadata": {},
     "output_type": "display_data"
    },
    {
     "data": {
      "text/html": [
       " View project at <a href='https://wandb.ai/nicco-to-politecnico-di-torino/FederatedProject' target=\"_blank\">https://wandb.ai/nicco-to-politecnico-di-torino/FederatedProject</a>"
      ],
      "text/plain": [
       "<IPython.core.display.HTML object>"
      ]
     },
     "metadata": {},
     "output_type": "display_data"
    },
    {
     "data": {
      "text/html": [
       " View run at <a href='https://wandb.ai/nicco-to-politecnico-di-torino/FederatedProject/runs/pj11gliq' target=\"_blank\">https://wandb.ai/nicco-to-politecnico-di-torino/FederatedProject/runs/pj11gliq</a>"
      ],
      "text/plain": [
       "<IPython.core.display.HTML object>"
      ]
     },
     "metadata": {},
     "output_type": "display_data"
    }
   ],
   "source": [
    "# wandb.init() prepares the tracking of hyperparameters/metrics for later recording performance using wandb.log()\n",
    "\n",
    "model_name = \"dino_vits16\"\n",
    "project_name = \"FederatedProject\"\n",
    "run_name = f\"{model_name}_run\"\n",
    "\n",
    "# INITIALIZE W&B\n",
    "wandb.init(\n",
    "    project=project_name,\n",
    "    name=run_name,\n",
    "    config={\n",
    "        \"model\": \"dino_vits16\",\n",
    "        \"epochs\": epochs,\n",
    "        \"batch_size\": train_loader.batch_size,\n",
    "        \"learning_rate\": learning_rate,  # Use fixed value\n",
    "        \"weight_decay\": weight_decay,\n",
    "        \"momentum\": momentum,\n",
    "        \"architecture\": model.__class__.__name__,\n",
    "    }\n",
    ")\n",
    "\n",
    "# Copy your config\n",
    "config = wandb.config\n"
   ]
  },
  {
   "cell_type": "code",
   "execution_count": 11,
   "id": "mo4lpz6c3C-F",
   "metadata": {
    "executionInfo": {
     "elapsed": 12,
     "status": "ok",
     "timestamp": 1747064329017,
     "user": {
      "displayName": "Niccolò",
      "userId": "00690440481202077065"
     },
     "user_tz": -120
    },
    "id": "mo4lpz6c3C-F"
   },
   "outputs": [],
   "source": [
    "#  PERCORSO CHECKPOINT\n",
    "checkpoint_dir = \"/content/drive/MyDrive/FL/FederatedLearningProject/checkpoints\""
   ]
  },
  {
   "cell_type": "code",
   "execution_count": 12,
   "id": "cBdBMnxzyusN",
   "metadata": {
    "colab": {
     "base_uri": "https://localhost:8080/"
    },
    "executionInfo": {
     "elapsed": 12,
     "status": "ok",
     "timestamp": 1747064329033,
     "user": {
      "displayName": "Niccolò",
      "userId": "00690440481202077065"
     },
     "user_tz": -120
    },
    "id": "cBdBMnxzyusN",
    "outputId": "cc858e83-90d5-4440-86dc-dc66229c56ca"
   },
   "outputs": [
    {
     "name": "stdout",
     "output_type": "stream",
     "text": [
      " Nessun checkpoint trovato, inizio da epoca 1.\n"
     ]
    }
   ],
   "source": [
    "# RECOVER CHECKPOINT\n",
    "# # the function already do model.load_state_dict(checkpoint_data[\"model_state_dict\"])\n",
    "#                           scheduler.load_state_dict(checkpoint_data[\"scheduler_state_dict\"])\n",
    "#                           optimizer.load_state_dict(checkpoint_data[\"optimizer_state_dict\"])\n",
    "# anyway it returns all the data (model data) if needed\n",
    "\n",
    "start_epoch, model_data = checkpointing.load_checkpoint(model=model, optimizer=optimizer, scheduler=scheduler)\n"
   ]
  },
  {
   "cell_type": "code",
   "execution_count": null,
   "id": "3ZGaA_bF5Cpy",
   "metadata": {
    "colab": {
     "base_uri": "https://localhost:8080/"
    },
    "id": "3ZGaA_bF5Cpy",
    "outputId": "e0b97a2d-fc23-4680-c9e2-6987fdff9474"
   },
   "outputs": [
    {
     "name": "stdout",
     "output_type": "stream",
     "text": [
      "current LR: [9.990133642141359e-05]\n",
      "[Epoch 1] Train Loss: 4.5197, Train Accuracy: 3.69%, Val Loss: 3.9888, Val Accuracy: 14.33%\n",
      "current LR: [9.96057350657239e-05]\n",
      "[Epoch 2] Train Loss: 3.1448, Train Accuracy: 25.14%, Val Loss: 2.6884, Val Accuracy: 33.43%\n",
      "current LR: [9.911436253643444e-05]\n",
      "[Epoch 3] Train Loss: 2.5268, Train Accuracy: 36.27%, Val Loss: 2.4045, Val Accuracy: 38.94%\n",
      "current LR: [9.842915805643155e-05]\n",
      "[Epoch 4] Train Loss: 2.3165, Train Accuracy: 40.32%, Val Loss: 2.2679, Val Accuracy: 41.43%\n",
      "current LR: [9.755282581475769e-05]\n",
      "[Epoch 5] Train Loss: 2.1788, Train Accuracy: 43.02%, Val Loss: 2.1961, Val Accuracy: 43.29%\n",
      "current LR: [9.648882429441257e-05]\n",
      "[Epoch 6] Train Loss: 2.0953, Train Accuracy: 44.97%, Val Loss: 2.1248, Val Accuracy: 44.09%\n",
      "current LR: [9.524135262330098e-05]\n",
      "[Epoch 7] Train Loss: 2.0306, Train Accuracy: 46.28%, Val Loss: 2.0697, Val Accuracy: 45.41%\n",
      "current LR: [9.381533400219317e-05]\n",
      "[Epoch 8] Train Loss: 1.9707, Train Accuracy: 47.41%, Val Loss: 2.0363, Val Accuracy: 46.16%\n",
      "current LR: [9.221639627510075e-05]\n",
      "[Epoch 9] Train Loss: 1.9211, Train Accuracy: 48.65%, Val Loss: 2.0130, Val Accuracy: 47.03%\n",
      "current LR: [9.045084971874735e-05]\n",
      "[Epoch 10] Train Loss: 1.8784, Train Accuracy: 49.57%, Val Loss: 1.9683, Val Accuracy: 48.24%\n",
      "Checkpoint salvato su: /content/drive/MyDrive/FL/FederatedLearningProject/checkpoints/dino_vits16_checkpoint.pth\n",
      "current LR: [8.852566213878945e-05]\n",
      "[Epoch 11] Train Loss: 1.8318, Train Accuracy: 50.63%, Val Loss: 1.9630, Val Accuracy: 48.09%\n",
      "current LR: [8.644843137107056e-05]\n",
      "[Epoch 12] Train Loss: 1.8059, Train Accuracy: 51.44%, Val Loss: 1.9379, Val Accuracy: 48.68%\n",
      "current LR: [8.422735529643442e-05]\n",
      "[Epoch 13] Train Loss: 1.7761, Train Accuracy: 51.66%, Val Loss: 1.9363, Val Accuracy: 48.49%\n",
      "current LR: [8.187119948743447e-05]\n",
      "[Epoch 14] Train Loss: 1.7381, Train Accuracy: 52.94%, Val Loss: 1.9133, Val Accuracy: 49.02%\n",
      "current LR: [7.938926261462366e-05]\n",
      "[Epoch 15] Train Loss: 1.7077, Train Accuracy: 53.51%, Val Loss: 1.9007, Val Accuracy: 49.83%\n",
      "current LR: [7.679133974894982e-05]\n",
      "[Epoch 16] Train Loss: 1.6811, Train Accuracy: 54.07%, Val Loss: 1.8936, Val Accuracy: 49.76%\n",
      "current LR: [7.408768370508575e-05]\n",
      "[Epoch 17] Train Loss: 1.6575, Train Accuracy: 54.60%, Val Loss: 1.8825, Val Accuracy: 50.30%\n",
      "current LR: [7.128896457825361e-05]\n",
      "[Epoch 18] Train Loss: 1.6337, Train Accuracy: 55.35%, Val Loss: 1.8782, Val Accuracy: 50.04%\n",
      "current LR: [6.840622763423389e-05]\n",
      "[Epoch 19] Train Loss: 1.6085, Train Accuracy: 56.05%, Val Loss: 1.8606, Val Accuracy: 50.64%\n",
      "current LR: [6.545084971874736e-05]\n",
      "[Epoch 20] Train Loss: 1.5827, Train Accuracy: 56.52%, Val Loss: 1.8539, Val Accuracy: 50.84%\n",
      "Checkpoint salvato su: /content/drive/MyDrive/FL/FederatedLearningProject/checkpoints/dino_vits16_checkpoint.pth\n",
      "current LR: [6.243449435824272e-05]\n",
      "[Epoch 21] Train Loss: 1.5631, Train Accuracy: 57.02%, Val Loss: 1.8512, Val Accuracy: 50.62%\n",
      "current LR: [5.9369065729286224e-05]\n",
      "[Epoch 22] Train Loss: 1.5505, Train Accuracy: 57.32%, Val Loss: 1.8459, Val Accuracy: 50.67%\n",
      "current LR: [5.626666167821521e-05]\n",
      "[Epoch 23] Train Loss: 1.5277, Train Accuracy: 57.77%, Val Loss: 1.8367, Val Accuracy: 51.19%\n",
      "current LR: [5.3139525976465657e-05]\n",
      "[Epoch 24] Train Loss: 1.5101, Train Accuracy: 58.15%, Val Loss: 1.8300, Val Accuracy: 51.16%\n",
      "current LR: [4.999999999999998e-05]\n",
      "[Epoch 25] Train Loss: 1.4917, Train Accuracy: 58.77%, Val Loss: 1.8232, Val Accuracy: 51.57%\n",
      "current LR: [4.6860474023534314e-05]\n",
      "[Epoch 26] Train Loss: 1.4674, Train Accuracy: 59.22%, Val Loss: 1.8155, Val Accuracy: 51.88%\n",
      "current LR: [4.3733338321784775e-05]\n",
      "[Epoch 27] Train Loss: 1.4569, Train Accuracy: 59.59%, Val Loss: 1.8269, Val Accuracy: 51.37%\n",
      "current LR: [4.063093427071375e-05]\n",
      "[Epoch 28] Train Loss: 1.4410, Train Accuracy: 60.31%, Val Loss: 1.8197, Val Accuracy: 51.25%\n",
      "current LR: [3.756550564175724e-05]\n",
      "[Epoch 29] Train Loss: 1.4297, Train Accuracy: 60.40%, Val Loss: 1.8154, Val Accuracy: 51.62%\n",
      "current LR: [3.454915028125263e-05]\n",
      "[Epoch 30] Train Loss: 1.4139, Train Accuracy: 61.02%, Val Loss: 1.8017, Val Accuracy: 52.11%\n",
      "Checkpoint salvato su: /content/drive/MyDrive/FL/FederatedLearningProject/checkpoints/dino_vits16_checkpoint.pth\n"
     ]
    }
   ],
   "source": [
    "# --- TRAINING LOOP ---\n",
    "# Call to the training loop function\n",
    "model_name = \"dino_vits16\"\n",
    "checkpoint_path = f\"{checkpoint_dir}/{model_name}_checkpoint.pth\"\n",
    "\n",
    "train_and_validate(start_epoch, model=model, train_loader=train_loader, val_loader=val_loader, scheduler=scheduler, optimizer=optimizer, criterion=criterion, device=device, checkpoint_path=checkpoint_path, num_epochs=50, checkpoint_interval=10)"
   ]
  },
  {
   "cell_type": "code",
   "execution_count": null,
   "id": "lCT7l21Lpl9L",
   "metadata": {
    "id": "lCT7l21Lpl9L"
   },
   "outputs": [],
   "source": [
    "## Display some informations ##\n",
    "\n",
    "print(\"Model:\", model_name)\n",
    "print(\"Train set size:\", len(train_set))\n",
    "print(\"Validation set size:\", len(val_set))\n",
    "print(\"Batch size:\", train_loader.batch_size)\n",
    "print(\"Number of epochs:\", config.epochs)\n",
    "print(\"DataLoader: \")\n",
    "print(\"Learning rate:\", optimizer.param_groups[0]['lr'])\n",
    "print(\"Architecture:\", model.__class__.__name__)\n",
    "print(\"Device:\", device)\n",
    "print(\"Optimizer:\", optimizer)\n",
    "print(\"Loss function:\", criterion)\n",
    "print(\"Checkpoint directory:\", checkpoint_dir)\n",
    "print(\"Checkpoint path:\", checkpoint_path)\n",
    "print(\"Current epoch:\", epoch)\n",
    "print()\n",
    "\n",
    "print(\"Train Loader Information:\")\n",
    "print(f\"  Number of batches: {len(train_loader)}\")\n",
    "print(f\"  Batch size: {train_loader.batch_size}\")\n",
    "# Get the dimension of a single batch\n",
    "for images, labels in train_loader:\n",
    "  print(f\"  Dimension of 1 batch (images): {images.shape}\")\n",
    "  print(f\"  Dimension of 1 batch (labels): {labels.shape}\")\n",
    "  break  # Exit the loop after processing one batch\n",
    "print()\n",
    "\n",
    "print(\"\\nValidation Loader Information:\")\n",
    "print(f\"  Number of batches: {len(val_loader)}\")\n",
    "print(f\"  Batch size: {val_loader.batch_size}\")\n",
    "# Get the dimension of a single batch\n",
    "for images, labels in val_loader:\n",
    "  print(f\"  Dimension of 1 batch (images): {images.shape}\")\n",
    "  print(f\"  Dimension of 1 batch (labels): {labels.shape}\")\n",
    "  break  # Exit the loop after processing one batch\n",
    "print()\n",
    "\n",
    "# Check for CUDA availability\n",
    "print(\"CUDA AVAIABILITY:\")\n",
    "if torch.cuda.is_available():\n",
    "    print(\"CUDA is available. Using GPU.\")\n",
    "    print(\"Number of GPUs:\", torch.cuda.device_count())\n",
    "    print(\"Current GPU:\", torch.cuda.current_device())\n",
    "    print(\"GPU Name:\", torch.cuda.get_device_name(torch.cuda.current_device()))\n",
    "else:\n",
    "    print(\"CUDA is not available. Using CPU.\")\n",
    "\n",
    "# Print model architecture summary\n",
    "print(\"\\nMODEL ARCHITECTURE:\")\n",
    "print(model)\n"
   ]
  }
 ],
 "metadata": {
  "accelerator": "GPU",
  "colab": {
   "gpuType": "T4",
   "provenance": []
  },
  "jupytext": {
   "cell_metadata_filter": "-all",
   "main_language": "python",
   "notebook_metadata_filter": "-all"
  },
  "kernelspec": {
   "display_name": "Python 3",
   "name": "python3"
  },
  "language_info": {
   "codemirror_mode": {
    "name": "ipython",
    "version": 3
   },
   "file_extension": ".py",
   "mimetype": "text/x-python",
   "name": "python",
   "nbconvert_exporter": "python",
   "pygments_lexer": "ipython3",
   "version": "3.12.9"
  }
 },
 "nbformat": 4,
 "nbformat_minor": 5
}
