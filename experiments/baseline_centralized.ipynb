{
 "cells": [
  {
   "cell_type": "code",
   "execution_count": 2,
   "id": "228da2b7",
   "metadata": {
    "colab": {
     "base_uri": "https://localhost:8080/"
    },
    "executionInfo": {
     "elapsed": 23328,
     "status": "ok",
     "timestamp": 1751723632975,
     "user": {
      "displayName": "Federico Cerbelli",
      "userId": "06744786943619548510"
     },
     "user_tz": -120
    },
    "id": "228da2b7",
    "outputId": "b0297ce3-a5b6-462d-bad1-0a644cff4f36"
   },
   "outputs": [
    {
     "name": "stdout",
     "output_type": "stream",
     "text": [
      "Mounted at /content/drive\n"
     ]
    }
   ],
   "source": [
    "import numpy as np\n",
    "import wandb\n",
    "from google.colab import drive\n",
    "drive.mount('/content/drive', force_remount=True)\n",
    "import shutil\n",
    "import os                              # Import the 'os' module for changing directories\n",
    "os.chdir('/content/drive/MyDrive/FL')  # Change the directory\n",
    "import datetime as datetime\n",
    "import copy\n",
    "import json"
   ]
  },
  {
   "cell_type": "code",
   "execution_count": null,
   "id": "f27d1321",
   "metadata": {
    "executionInfo": {
     "elapsed": 670,
     "status": "ok",
     "timestamp": 1751723667317,
     "user": {
      "displayName": "Federico Cerbelli",
      "userId": "06744786943619548510"
     },
     "user_tz": -120
    },
    "id": "f27d1321"
   },
   "outputs": [],
   "source": [
    "import torch\n",
    "import torch.optim as optim\n",
    "from torch.optim.lr_scheduler import CosineAnnealingLR, StepLR\n",
    "\n",
    "import torch.nn as nn\n",
    "import torchvision\n",
    "from torchvision import transforms\n",
    "from torchvision.datasets import CIFAR100\n",
    "from torch.utils.data import Subset, DataLoader, random_split\n",
    "\n",
    "from FederatedLearningProject.data.cifar100_loader import get_cifar100\n",
    "from FederatedLearningProject.checkpoints.checkpointing import save_checkpoint, load_checkpoint, save_checkpoint_test\n",
    "from FederatedLearningProject.training.centralized_training import train_and_validate, train_and_test, train_epoch, validate_epoch, test_epoch, log_to_wandb, log_to_wandb_test, generate_configs\n",
    "\n",
    "\n",
    "import FederatedLearningProject.experiments.models as models\n",
    "device = torch.device(\"cuda\" if torch.cuda.is_available() else \"cpu\")\n"
   ]
  },
  {
   "cell_type": "code",
   "execution_count": 8,
   "id": "usCBOVfNjyQI",
   "metadata": {
    "colab": {
     "base_uri": "https://localhost:8080/",
     "height": 191
    },
    "executionInfo": {
     "elapsed": 14994,
     "status": "ok",
     "timestamp": 1751723687410,
     "user": {
      "displayName": "Federico Cerbelli",
      "userId": "06744786943619548510"
     },
     "user_tz": -120
    },
    "id": "usCBOVfNjyQI",
    "outputId": "14cae8c3-fc06-41b3-93e0-3fa0a7a4bee0"
   },
   "outputs": [
    {
     "data": {
      "application/javascript": "\n        window._wandbApiKey = new Promise((resolve, reject) => {\n            function loadScript(url) {\n            return new Promise(function(resolve, reject) {\n                let newScript = document.createElement(\"script\");\n                newScript.onerror = reject;\n                newScript.onload = resolve;\n                document.body.appendChild(newScript);\n                newScript.src = url;\n            });\n            }\n            loadScript(\"https://cdn.jsdelivr.net/npm/postmate/build/postmate.min.js\").then(() => {\n            const iframe = document.createElement('iframe')\n            iframe.style.cssText = \"width:0;height:0;border:none\"\n            document.body.appendChild(iframe)\n            const handshake = new Postmate({\n                container: iframe,\n                url: 'https://wandb.ai/authorize'\n            });\n            const timeout = setTimeout(() => reject(\"Couldn't auto authenticate\"), 5000)\n            handshake.then(function(child) {\n                child.on('authorize', data => {\n                    clearTimeout(timeout)\n                    resolve(data)\n                });\n            });\n            })\n        });\n    ",
      "text/plain": [
       "<IPython.core.display.Javascript object>"
      ]
     },
     "metadata": {},
     "output_type": "display_data"
    },
    {
     "name": "stderr",
     "output_type": "stream",
     "text": [
      "\u001b[34m\u001b[1mwandb\u001b[0m: Logging into wandb.ai. (Learn how to deploy a W&B server locally: https://wandb.me/wandb-server)\n",
      "\u001b[34m\u001b[1mwandb\u001b[0m: You can find your API key in your browser here: https://wandb.ai/authorize\n",
      "wandb: Paste an API key from your profile and hit enter:"
     ]
    },
    {
     "name": "stdout",
     "output_type": "stream",
     "text": [
      " ··········\n"
     ]
    },
    {
     "name": "stderr",
     "output_type": "stream",
     "text": [
      "\u001b[34m\u001b[1mwandb\u001b[0m: \u001b[33mWARNING\u001b[0m If you're specifying your api key in code, ensure this code is not shared publicly.\n",
      "\u001b[34m\u001b[1mwandb\u001b[0m: \u001b[33mWARNING\u001b[0m Consider setting the WANDB_API_KEY environment variable, or running `wandb login` from the command line.\n",
      "\u001b[34m\u001b[1mwandb\u001b[0m: No netrc file found, creating one.\n",
      "\u001b[34m\u001b[1mwandb\u001b[0m: Appending key for api.wandb.ai to your netrc file: /root/.netrc\n",
      "\u001b[34m\u001b[1mwandb\u001b[0m: Currently logged in as: \u001b[33mcerbellifederico\u001b[0m (\u001b[33mcerbellifederico-politecnico-di-torino\u001b[0m) to \u001b[32mhttps://api.wandb.ai\u001b[0m. Use \u001b[1m`wandb login --relogin`\u001b[0m to force relogin\n"
     ]
    },
    {
     "data": {
      "text/plain": [
       "True"
      ]
     },
     "execution_count": 8,
     "metadata": {},
     "output_type": "execute_result"
    }
   ],
   "source": [
    "wandb.login(relogin = True) # Ask for your API key for logging in to the wandb library."
   ]
  },
  {
   "cell_type": "code",
   "execution_count": null,
   "id": "f1uwQJOSKHgl",
   "metadata": {
    "colab": {
     "base_uri": "https://localhost:8080/"
    },
    "id": "f1uwQJOSKHgl",
    "outputId": "d20647ce-20aa-43c3-a11b-dd4b1f7249cb"
   },
   "outputs": [
    {
     "name": "stdout",
     "output_type": "stream",
     "text": [
      "Number of images in Training Set:   40000\n",
      "Number of images in Validation Set: 10000\n",
      "Number of images in Test Set:       10000\n",
      "✅ Datasets loaded successfully\n"
     ]
    }
   ],
   "source": [
    "# Import CIFAR100 dataset: train_set, val_set, test_set\n",
    "# The transforms are applied before returning the dataset (in the module)\n",
    "valid_split_perc = 0.2    # of the 50000 training data\n",
    "train_set, val_set, test_set = get_cifar100(valid_split_perc)"
   ]
  },
  {
   "cell_type": "code",
   "execution_count": null,
   "id": "c_UDv-rPjVSj",
   "metadata": {
    "id": "c_UDv-rPjVSj"
   },
   "outputs": [],
   "source": [
    "# Create DataLoaders for training, validation, and test sets\n",
    "# batch_size è in hyperparameter (64, 128, ..), anche num_workers (consigliato per colab 2 o 4)\n",
    "train_loader = DataLoader(train_set, batch_size=128, shuffle=True, num_workers=2)\n",
    "val_loader = DataLoader(val_set, batch_size=128, shuffle=False, num_workers=2)\n",
    "test_loader = DataLoader(test_set, batch_size=128, shuffle=False, num_workers=2)"
   ]
  },
  {
   "cell_type": "code",
   "execution_count": null,
   "id": "pQfnA6hESXaS",
   "metadata": {
    "id": "pQfnA6hESXaS"
   },
   "outputs": [],
   "source": [
    "c = {\n",
    "    'lr': {\n",
    "        'values': [0.001, 0.01, 0.005]\n",
    "    },\n",
    "    'weight_decay': {\n",
    "        'values': [0.0001, 0.001]}}\n"
   ]
  },
  {
   "cell_type": "code",
   "execution_count": 9,
   "id": "hXbyxIonWOTL",
   "metadata": {
    "colab": {
     "base_uri": "https://localhost:8080/"
    },
    "executionInfo": {
     "elapsed": 3517,
     "status": "ok",
     "timestamp": 1751723690938,
     "user": {
      "displayName": "Federico Cerbelli",
      "userId": "06744786943619548510"
     },
     "user_tz": -120
    },
    "id": "hXbyxIonWOTL",
    "outputId": "0de955ce-a138-48a0-afd5-0d515658d4aa"
   },
   "outputs": [
    {
     "name": "stderr",
     "output_type": "stream",
     "text": [
      "Downloading: \"https://github.com/facebookresearch/dino/zipball/main\" to /root/.cache/torch/hub/main.zip\n",
      "Downloading: \"https://dl.fbaipublicfiles.com/dino/dino_deitsmall16_pretrain/dino_deitsmall16_pretrain.pth\" to /root/.cache/torch/hub/checkpoints/dino_deitsmall16_pretrain.pth\n",
      "100%|██████████| 82.7M/82.7M [00:00<00:00, 165MB/s]\n"
     ]
    },
    {
     "name": "stdout",
     "output_type": "stream",
     "text": [
      "moving model to cuda\n",
      "\n",
      "--- Debugging Model ---\n",
      "Model is primarily on device: cuda:0\n",
      "Model overall mode: Train\n",
      "\n",
      "Parameter Details (Name | Device | Requires Grad? | Inferred Block | Module Mode):\n",
      "- backbone.cls_token                                 | cuda:0     | False           | N/A             | Train\n",
      "- backbone.pos_embed                                 | cuda:0     | False           | N/A             | Train\n",
      "- backbone.patch_embed.proj.weight                   | cuda:0     | False           | N/A             | Train\n",
      "- backbone.patch_embed.proj.bias                     | cuda:0     | False           | N/A             | Train\n",
      "- backbone.blocks.0.norm1.weight                     | cuda:0     | False           | Block 0         | Eval\n",
      "- backbone.blocks.0.norm1.bias                       | cuda:0     | False           | Block 0         | Eval\n",
      "- backbone.blocks.0.attn.qkv.weight                  | cuda:0     | False           | Block 0         | Eval\n",
      "- backbone.blocks.0.attn.qkv.bias                    | cuda:0     | False           | Block 0         | Eval\n",
      "- backbone.blocks.0.attn.proj.weight                 | cuda:0     | False           | Block 0         | Eval\n",
      "- backbone.blocks.0.attn.proj.bias                   | cuda:0     | False           | Block 0         | Eval\n",
      "- backbone.blocks.0.norm2.weight                     | cuda:0     | False           | Block 0         | Eval\n",
      "- backbone.blocks.0.norm2.bias                       | cuda:0     | False           | Block 0         | Eval\n",
      "- backbone.blocks.0.mlp.fc1.weight                   | cuda:0     | False           | Block 0         | Eval\n",
      "- backbone.blocks.0.mlp.fc1.bias                     | cuda:0     | False           | Block 0         | Eval\n",
      "- backbone.blocks.0.mlp.fc2.weight                   | cuda:0     | False           | Block 0         | Eval\n",
      "- backbone.blocks.0.mlp.fc2.bias                     | cuda:0     | False           | Block 0         | Eval\n",
      "- backbone.blocks.1.norm1.weight                     | cuda:0     | False           | Block 1         | Eval\n",
      "- backbone.blocks.1.norm1.bias                       | cuda:0     | False           | Block 1         | Eval\n",
      "- backbone.blocks.1.attn.qkv.weight                  | cuda:0     | False           | Block 1         | Eval\n",
      "- backbone.blocks.1.attn.qkv.bias                    | cuda:0     | False           | Block 1         | Eval\n",
      "- backbone.blocks.1.attn.proj.weight                 | cuda:0     | False           | Block 1         | Eval\n",
      "- backbone.blocks.1.attn.proj.bias                   | cuda:0     | False           | Block 1         | Eval\n",
      "- backbone.blocks.1.norm2.weight                     | cuda:0     | False           | Block 1         | Eval\n",
      "- backbone.blocks.1.norm2.bias                       | cuda:0     | False           | Block 1         | Eval\n",
      "- backbone.blocks.1.mlp.fc1.weight                   | cuda:0     | False           | Block 1         | Eval\n",
      "- backbone.blocks.1.mlp.fc1.bias                     | cuda:0     | False           | Block 1         | Eval\n",
      "- backbone.blocks.1.mlp.fc2.weight                   | cuda:0     | False           | Block 1         | Eval\n",
      "- backbone.blocks.1.mlp.fc2.bias                     | cuda:0     | False           | Block 1         | Eval\n",
      "- backbone.blocks.2.norm1.weight                     | cuda:0     | False           | Block 2         | Eval\n",
      "- backbone.blocks.2.norm1.bias                       | cuda:0     | False           | Block 2         | Eval\n",
      "- backbone.blocks.2.attn.qkv.weight                  | cuda:0     | False           | Block 2         | Eval\n",
      "- backbone.blocks.2.attn.qkv.bias                    | cuda:0     | False           | Block 2         | Eval\n",
      "- backbone.blocks.2.attn.proj.weight                 | cuda:0     | False           | Block 2         | Eval\n",
      "- backbone.blocks.2.attn.proj.bias                   | cuda:0     | False           | Block 2         | Eval\n",
      "- backbone.blocks.2.norm2.weight                     | cuda:0     | False           | Block 2         | Eval\n",
      "- backbone.blocks.2.norm2.bias                       | cuda:0     | False           | Block 2         | Eval\n",
      "- backbone.blocks.2.mlp.fc1.weight                   | cuda:0     | False           | Block 2         | Eval\n",
      "- backbone.blocks.2.mlp.fc1.bias                     | cuda:0     | False           | Block 2         | Eval\n",
      "- backbone.blocks.2.mlp.fc2.weight                   | cuda:0     | False           | Block 2         | Eval\n",
      "- backbone.blocks.2.mlp.fc2.bias                     | cuda:0     | False           | Block 2         | Eval\n",
      "- backbone.blocks.3.norm1.weight                     | cuda:0     | False           | Block 3         | Eval\n",
      "- backbone.blocks.3.norm1.bias                       | cuda:0     | False           | Block 3         | Eval\n",
      "- backbone.blocks.3.attn.qkv.weight                  | cuda:0     | False           | Block 3         | Eval\n",
      "- backbone.blocks.3.attn.qkv.bias                    | cuda:0     | False           | Block 3         | Eval\n",
      "- backbone.blocks.3.attn.proj.weight                 | cuda:0     | False           | Block 3         | Eval\n",
      "- backbone.blocks.3.attn.proj.bias                   | cuda:0     | False           | Block 3         | Eval\n",
      "- backbone.blocks.3.norm2.weight                     | cuda:0     | False           | Block 3         | Eval\n",
      "- backbone.blocks.3.norm2.bias                       | cuda:0     | False           | Block 3         | Eval\n",
      "- backbone.blocks.3.mlp.fc1.weight                   | cuda:0     | False           | Block 3         | Eval\n",
      "- backbone.blocks.3.mlp.fc1.bias                     | cuda:0     | False           | Block 3         | Eval\n",
      "- backbone.blocks.3.mlp.fc2.weight                   | cuda:0     | False           | Block 3         | Eval\n",
      "- backbone.blocks.3.mlp.fc2.bias                     | cuda:0     | False           | Block 3         | Eval\n",
      "- backbone.blocks.4.norm1.weight                     | cuda:0     | False           | Block 4         | Eval\n",
      "- backbone.blocks.4.norm1.bias                       | cuda:0     | False           | Block 4         | Eval\n",
      "- backbone.blocks.4.attn.qkv.weight                  | cuda:0     | False           | Block 4         | Eval\n",
      "- backbone.blocks.4.attn.qkv.bias                    | cuda:0     | False           | Block 4         | Eval\n",
      "- backbone.blocks.4.attn.proj.weight                 | cuda:0     | False           | Block 4         | Eval\n",
      "- backbone.blocks.4.attn.proj.bias                   | cuda:0     | False           | Block 4         | Eval\n",
      "- backbone.blocks.4.norm2.weight                     | cuda:0     | False           | Block 4         | Eval\n",
      "- backbone.blocks.4.norm2.bias                       | cuda:0     | False           | Block 4         | Eval\n",
      "- backbone.blocks.4.mlp.fc1.weight                   | cuda:0     | False           | Block 4         | Eval\n",
      "- backbone.blocks.4.mlp.fc1.bias                     | cuda:0     | False           | Block 4         | Eval\n",
      "- backbone.blocks.4.mlp.fc2.weight                   | cuda:0     | False           | Block 4         | Eval\n",
      "- backbone.blocks.4.mlp.fc2.bias                     | cuda:0     | False           | Block 4         | Eval\n",
      "- backbone.blocks.5.norm1.weight                     | cuda:0     | False           | Block 5         | Eval\n",
      "- backbone.blocks.5.norm1.bias                       | cuda:0     | False           | Block 5         | Eval\n",
      "- backbone.blocks.5.attn.qkv.weight                  | cuda:0     | False           | Block 5         | Eval\n",
      "- backbone.blocks.5.attn.qkv.bias                    | cuda:0     | False           | Block 5         | Eval\n",
      "- backbone.blocks.5.attn.proj.weight                 | cuda:0     | False           | Block 5         | Eval\n",
      "- backbone.blocks.5.attn.proj.bias                   | cuda:0     | False           | Block 5         | Eval\n",
      "- backbone.blocks.5.norm2.weight                     | cuda:0     | False           | Block 5         | Eval\n",
      "- backbone.blocks.5.norm2.bias                       | cuda:0     | False           | Block 5         | Eval\n",
      "- backbone.blocks.5.mlp.fc1.weight                   | cuda:0     | False           | Block 5         | Eval\n",
      "- backbone.blocks.5.mlp.fc1.bias                     | cuda:0     | False           | Block 5         | Eval\n",
      "- backbone.blocks.5.mlp.fc2.weight                   | cuda:0     | False           | Block 5         | Eval\n",
      "- backbone.blocks.5.mlp.fc2.bias                     | cuda:0     | False           | Block 5         | Eval\n",
      "- backbone.blocks.6.norm1.weight                     | cuda:0     | False           | Block 6         | Eval\n",
      "- backbone.blocks.6.norm1.bias                       | cuda:0     | False           | Block 6         | Eval\n",
      "- backbone.blocks.6.attn.qkv.weight                  | cuda:0     | False           | Block 6         | Eval\n",
      "- backbone.blocks.6.attn.qkv.bias                    | cuda:0     | False           | Block 6         | Eval\n",
      "- backbone.blocks.6.attn.proj.weight                 | cuda:0     | False           | Block 6         | Eval\n",
      "- backbone.blocks.6.attn.proj.bias                   | cuda:0     | False           | Block 6         | Eval\n",
      "- backbone.blocks.6.norm2.weight                     | cuda:0     | False           | Block 6         | Eval\n",
      "- backbone.blocks.6.norm2.bias                       | cuda:0     | False           | Block 6         | Eval\n",
      "- backbone.blocks.6.mlp.fc1.weight                   | cuda:0     | False           | Block 6         | Eval\n",
      "- backbone.blocks.6.mlp.fc1.bias                     | cuda:0     | False           | Block 6         | Eval\n",
      "- backbone.blocks.6.mlp.fc2.weight                   | cuda:0     | False           | Block 6         | Eval\n",
      "- backbone.blocks.6.mlp.fc2.bias                     | cuda:0     | False           | Block 6         | Eval\n",
      "- backbone.blocks.7.norm1.weight                     | cuda:0     | False           | Block 7         | Eval\n",
      "- backbone.blocks.7.norm1.bias                       | cuda:0     | False           | Block 7         | Eval\n",
      "- backbone.blocks.7.attn.qkv.weight                  | cuda:0     | False           | Block 7         | Eval\n",
      "- backbone.blocks.7.attn.qkv.bias                    | cuda:0     | False           | Block 7         | Eval\n",
      "- backbone.blocks.7.attn.proj.weight                 | cuda:0     | False           | Block 7         | Eval\n",
      "- backbone.blocks.7.attn.proj.bias                   | cuda:0     | False           | Block 7         | Eval\n",
      "- backbone.blocks.7.norm2.weight                     | cuda:0     | False           | Block 7         | Eval\n",
      "- backbone.blocks.7.norm2.bias                       | cuda:0     | False           | Block 7         | Eval\n",
      "- backbone.blocks.7.mlp.fc1.weight                   | cuda:0     | False           | Block 7         | Eval\n",
      "- backbone.blocks.7.mlp.fc1.bias                     | cuda:0     | False           | Block 7         | Eval\n",
      "- backbone.blocks.7.mlp.fc2.weight                   | cuda:0     | False           | Block 7         | Eval\n",
      "- backbone.blocks.7.mlp.fc2.bias                     | cuda:0     | False           | Block 7         | Eval\n",
      "- backbone.blocks.8.norm1.weight                     | cuda:0     | False           | Block 8         | Eval\n",
      "- backbone.blocks.8.norm1.bias                       | cuda:0     | False           | Block 8         | Eval\n",
      "- backbone.blocks.8.attn.qkv.weight                  | cuda:0     | False           | Block 8         | Eval\n",
      "- backbone.blocks.8.attn.qkv.bias                    | cuda:0     | False           | Block 8         | Eval\n",
      "- backbone.blocks.8.attn.proj.weight                 | cuda:0     | False           | Block 8         | Eval\n",
      "- backbone.blocks.8.attn.proj.bias                   | cuda:0     | False           | Block 8         | Eval\n",
      "- backbone.blocks.8.norm2.weight                     | cuda:0     | False           | Block 8         | Eval\n",
      "- backbone.blocks.8.norm2.bias                       | cuda:0     | False           | Block 8         | Eval\n",
      "- backbone.blocks.8.mlp.fc1.weight                   | cuda:0     | False           | Block 8         | Eval\n",
      "- backbone.blocks.8.mlp.fc1.bias                     | cuda:0     | False           | Block 8         | Eval\n",
      "- backbone.blocks.8.mlp.fc2.weight                   | cuda:0     | False           | Block 8         | Eval\n",
      "- backbone.blocks.8.mlp.fc2.bias                     | cuda:0     | False           | Block 8         | Eval\n",
      "- backbone.blocks.9.norm1.weight                     | cuda:0     | False           | Block 9         | Eval\n",
      "- backbone.blocks.9.norm1.bias                       | cuda:0     | False           | Block 9         | Eval\n",
      "- backbone.blocks.9.attn.qkv.weight                  | cuda:0     | False           | Block 9         | Eval\n",
      "- backbone.blocks.9.attn.qkv.bias                    | cuda:0     | False           | Block 9         | Eval\n",
      "- backbone.blocks.9.attn.proj.weight                 | cuda:0     | False           | Block 9         | Eval\n",
      "- backbone.blocks.9.attn.proj.bias                   | cuda:0     | False           | Block 9         | Eval\n",
      "- backbone.blocks.9.norm2.weight                     | cuda:0     | False           | Block 9         | Eval\n",
      "- backbone.blocks.9.norm2.bias                       | cuda:0     | False           | Block 9         | Eval\n",
      "- backbone.blocks.9.mlp.fc1.weight                   | cuda:0     | False           | Block 9         | Eval\n",
      "- backbone.blocks.9.mlp.fc1.bias                     | cuda:0     | False           | Block 9         | Eval\n",
      "- backbone.blocks.9.mlp.fc2.weight                   | cuda:0     | False           | Block 9         | Eval\n",
      "- backbone.blocks.9.mlp.fc2.bias                     | cuda:0     | False           | Block 9         | Eval\n",
      "- backbone.blocks.10.norm1.weight                    | cuda:0     | False           | Block 10        | Eval\n",
      "- backbone.blocks.10.norm1.bias                      | cuda:0     | False           | Block 10        | Eval\n",
      "- backbone.blocks.10.attn.qkv.weight                 | cuda:0     | False           | Block 10        | Eval\n",
      "- backbone.blocks.10.attn.qkv.bias                   | cuda:0     | False           | Block 10        | Eval\n",
      "- backbone.blocks.10.attn.proj.weight                | cuda:0     | False           | Block 10        | Eval\n",
      "- backbone.blocks.10.attn.proj.bias                  | cuda:0     | False           | Block 10        | Eval\n",
      "- backbone.blocks.10.norm2.weight                    | cuda:0     | False           | Block 10        | Eval\n",
      "- backbone.blocks.10.norm2.bias                      | cuda:0     | False           | Block 10        | Eval\n",
      "- backbone.blocks.10.mlp.fc1.weight                  | cuda:0     | False           | Block 10        | Eval\n",
      "- backbone.blocks.10.mlp.fc1.bias                    | cuda:0     | False           | Block 10        | Eval\n",
      "- backbone.blocks.10.mlp.fc2.weight                  | cuda:0     | False           | Block 10        | Eval\n",
      "- backbone.blocks.10.mlp.fc2.bias                    | cuda:0     | False           | Block 10        | Eval\n",
      "- backbone.blocks.11.norm1.weight                    | cuda:0     | False           | Block 11        | Eval\n",
      "- backbone.blocks.11.norm1.bias                      | cuda:0     | False           | Block 11        | Eval\n",
      "- backbone.blocks.11.attn.qkv.weight                 | cuda:0     | False           | Block 11        | Eval\n",
      "- backbone.blocks.11.attn.qkv.bias                   | cuda:0     | False           | Block 11        | Eval\n",
      "- backbone.blocks.11.attn.proj.weight                | cuda:0     | False           | Block 11        | Eval\n",
      "- backbone.blocks.11.attn.proj.bias                  | cuda:0     | False           | Block 11        | Eval\n",
      "- backbone.blocks.11.norm2.weight                    | cuda:0     | False           | Block 11        | Eval\n",
      "- backbone.blocks.11.norm2.bias                      | cuda:0     | False           | Block 11        | Eval\n",
      "- backbone.blocks.11.mlp.fc1.weight                  | cuda:0     | False           | Block 11        | Eval\n",
      "- backbone.blocks.11.mlp.fc1.bias                    | cuda:0     | False           | Block 11        | Eval\n",
      "- backbone.blocks.11.mlp.fc2.weight                  | cuda:0     | False           | Block 11        | Eval\n",
      "- backbone.blocks.11.mlp.fc2.bias                    | cuda:0     | False           | Block 11        | Eval\n",
      "- backbone.norm.weight                               | cuda:0     | True            | N/A             | Train\n",
      "- backbone.norm.bias                                 | cuda:0     | True            | N/A             | Train\n",
      "- head.weight                                        | cuda:0     | True            | N/A             | Train\n",
      "- head.bias                                          | cuda:0     | True            | N/A             | Train\n",
      "--- End Debugging Model ---\n",
      "\n"
     ]
    }
   ],
   "source": [
    "o_model = models.LinearFlexibleDino()     # original model\n",
    "o_model.freeze(12)\n",
    "o_model.to_cuda()\n",
    "o_model.debug()"
   ]
  },
  {
   "cell_type": "code",
   "execution_count": null,
   "id": "0a40b397",
   "metadata": {
    "id": "0a40b397"
   },
   "outputs": [],
   "source": [
    "# Get hyperparam config\n",
    "configs = generate_configs(c)"
   ]
  },
  {
   "cell_type": "code",
   "execution_count": null,
   "id": "S5iYo6KUWt1D",
   "metadata": {
    "colab": {
     "base_uri": "https://localhost:8080/"
    },
    "id": "S5iYo6KUWt1D",
    "outputId": "1646215a-f1ca-4b9b-c599-91504c75a2f3"
   },
   "outputs": [
    {
     "name": "stdout",
     "output_type": "stream",
     "text": [
      "Completed combinations: ['0', '1', '2', '3', '4', '5']\n",
      "Skipping combination 0 (already completed)\n",
      "Skipping combination 1 (already completed)\n",
      "Skipping combination 2 (already completed)\n",
      "Skipping combination 3 (already completed)\n",
      "Skipping combination 4 (already completed)\n",
      "Skipping combination 5 (already completed)\n"
     ]
    }
   ],
   "source": [
    "# Directory dei checkpoint\n",
    "checkpoint_dir = \"/content/drive/MyDrive/FL/FederatedLearningProject/checkpoints\"\n",
    "\n",
    "# Percorsi dei file JSON\n",
    "completed_combinations_path = os.path.join(checkpoint_dir, \"completed_combinations.json\")\n",
    "best_model_path = os.path.join(checkpoint_dir, \"best_model.pth\")\n",
    "best_combination_path = os.path.join(checkpoint_dir, \"best_combination.json\")\n",
    "\n",
    "# Carica le combinazioni completate\n",
    "if os.path.exists(completed_combinations_path):\n",
    "    with open(completed_combinations_path, \"r\") as f:\n",
    "        completed_combinations = json.load(f)\n",
    "    print(f\"Completed combinations: {completed_combinations}\")\n",
    "else:\n",
    "    completed_combinations = []\n",
    "    print(\"No completed combinations\")\n",
    "\n",
    "# Carica la migliore combinazione salvata, se esiste\n",
    "if os.path.exists(best_combination_path):\n",
    "    with open(best_combination_path, \"r\") as f:\n",
    "        best_combination_info = json.load(f)\n",
    "        best_val_accuracy = best_combination_info.get(\"best_val_accuracy\", 0.0)\n",
    "        best_index = best_combination_info.get(\"best_index\", None)\n",
    "else:\n",
    "    best_val_accuracy = 0.0\n",
    "    best_index = None\n",
    "\n",
    "'''\n",
    "Il modello viene salvato nella checkpoint dir with the name {model_name}_run{i}\n",
    "where i is the idx of the combination of hyperparameters\n",
    "\n",
    "'''\n",
    "\n",
    "# Loop su tutte le configurazioni\n",
    "for i in range(len(configs)):                                       # iterate over combinations dictionaries\n",
    "    if str(i) in completed_combinations:                            # check if the combination has already been tried\n",
    "        print(f\"Skipping combination {i} (already completed)\")\n",
    "        continue\n",
    "\n",
    "    config_i = configs[i]\n",
    "\n",
    "    learning_rate = config_i[\"lr\"]\n",
    "    weight_decay = config_i[\"weight_decay\"]\n",
    "    momentum = config_i.get(\"momentum\", 0.9)\n",
    "    epochs = config_i.get(\"num_epochs\", 30)\n",
    "\n",
    "    model = copy.deepcopy(o_model)    # load a fresh model\n",
    "    params_to_optimize = model.parameters()\n",
    "\n",
    "    optimizer = optim.SGD(params_to_optimize, lr=learning_rate, momentum=momentum, weight_decay=weight_decay)\n",
    "    criterion = nn.CrossEntropyLoss()\n",
    "\n",
    "    model_name = \"dino_vit-s-16_\"\n",
    "    project_name = \"BaselineCentralized_CosineLR\"\n",
    "    run_name = f\"{model_name}_run_{i}\"\n",
    "\n",
    "    wandb.init(\n",
    "        project=project_name,\n",
    "        name=run_name,\n",
    "        id=run_name,\n",
    "        config={\n",
    "            \"model\": model_name,\n",
    "            \"epochs\": epochs,\n",
    "            \"batch_size\": train_loader.batch_size,\n",
    "            \"learning_rate\": learning_rate,\n",
    "            \"weight_decay\": weight_decay,\n",
    "            \"momentum\": momentum,\n",
    "            \"architecture\": model.__class__.__name__,\n",
    "        }\n",
    "    )\n",
    "\n",
    "    config = wandb.config\n",
    "\n",
    "\n",
    "\n",
    "    checkpoint_path = os.path.join(checkpoint_dir, f\"{model_name}_run_{i}_checkpoint_cosLR.pth\")\n",
    "    scheduler = CosineAnnealingLR(optimizer, T_max=epochs)\n",
    "    #scheduler = StepLR(optimizer, step_size=10, gamma=0.1) best combination is 3 with 46.64\n",
    "\n",
    "    start_epoch, checkpoint_data = load_checkpoint(model, optimizer, scheduler, run_name)\n",
    "\n",
    "    # Esegui training e ottieni la migliore validation accuracy del run\n",
    "    val_accuracy = train_and_validate(\n",
    "        start_epoch,\n",
    "        model=model,\n",
    "        train_loader=train_loader,\n",
    "        val_loader=val_loader,\n",
    "        test_loader=test_loader,\n",
    "        scheduler=scheduler,\n",
    "        optimizer=optimizer,\n",
    "        criterion=criterion,\n",
    "        device=device,\n",
    "        checkpoint_path=checkpoint_path,\n",
    "        num_epochs=epochs,\n",
    "        checkpoint_interval=config_i.get(\"checkpoint_interval\", 5)\n",
    "    )\n",
    "\n",
    "    wandb.finish()\n",
    "\n",
    "    # Salva il miglior modello se la val_accuracy è migliorata\n",
    "    if val_accuracy > best_val_accuracy:\n",
    "        best_val_accuracy = val_accuracy\n",
    "        best_index = i\n",
    "        torch.save(model.state_dict(), best_model_path)\n",
    "\n",
    "        # Salva anche l'indice e la val_accuracy nel file JSON\n",
    "        with open(best_combination_path, \"w\") as f:\n",
    "            json.dump({\"best_index\": best_index, \"best_val_accuracy\": best_val_accuracy}, f)\n",
    "\n",
    "        print(f\" Best model updated! Combination: {best_index} | Accuracy: {best_val_accuracy:.4f}\")\n",
    "    else:\n",
    "        print(f\"Best combination is {best_index} with val accuracy {best_val_accuracy:.4f}\")\n",
    "\n",
    "    # Segna il run come completato\n",
    "    completed_combinations.append(str(i))\n",
    "    with open(completed_combinations_path, \"w\") as f:\n",
    "        json.dump(completed_combinations, f)\n",
    "\n",
    "    print(f\" Finished combination {i}\")"
   ]
  },
  {
   "cell_type": "code",
   "execution_count": 10,
   "id": "yEgLAKkA5YAo",
   "metadata": {
    "colab": {
     "base_uri": "https://localhost:8080/"
    },
    "executionInfo": {
     "elapsed": 2466,
     "status": "ok",
     "timestamp": 1751723703972,
     "user": {
      "displayName": "Federico Cerbelli",
      "userId": "06744786943619548510"
     },
     "user_tz": -120
    },
    "id": "yEgLAKkA5YAo",
    "outputId": "1ec99d2a-9a34-4b73-fb6e-5abae95e90e0"
   },
   "outputs": [
    {
     "name": "stdout",
     "output_type": "stream",
     "text": [
      "Number of images in Training Set:   50000\n",
      "Number of images in Test Set:       10000\n",
      "✅ Datasets loaded successfully (no validation split)\n"
     ]
    }
   ],
   "source": [
    "valid_split_perc = 0   # of the 50000 training data\n",
    "train_set, test_set = get_cifar100(valid_split_perc)\n",
    "\n",
    "train_loader = DataLoader(train_set, batch_size=128, shuffle=True, num_workers=2)\n",
    "test_loader = DataLoader(test_set, batch_size=128, shuffle=False, num_workers=2)"
   ]
  },
  {
   "cell_type": "code",
   "execution_count": 11,
   "id": "ryc90I5r_MR1",
   "metadata": {
    "executionInfo": {
     "elapsed": 20,
     "status": "ok",
     "timestamp": 1751723703994,
     "user": {
      "displayName": "Federico Cerbelli",
      "userId": "06744786943619548510"
     },
     "user_tz": -120
    },
    "id": "ryc90I5r_MR1"
   },
   "outputs": [],
   "source": [
    "checkpoint_dir = \"/content/drive/MyDrive/FL/FederatedLearningProject/checkpoints\"\n",
    "os.makedirs(checkpoint_dir, exist_ok=True)\n",
    "best_model_path = os.path.join(checkpoint_dir, \"best_model.pth\")\n"
   ]
  },
  {
   "cell_type": "code",
   "execution_count": null,
   "id": "2Bz0hWeR-FJN",
   "metadata": {
    "id": "2Bz0hWeR-FJN"
   },
   "outputs": [],
   "source": [
    "learning_rate = 0.01\n",
    "weight_decay = 0.0001\n",
    "momentum = 0.9\n",
    "epochs = 30\n",
    "\n",
    "model = copy.deepcopy(o_model)    # load a fresh model\n",
    "params_to_optimize = model.parameters()\n",
    "\n",
    "optimizer = optim.SGD(params_to_optimize, lr=learning_rate, momentum=momentum, weight_decay=weight_decay)\n",
    "criterion = nn.CrossEntropyLoss()\n",
    "\n",
    "model_name = \"dino_vit-s-16_\"\n",
    "project_name = \"BaselineCentralized_Test_Best_Model\"\n",
    "run_name = f\"{model_name}_run\"\n",
    "\n",
    "wandb.init(\n",
    "    project=project_name,\n",
    "    name=run_name,\n",
    "    id=run_name,\n",
    "    config={\n",
    "        \"model\": model_name,\n",
    "        \"epochs\": epochs,\n",
    "        \"batch_size\": train_loader.batch_size,\n",
    "        \"learning_rate\": learning_rate,\n",
    "        \"weight_decay\": weight_decay,\n",
    "        \"momentum\": momentum,\n",
    "        \"architecture\": model.__class__.__name__,\n",
    "    }\n",
    ")\n",
    "\n",
    "config = wandb.config\n",
    "\n",
    "checkpoint_path = os.path.join(checkpoint_dir, f\"{model_name}_run_checkpoint_Test_Best.pth\")\n",
    "scheduler = CosineAnnealingLR(optimizer, T_max=epochs)\n",
    "\n",
    "start_epoch, checkpoint_data = load_checkpoint(model, optimizer, scheduler, run_name)\n",
    "\n",
    "test_accuracy = train_and_test(\n",
    "    start_epoch,\n",
    "    model=model,\n",
    "    train_loader=train_loader,\n",
    "    test_loader=test_loader,\n",
    "    scheduler=scheduler,\n",
    "    optimizer=optimizer,\n",
    "    criterion=criterion,\n",
    "    device=device,\n",
    "    checkpoint_path=checkpoint_path,\n",
    "    num_epochs=epochs,\n",
    "    checkpoint_interval=5\n",
    ")\n",
    "\n",
    "wandb.finish()\n",
    "\n"
   ]
  }
 ],
 "metadata": {
  "accelerator": "GPU",
  "colab": {
   "gpuType": "T4",
   "provenance": []
  },
  "jupytext": {
   "cell_metadata_filter": "-all",
   "main_language": "python",
   "notebook_metadata_filter": "-all"
  },
  "kernelspec": {
   "display_name": "Python 3",
   "name": "python3"
  },
  "language_info": {
   "codemirror_mode": {
    "name": "ipython",
    "version": 3
   },
   "file_extension": ".py",
   "mimetype": "text/x-python",
   "name": "python",
   "nbconvert_exporter": "python",
   "pygments_lexer": "ipython3",
   "version": "3.12.9"
  }
 },
 "nbformat": 4,
 "nbformat_minor": 5
}
