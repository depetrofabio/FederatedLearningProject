{
 "cells": [
  {
   "cell_type": "code",
   "execution_count": null,
   "id": "e32c22bc",
   "metadata": {
    "colab": {
     "base_uri": "https://localhost:8080/"
    },
    "executionInfo": {
     "elapsed": 42373,
     "status": "ok",
     "timestamp": 1751214959122,
     "user": {
      "displayName": "Niccolò",
      "userId": "00690440481202077065"
     },
     "user_tz": -120
    },
    "id": "e32c22bc",
    "outputId": "5007812e-771a-401e-90d4-f3d8247c0313"
   },
   "outputs": [
    {
     "name": "stdout",
     "output_type": "stream",
     "text": [
      "Mounted at /content/drive\n",
      "Mounted at /content/drive\n"
     ]
    }
   ],
   "source": [
    "import numpy as np\n",
    "import wandb\n",
    "from google.colab import drive\n",
    "drive.mount('/content/drive', force_remount=True)\n",
    "import shutil\n",
    "import os                              # Import the 'os' module for changing directories\n",
    "os.chdir('/content/drive/MyDrive/FL')  # Change the directory\n",
    "import datetime as datetime\n",
    "import copy\n",
    "import json"
   ]
  },
  {
   "cell_type": "code",
   "execution_count": null,
   "id": "9c743918",
   "metadata": {},
   "outputs": [],
   "source": [
    "import matplotlib.pyplot as plt\n",
    "from torch.utils.data import DataLoader, Subset\n",
    "import numpy as np\n",
    "import torch\n",
    "import torch.nn.functional as F\n",
    "import torch.nn as nn\n",
    "import time"
   ]
  },
  {
   "cell_type": "code",
   "execution_count": null,
   "id": "602743a3",
   "metadata": {},
   "outputs": [],
   "source": [
    "import wandb\n",
    "wandb.login(relogin = True)"
   ]
  },
  {
   "cell_type": "code",
   "execution_count": null,
   "id": "f6baed5d",
   "metadata": {},
   "outputs": [],
   "source": [
    "# Mount Google Drive\n",
    "from google.colab import drive\n",
    "drive.mount('/content/drive', force_remount=True)\n",
    "\n",
    "# Change working directory\n",
    "import os\n",
    "os.chdir('/content/drive/MyDrive/FL')\n",
    "\n",
    "# Core Python modules\n",
    "import os\n",
    "import shutil\n",
    "import json\n",
    "import time\n",
    "import datetime\n",
    "import copy\n",
    "\n",
    "# Data & Plotting\n",
    "import numpy as np\n",
    "import matplotlib.pyplot as plt\n",
    "\n",
    "# Torch and related libraries\n",
    "import torch\n",
    "import torch.nn as nn\n",
    "import torch.nn.functional as F\n",
    "import torch.optim as optim\n",
    "from torch.utils.data import DataLoader, Subset, random_split\n",
    "from torch.optim.lr_scheduler import CosineAnnealingLR\n",
    "\n",
    "# TorchVision datasets and transforms\n",
    "import torchvision\n",
    "from torchvision import transforms\n",
    "from torchvision.datasets import CIFAR100\n",
    "\n",
    "# wandb (for experiment tracking)\n",
    "import wandb\n",
    "wandb.login(relogin=True)\n",
    "\n",
    "# Project-specific imports\n",
    "from FederatedLearningProject.data.cifar100_loader import get_cifar100\n",
    "from FederatedLearningProject.checkpoints.checkpointing import (\n",
    "    save_checkpoint, save_checkpoint_test, load_checkpoint\n",
    ")\n",
    "\n",
    "from FederatedLearningProject.training.centralized_training import (\n",
    "    train_and_validate, train_and_test, train_epoch, validate_epoch,\n",
    "    test_epoch, log_to_wandb, log_to_wandb_test, generate_configs\n",
    ")\n",
    "from FederatedLearningProject.training.model_editing import (\n",
    "    compute_mask, SparseSGDM, plot_changed_weights_percentage,\n",
    "    plot_all_layers_mask_sparsity, plot_qkv_weight_bias_sparsity,\n",
    "    get_n_examples_per_class_loader, print_info_dataloader\n",
    ")\n",
    "import FederatedLearningProject.experiments.models as models\n",
    "\n",
    "# Set device\n",
    "device = torch.device(\"cuda\" if torch.cuda.is_available() else \"cpu\")\n"
   ]
  },
  {
   "cell_type": "code",
   "execution_count": null,
   "id": "a5bfd7e5",
   "metadata": {
    "colab": {
     "base_uri": "https://localhost:8080/"
    },
    "executionInfo": {
     "elapsed": 10650,
     "status": "ok",
     "timestamp": 1751214969777,
     "user": {
      "displayName": "Niccolò",
      "userId": "00690440481202077065"
     },
     "user_tz": -120
    },
    "id": "a5bfd7e5",
    "outputId": "f5d4b367-1823-4793-abc7-39e262bf4d33"
   },
   "outputs": [
    {
     "name": "stdout",
     "output_type": "stream",
     "text": [
      "Number of images in Training Set:   40000\n",
      "Number of images in Validation Set: 10000\n",
      "Number of images in Test Set:       10000\n",
      "✅ Datasets loaded successfully\n"
     ]
    }
   ],
   "source": [
    "# Import CIFAR100 dataset: train_set, val_set, test_set\n",
    "# The transforms are applied before returning the dataset (in the module)\n",
    "valid_split_perc = 0.2    # of the 50000 training data§\n",
    "train_set, val_set, test_set = get_cifar100(valid_split_perc)"
   ]
  },
  {
   "cell_type": "code",
   "execution_count": 3,
   "id": "1e38ba86",
   "metadata": {
    "executionInfo": {
     "elapsed": 19,
     "status": "ok",
     "timestamp": 1751214969793,
     "user": {
      "displayName": "Niccolò",
      "userId": "00690440481202077065"
     },
     "user_tz": -120
    },
    "id": "1e38ba86"
   },
   "outputs": [],
   "source": [
    "# Create DataLoaders for training, validation, and test sets\n",
    "# batch_size è in hyperparameter (64, 128, ..), anche num_workers (consigliato per colab 2 o 4)\n",
    "train_loader = DataLoader(train_set, batch_size=128, shuffle=True, num_workers=2)\n",
    "val_loader = DataLoader(val_set, batch_size=128, shuffle=False, num_workers=2)\n",
    "test_loader = DataLoader(test_set, batch_size=128, shuffle=False, num_workers=2)"
   ]
  },
  {
   "cell_type": "code",
   "execution_count": null,
   "id": "934cda6a",
   "metadata": {
    "colab": {
     "base_uri": "https://localhost:8080/"
    },
    "executionInfo": {
     "elapsed": 4199,
     "status": "ok",
     "timestamp": 1751214973994,
     "user": {
      "displayName": "Niccolò",
      "userId": "00690440481202077065"
     },
     "user_tz": -120
    },
    "id": "934cda6a",
    "outputId": "fdb5cb3d-f609-4015-9a56-28fdbb464460"
   },
   "outputs": [
    {
     "name": "stderr",
     "output_type": "stream",
     "text": [
      "Downloading: \"https://github.com/facebookresearch/dino/zipball/main\" to /root/.cache/torch/hub/main.zip\n",
      "Downloading: \"https://dl.fbaipublicfiles.com/dino/dino_deitsmall16_pretrain/dino_deitsmall16_pretrain.pth\" to /root/.cache/torch/hub/checkpoints/dino_deitsmall16_pretrain.pth\n",
      "100%|██████████| 82.7M/82.7M [00:00<00:00, 112MB/s]\n"
     ]
    },
    {
     "name": "stdout",
     "output_type": "stream",
     "text": [
      "cuda not available\n",
      "\n",
      "--- Debugging Model ---\n",
      "Model is primarily on device: cpu\n",
      "Model overall mode: Train\n",
      "\n",
      "Parameter Details (Name | Device | Requires Grad? | Inferred Block | Module Mode):\n",
      "- backbone.cls_token                                 | cpu        | False           | N/A             | Train\n",
      "- backbone.pos_embed                                 | cpu        | False           | N/A             | Train\n",
      "- backbone.patch_embed.proj.weight                   | cpu        | False           | N/A             | Train\n",
      "- backbone.patch_embed.proj.bias                     | cpu        | False           | N/A             | Train\n",
      "- backbone.blocks.0.norm1.weight                     | cpu        | False           | Block 0         | Eval\n",
      "- backbone.blocks.0.norm1.bias                       | cpu        | False           | Block 0         | Eval\n",
      "- backbone.blocks.0.attn.qkv.weight                  | cpu        | False           | Block 0         | Eval\n",
      "- backbone.blocks.0.attn.qkv.bias                    | cpu        | False           | Block 0         | Eval\n",
      "- backbone.blocks.0.attn.proj.weight                 | cpu        | False           | Block 0         | Eval\n",
      "- backbone.blocks.0.attn.proj.bias                   | cpu        | False           | Block 0         | Eval\n",
      "- backbone.blocks.0.norm2.weight                     | cpu        | False           | Block 0         | Eval\n",
      "- backbone.blocks.0.norm2.bias                       | cpu        | False           | Block 0         | Eval\n",
      "- backbone.blocks.0.mlp.fc1.weight                   | cpu        | False           | Block 0         | Eval\n",
      "- backbone.blocks.0.mlp.fc1.bias                     | cpu        | False           | Block 0         | Eval\n",
      "- backbone.blocks.0.mlp.fc2.weight                   | cpu        | False           | Block 0         | Eval\n",
      "- backbone.blocks.0.mlp.fc2.bias                     | cpu        | False           | Block 0         | Eval\n",
      "- backbone.blocks.1.norm1.weight                     | cpu        | False           | Block 1         | Eval\n",
      "- backbone.blocks.1.norm1.bias                       | cpu        | False           | Block 1         | Eval\n",
      "- backbone.blocks.1.attn.qkv.weight                  | cpu        | False           | Block 1         | Eval\n",
      "- backbone.blocks.1.attn.qkv.bias                    | cpu        | False           | Block 1         | Eval\n",
      "- backbone.blocks.1.attn.proj.weight                 | cpu        | False           | Block 1         | Eval\n",
      "- backbone.blocks.1.attn.proj.bias                   | cpu        | False           | Block 1         | Eval\n",
      "- backbone.blocks.1.norm2.weight                     | cpu        | False           | Block 1         | Eval\n",
      "- backbone.blocks.1.norm2.bias                       | cpu        | False           | Block 1         | Eval\n",
      "- backbone.blocks.1.mlp.fc1.weight                   | cpu        | False           | Block 1         | Eval\n",
      "- backbone.blocks.1.mlp.fc1.bias                     | cpu        | False           | Block 1         | Eval\n",
      "- backbone.blocks.1.mlp.fc2.weight                   | cpu        | False           | Block 1         | Eval\n",
      "- backbone.blocks.1.mlp.fc2.bias                     | cpu        | False           | Block 1         | Eval\n",
      "- backbone.blocks.2.norm1.weight                     | cpu        | False           | Block 2         | Eval\n",
      "- backbone.blocks.2.norm1.bias                       | cpu        | False           | Block 2         | Eval\n",
      "- backbone.blocks.2.attn.qkv.weight                  | cpu        | False           | Block 2         | Eval\n",
      "- backbone.blocks.2.attn.qkv.bias                    | cpu        | False           | Block 2         | Eval\n",
      "- backbone.blocks.2.attn.proj.weight                 | cpu        | False           | Block 2         | Eval\n",
      "- backbone.blocks.2.attn.proj.bias                   | cpu        | False           | Block 2         | Eval\n",
      "- backbone.blocks.2.norm2.weight                     | cpu        | False           | Block 2         | Eval\n",
      "- backbone.blocks.2.norm2.bias                       | cpu        | False           | Block 2         | Eval\n",
      "- backbone.blocks.2.mlp.fc1.weight                   | cpu        | False           | Block 2         | Eval\n",
      "- backbone.blocks.2.mlp.fc1.bias                     | cpu        | False           | Block 2         | Eval\n",
      "- backbone.blocks.2.mlp.fc2.weight                   | cpu        | False           | Block 2         | Eval\n",
      "- backbone.blocks.2.mlp.fc2.bias                     | cpu        | False           | Block 2         | Eval\n",
      "- backbone.blocks.3.norm1.weight                     | cpu        | False           | Block 3         | Eval\n",
      "- backbone.blocks.3.norm1.bias                       | cpu        | False           | Block 3         | Eval\n",
      "- backbone.blocks.3.attn.qkv.weight                  | cpu        | False           | Block 3         | Eval\n",
      "- backbone.blocks.3.attn.qkv.bias                    | cpu        | False           | Block 3         | Eval\n",
      "- backbone.blocks.3.attn.proj.weight                 | cpu        | False           | Block 3         | Eval\n",
      "- backbone.blocks.3.attn.proj.bias                   | cpu        | False           | Block 3         | Eval\n",
      "- backbone.blocks.3.norm2.weight                     | cpu        | False           | Block 3         | Eval\n",
      "- backbone.blocks.3.norm2.bias                       | cpu        | False           | Block 3         | Eval\n",
      "- backbone.blocks.3.mlp.fc1.weight                   | cpu        | False           | Block 3         | Eval\n",
      "- backbone.blocks.3.mlp.fc1.bias                     | cpu        | False           | Block 3         | Eval\n",
      "- backbone.blocks.3.mlp.fc2.weight                   | cpu        | False           | Block 3         | Eval\n",
      "- backbone.blocks.3.mlp.fc2.bias                     | cpu        | False           | Block 3         | Eval\n",
      "- backbone.blocks.4.norm1.weight                     | cpu        | False           | Block 4         | Eval\n",
      "- backbone.blocks.4.norm1.bias                       | cpu        | False           | Block 4         | Eval\n",
      "- backbone.blocks.4.attn.qkv.weight                  | cpu        | False           | Block 4         | Eval\n",
      "- backbone.blocks.4.attn.qkv.bias                    | cpu        | False           | Block 4         | Eval\n",
      "- backbone.blocks.4.attn.proj.weight                 | cpu        | False           | Block 4         | Eval\n",
      "- backbone.blocks.4.attn.proj.bias                   | cpu        | False           | Block 4         | Eval\n",
      "- backbone.blocks.4.norm2.weight                     | cpu        | False           | Block 4         | Eval\n",
      "- backbone.blocks.4.norm2.bias                       | cpu        | False           | Block 4         | Eval\n",
      "- backbone.blocks.4.mlp.fc1.weight                   | cpu        | False           | Block 4         | Eval\n",
      "- backbone.blocks.4.mlp.fc1.bias                     | cpu        | False           | Block 4         | Eval\n",
      "- backbone.blocks.4.mlp.fc2.weight                   | cpu        | False           | Block 4         | Eval\n",
      "- backbone.blocks.4.mlp.fc2.bias                     | cpu        | False           | Block 4         | Eval\n",
      "- backbone.blocks.5.norm1.weight                     | cpu        | False           | Block 5         | Eval\n",
      "- backbone.blocks.5.norm1.bias                       | cpu        | False           | Block 5         | Eval\n",
      "- backbone.blocks.5.attn.qkv.weight                  | cpu        | False           | Block 5         | Eval\n",
      "- backbone.blocks.5.attn.qkv.bias                    | cpu        | False           | Block 5         | Eval\n",
      "- backbone.blocks.5.attn.proj.weight                 | cpu        | False           | Block 5         | Eval\n",
      "- backbone.blocks.5.attn.proj.bias                   | cpu        | False           | Block 5         | Eval\n",
      "- backbone.blocks.5.norm2.weight                     | cpu        | False           | Block 5         | Eval\n",
      "- backbone.blocks.5.norm2.bias                       | cpu        | False           | Block 5         | Eval\n",
      "- backbone.blocks.5.mlp.fc1.weight                   | cpu        | False           | Block 5         | Eval\n",
      "- backbone.blocks.5.mlp.fc1.bias                     | cpu        | False           | Block 5         | Eval\n",
      "- backbone.blocks.5.mlp.fc2.weight                   | cpu        | False           | Block 5         | Eval\n",
      "- backbone.blocks.5.mlp.fc2.bias                     | cpu        | False           | Block 5         | Eval\n",
      "- backbone.blocks.6.norm1.weight                     | cpu        | False           | Block 6         | Eval\n",
      "- backbone.blocks.6.norm1.bias                       | cpu        | False           | Block 6         | Eval\n",
      "- backbone.blocks.6.attn.qkv.weight                  | cpu        | False           | Block 6         | Eval\n",
      "- backbone.blocks.6.attn.qkv.bias                    | cpu        | False           | Block 6         | Eval\n",
      "- backbone.blocks.6.attn.proj.weight                 | cpu        | False           | Block 6         | Eval\n",
      "- backbone.blocks.6.attn.proj.bias                   | cpu        | False           | Block 6         | Eval\n",
      "- backbone.blocks.6.norm2.weight                     | cpu        | False           | Block 6         | Eval\n",
      "- backbone.blocks.6.norm2.bias                       | cpu        | False           | Block 6         | Eval\n",
      "- backbone.blocks.6.mlp.fc1.weight                   | cpu        | False           | Block 6         | Eval\n",
      "- backbone.blocks.6.mlp.fc1.bias                     | cpu        | False           | Block 6         | Eval\n",
      "- backbone.blocks.6.mlp.fc2.weight                   | cpu        | False           | Block 6         | Eval\n",
      "- backbone.blocks.6.mlp.fc2.bias                     | cpu        | False           | Block 6         | Eval\n",
      "- backbone.blocks.7.norm1.weight                     | cpu        | False           | Block 7         | Eval\n",
      "- backbone.blocks.7.norm1.bias                       | cpu        | False           | Block 7         | Eval\n",
      "- backbone.blocks.7.attn.qkv.weight                  | cpu        | False           | Block 7         | Eval\n",
      "- backbone.blocks.7.attn.qkv.bias                    | cpu        | False           | Block 7         | Eval\n",
      "- backbone.blocks.7.attn.proj.weight                 | cpu        | False           | Block 7         | Eval\n",
      "- backbone.blocks.7.attn.proj.bias                   | cpu        | False           | Block 7         | Eval\n",
      "- backbone.blocks.7.norm2.weight                     | cpu        | False           | Block 7         | Eval\n",
      "- backbone.blocks.7.norm2.bias                       | cpu        | False           | Block 7         | Eval\n",
      "- backbone.blocks.7.mlp.fc1.weight                   | cpu        | False           | Block 7         | Eval\n",
      "- backbone.blocks.7.mlp.fc1.bias                     | cpu        | False           | Block 7         | Eval\n",
      "- backbone.blocks.7.mlp.fc2.weight                   | cpu        | False           | Block 7         | Eval\n",
      "- backbone.blocks.7.mlp.fc2.bias                     | cpu        | False           | Block 7         | Eval\n",
      "- backbone.blocks.8.norm1.weight                     | cpu        | False           | Block 8         | Eval\n",
      "- backbone.blocks.8.norm1.bias                       | cpu        | False           | Block 8         | Eval\n",
      "- backbone.blocks.8.attn.qkv.weight                  | cpu        | False           | Block 8         | Eval\n",
      "- backbone.blocks.8.attn.qkv.bias                    | cpu        | False           | Block 8         | Eval\n",
      "- backbone.blocks.8.attn.proj.weight                 | cpu        | False           | Block 8         | Eval\n",
      "- backbone.blocks.8.attn.proj.bias                   | cpu        | False           | Block 8         | Eval\n",
      "- backbone.blocks.8.norm2.weight                     | cpu        | False           | Block 8         | Eval\n",
      "- backbone.blocks.8.norm2.bias                       | cpu        | False           | Block 8         | Eval\n",
      "- backbone.blocks.8.mlp.fc1.weight                   | cpu        | False           | Block 8         | Eval\n",
      "- backbone.blocks.8.mlp.fc1.bias                     | cpu        | False           | Block 8         | Eval\n",
      "- backbone.blocks.8.mlp.fc2.weight                   | cpu        | False           | Block 8         | Eval\n",
      "- backbone.blocks.8.mlp.fc2.bias                     | cpu        | False           | Block 8         | Eval\n",
      "- backbone.blocks.9.norm1.weight                     | cpu        | False           | Block 9         | Eval\n",
      "- backbone.blocks.9.norm1.bias                       | cpu        | False           | Block 9         | Eval\n",
      "- backbone.blocks.9.attn.qkv.weight                  | cpu        | False           | Block 9         | Eval\n",
      "- backbone.blocks.9.attn.qkv.bias                    | cpu        | False           | Block 9         | Eval\n",
      "- backbone.blocks.9.attn.proj.weight                 | cpu        | False           | Block 9         | Eval\n",
      "- backbone.blocks.9.attn.proj.bias                   | cpu        | False           | Block 9         | Eval\n",
      "- backbone.blocks.9.norm2.weight                     | cpu        | False           | Block 9         | Eval\n",
      "- backbone.blocks.9.norm2.bias                       | cpu        | False           | Block 9         | Eval\n",
      "- backbone.blocks.9.mlp.fc1.weight                   | cpu        | False           | Block 9         | Eval\n",
      "- backbone.blocks.9.mlp.fc1.bias                     | cpu        | False           | Block 9         | Eval\n",
      "- backbone.blocks.9.mlp.fc2.weight                   | cpu        | False           | Block 9         | Eval\n",
      "- backbone.blocks.9.mlp.fc2.bias                     | cpu        | False           | Block 9         | Eval\n",
      "- backbone.blocks.10.norm1.weight                    | cpu        | False           | Block 10        | Eval\n",
      "- backbone.blocks.10.norm1.bias                      | cpu        | False           | Block 10        | Eval\n",
      "- backbone.blocks.10.attn.qkv.weight                 | cpu        | False           | Block 10        | Eval\n",
      "- backbone.blocks.10.attn.qkv.bias                   | cpu        | False           | Block 10        | Eval\n",
      "- backbone.blocks.10.attn.proj.weight                | cpu        | False           | Block 10        | Eval\n",
      "- backbone.blocks.10.attn.proj.bias                  | cpu        | False           | Block 10        | Eval\n",
      "- backbone.blocks.10.norm2.weight                    | cpu        | False           | Block 10        | Eval\n",
      "- backbone.blocks.10.norm2.bias                      | cpu        | False           | Block 10        | Eval\n",
      "- backbone.blocks.10.mlp.fc1.weight                  | cpu        | False           | Block 10        | Eval\n",
      "- backbone.blocks.10.mlp.fc1.bias                    | cpu        | False           | Block 10        | Eval\n",
      "- backbone.blocks.10.mlp.fc2.weight                  | cpu        | False           | Block 10        | Eval\n",
      "- backbone.blocks.10.mlp.fc2.bias                    | cpu        | False           | Block 10        | Eval\n",
      "- backbone.blocks.11.norm1.weight                    | cpu        | False           | Block 11        | Eval\n",
      "- backbone.blocks.11.norm1.bias                      | cpu        | False           | Block 11        | Eval\n",
      "- backbone.blocks.11.attn.qkv.weight                 | cpu        | False           | Block 11        | Eval\n",
      "- backbone.blocks.11.attn.qkv.bias                   | cpu        | False           | Block 11        | Eval\n",
      "- backbone.blocks.11.attn.proj.weight                | cpu        | False           | Block 11        | Eval\n",
      "- backbone.blocks.11.attn.proj.bias                  | cpu        | False           | Block 11        | Eval\n",
      "- backbone.blocks.11.norm2.weight                    | cpu        | False           | Block 11        | Eval\n",
      "- backbone.blocks.11.norm2.bias                      | cpu        | False           | Block 11        | Eval\n",
      "- backbone.blocks.11.mlp.fc1.weight                  | cpu        | False           | Block 11        | Eval\n",
      "- backbone.blocks.11.mlp.fc1.bias                    | cpu        | False           | Block 11        | Eval\n",
      "- backbone.blocks.11.mlp.fc2.weight                  | cpu        | False           | Block 11        | Eval\n",
      "- backbone.blocks.11.mlp.fc2.bias                    | cpu        | False           | Block 11        | Eval\n",
      "- backbone.norm.weight                               | cpu        | True            | N/A             | Train\n",
      "- backbone.norm.bias                                 | cpu        | True            | N/A             | Train\n",
      "- head.weight                                        | cpu        | True            | N/A             | Train\n",
      "- head.bias                                          | cpu        | True            | N/A             | Train\n",
      "--- End Debugging Model ---\n",
      "\n"
     ]
    }
   ],
   "source": [
    "o_model = models.LinearFlexibleDino()     # original model\n",
    "o_model.freeze(12)\n",
    "o_model.to_cuda()"
   ]
  },
  {
   "cell_type": "code",
   "execution_count": null,
   "id": "342cf1fc",
   "metadata": {
    "executionInfo": {
     "elapsed": 19,
     "status": "ok",
     "timestamp": 1751214973995,
     "user": {
      "displayName": "Niccolò",
      "userId": "00690440481202077065"
     },
     "user_tz": -120
    },
    "id": "342cf1fc"
   },
   "outputs": [],
   "source": [
    "# prendo il path dello state_dict del miglio modello che ho salvato su Drive per non dover ri-trainare sempre\n",
    "checkpoint_dir = \"/content/drive/MyDrive/FL/FederatedLearningProject/checkpoints\"\n",
    "os.makedirs(checkpoint_dir, exist_ok=True)\n",
    "best_model_path = os.path.join(checkpoint_dir, \"best_model.pth\")"
   ]
  },
  {
   "cell_type": "code",
   "execution_count": null,
   "id": "88eddf46",
   "metadata": {},
   "outputs": [],
   "source": [
    "# copio il modello di base\n",
    "model = copy.deepcopy(o_model)"
   ]
  },
  {
   "cell_type": "code",
   "execution_count": null,
   "id": "796832ff",
   "metadata": {
    "colab": {
     "base_uri": "https://localhost:8080/",
     "height": 367
    },
    "executionInfo": {
     "elapsed": 277,
     "status": "error",
     "timestamp": 1751215328447,
     "user": {
      "displayName": "Niccolò",
      "userId": "00690440481202077065"
     },
     "user_tz": -120
    },
    "id": "796832ff",
    "outputId": "4795a671-96a6-401c-d1f5-9ab30fcb62ce"
   },
   "outputs": [
    {
     "ename": "FileNotFoundError",
     "evalue": "[Errno 2] No such file or directory: '/content/drive/MyDrive/FL/best_model_locale.pth'",
     "output_type": "error",
     "traceback": [
      "\u001b[0;31m---------------------------------------------------------------------------\u001b[0m",
      "\u001b[0;31mFileNotFoundError\u001b[0m                         Traceback (most recent call last)",
      "\u001b[0;32m/tmp/ipython-input-7-3111230407.py\u001b[0m in \u001b[0;36m<cell line: 0>\u001b[0;34m()\u001b[0m\n\u001b[1;32m      3\u001b[0m \u001b[0;34m\u001b[0m\u001b[0m\n\u001b[1;32m      4\u001b[0m \u001b[0;31m# aggiorno i pesi del modello con quelli trainati\u001b[0m\u001b[0;34m\u001b[0m\u001b[0;34m\u001b[0m\u001b[0m\n\u001b[0;32m----> 5\u001b[0;31m \u001b[0mmodel\u001b[0m\u001b[0;34m.\u001b[0m\u001b[0mload_state_dict\u001b[0m\u001b[0;34m(\u001b[0m\u001b[0mtorch\u001b[0m\u001b[0;34m.\u001b[0m\u001b[0mload\u001b[0m\u001b[0;34m(\u001b[0m\u001b[0mbest_model_path\u001b[0m\u001b[0;34m)\u001b[0m\u001b[0;34m)\u001b[0m\u001b[0;34m\u001b[0m\u001b[0;34m\u001b[0m\u001b[0m\n\u001b[0m\u001b[1;32m      6\u001b[0m \u001b[0;34m\u001b[0m\u001b[0m\n\u001b[1;32m      7\u001b[0m \u001b[0mmodel\u001b[0m\u001b[0;34m.\u001b[0m\u001b[0mdebug\u001b[0m\u001b[0;34m(\u001b[0m\u001b[0;34m)\u001b[0m\u001b[0;34m\u001b[0m\u001b[0;34m\u001b[0m\u001b[0m\n",
      "\u001b[0;32m/usr/local/lib/python3.11/dist-packages/torch/serialization.py\u001b[0m in \u001b[0;36mload\u001b[0;34m(f, map_location, pickle_module, weights_only, mmap, **pickle_load_args)\u001b[0m\n\u001b[1;32m   1423\u001b[0m         \u001b[0mpickle_load_args\u001b[0m\u001b[0;34m[\u001b[0m\u001b[0;34m\"encoding\"\u001b[0m\u001b[0;34m]\u001b[0m \u001b[0;34m=\u001b[0m \u001b[0;34m\"utf-8\"\u001b[0m\u001b[0;34m\u001b[0m\u001b[0;34m\u001b[0m\u001b[0m\n\u001b[1;32m   1424\u001b[0m \u001b[0;34m\u001b[0m\u001b[0m\n\u001b[0;32m-> 1425\u001b[0;31m     \u001b[0;32mwith\u001b[0m \u001b[0m_open_file_like\u001b[0m\u001b[0;34m(\u001b[0m\u001b[0mf\u001b[0m\u001b[0;34m,\u001b[0m \u001b[0;34m\"rb\"\u001b[0m\u001b[0;34m)\u001b[0m \u001b[0;32mas\u001b[0m \u001b[0mopened_file\u001b[0m\u001b[0;34m:\u001b[0m\u001b[0;34m\u001b[0m\u001b[0;34m\u001b[0m\u001b[0m\n\u001b[0m\u001b[1;32m   1426\u001b[0m         \u001b[0;32mif\u001b[0m \u001b[0m_is_zipfile\u001b[0m\u001b[0;34m(\u001b[0m\u001b[0mopened_file\u001b[0m\u001b[0;34m)\u001b[0m\u001b[0;34m:\u001b[0m\u001b[0;34m\u001b[0m\u001b[0;34m\u001b[0m\u001b[0m\n\u001b[1;32m   1427\u001b[0m             \u001b[0;31m# The zipfile reader is going to advance the current file position.\u001b[0m\u001b[0;34m\u001b[0m\u001b[0;34m\u001b[0m\u001b[0m\n",
      "\u001b[0;32m/usr/local/lib/python3.11/dist-packages/torch/serialization.py\u001b[0m in \u001b[0;36m_open_file_like\u001b[0;34m(name_or_buffer, mode)\u001b[0m\n\u001b[1;32m    749\u001b[0m \u001b[0;32mdef\u001b[0m \u001b[0m_open_file_like\u001b[0m\u001b[0;34m(\u001b[0m\u001b[0mname_or_buffer\u001b[0m\u001b[0;34m,\u001b[0m \u001b[0mmode\u001b[0m\u001b[0;34m)\u001b[0m\u001b[0;34m:\u001b[0m\u001b[0;34m\u001b[0m\u001b[0;34m\u001b[0m\u001b[0m\n\u001b[1;32m    750\u001b[0m     \u001b[0;32mif\u001b[0m \u001b[0m_is_path\u001b[0m\u001b[0;34m(\u001b[0m\u001b[0mname_or_buffer\u001b[0m\u001b[0;34m)\u001b[0m\u001b[0;34m:\u001b[0m\u001b[0;34m\u001b[0m\u001b[0;34m\u001b[0m\u001b[0m\n\u001b[0;32m--> 751\u001b[0;31m         \u001b[0;32mreturn\u001b[0m \u001b[0m_open_file\u001b[0m\u001b[0;34m(\u001b[0m\u001b[0mname_or_buffer\u001b[0m\u001b[0;34m,\u001b[0m \u001b[0mmode\u001b[0m\u001b[0;34m)\u001b[0m\u001b[0;34m\u001b[0m\u001b[0;34m\u001b[0m\u001b[0m\n\u001b[0m\u001b[1;32m    752\u001b[0m     \u001b[0;32melse\u001b[0m\u001b[0;34m:\u001b[0m\u001b[0;34m\u001b[0m\u001b[0;34m\u001b[0m\u001b[0m\n\u001b[1;32m    753\u001b[0m         \u001b[0;32mif\u001b[0m \u001b[0;34m\"w\"\u001b[0m \u001b[0;32min\u001b[0m \u001b[0mmode\u001b[0m\u001b[0;34m:\u001b[0m\u001b[0;34m\u001b[0m\u001b[0;34m\u001b[0m\u001b[0m\n",
      "\u001b[0;32m/usr/local/lib/python3.11/dist-packages/torch/serialization.py\u001b[0m in \u001b[0;36m__init__\u001b[0;34m(self, name, mode)\u001b[0m\n\u001b[1;32m    730\u001b[0m \u001b[0;32mclass\u001b[0m \u001b[0m_open_file\u001b[0m\u001b[0;34m(\u001b[0m\u001b[0m_opener\u001b[0m\u001b[0;34m)\u001b[0m\u001b[0;34m:\u001b[0m\u001b[0;34m\u001b[0m\u001b[0;34m\u001b[0m\u001b[0m\n\u001b[1;32m    731\u001b[0m     \u001b[0;32mdef\u001b[0m \u001b[0m__init__\u001b[0m\u001b[0;34m(\u001b[0m\u001b[0mself\u001b[0m\u001b[0;34m,\u001b[0m \u001b[0mname\u001b[0m\u001b[0;34m,\u001b[0m \u001b[0mmode\u001b[0m\u001b[0;34m)\u001b[0m\u001b[0;34m:\u001b[0m\u001b[0;34m\u001b[0m\u001b[0;34m\u001b[0m\u001b[0m\n\u001b[0;32m--> 732\u001b[0;31m         \u001b[0msuper\u001b[0m\u001b[0;34m(\u001b[0m\u001b[0;34m)\u001b[0m\u001b[0;34m.\u001b[0m\u001b[0m__init__\u001b[0m\u001b[0;34m(\u001b[0m\u001b[0mopen\u001b[0m\u001b[0;34m(\u001b[0m\u001b[0mname\u001b[0m\u001b[0;34m,\u001b[0m \u001b[0mmode\u001b[0m\u001b[0;34m)\u001b[0m\u001b[0;34m)\u001b[0m\u001b[0;34m\u001b[0m\u001b[0;34m\u001b[0m\u001b[0m\n\u001b[0m\u001b[1;32m    733\u001b[0m \u001b[0;34m\u001b[0m\u001b[0m\n\u001b[1;32m    734\u001b[0m     \u001b[0;32mdef\u001b[0m \u001b[0m__exit__\u001b[0m\u001b[0;34m(\u001b[0m\u001b[0mself\u001b[0m\u001b[0;34m,\u001b[0m \u001b[0;34m*\u001b[0m\u001b[0margs\u001b[0m\u001b[0;34m)\u001b[0m\u001b[0;34m:\u001b[0m\u001b[0;34m\u001b[0m\u001b[0;34m\u001b[0m\u001b[0m\n",
      "\u001b[0;31mFileNotFoundError\u001b[0m: [Errno 2] No such file or directory: '/content/drive/MyDrive/FL/best_model_locale.pth'"
     ]
    }
   ],
   "source": [
    "# aggiorno i pesi del modello con quelli trainati\n",
    "model.load_state_dict(torch.load(best_model_path))"
   ]
  },
  {
   "cell_type": "code",
   "execution_count": null,
   "id": "8f90bade",
   "metadata": {},
   "outputs": [],
   "source": [
    "# 1. Prima del training:\n",
    "before_weights = {name: p.data.clone().detach() for name, p in model.named_parameters()}"
   ]
  },
  {
   "cell_type": "code",
   "execution_count": null,
   "id": "4719d293",
   "metadata": {
    "executionInfo": {
     "elapsed": 2,
     "status": "aborted",
     "timestamp": 1751214974160,
     "user": {
      "displayName": "Niccolò",
      "userId": "00690440481202077065"
     },
     "user_tz": -120
    },
    "id": "4719d293"
   },
   "outputs": [],
   "source": [
    "# ..............CENTRALIZZATO..................\n",
    "# importiamo il modello migliore: best_model\n",
    "debugging = False\n",
    "# 1. Definiamo il dataloader stratificato per allenare la maschera\n",
    "stratified_loader = get_n_examples_per_class_loader(train_loader, num_classes=100, n_per_class=1) # 100 classi, un esempio per classe\n",
    "if debugging:\n",
    "  print_info_dataloader(stratified_loader)\n",
    "\n",
    "# 1.2. definiamo hyper-parametri per la maschera\n",
    "final_sparsity = 0.9    # hyperParam\n",
    "tot_rounds = 10\n",
    "soft_zero = 0.01\n",
    "num_examples = None\n",
    "\n",
    "# 2. Alleniamo la maschera su 100 esempi\n",
    "start = time.time()\n",
    "mask = compute_mask(model, stratified_loader, sparsity_target=final_sparsity, R=tot_rounds, num_examples=num_examples, soft_zero=soft_zero, device='cuda', enable_plot=0, debug=False) # num_examples=None : sfoglia tutto il dataset passato in ingresso (già ridotto)\n",
    "end = time.time()\n",
    "if debugging:\n",
    "  plot_all_layers_mask_sparsity(mask)\n",
    "  plot_qkv_weight_bias_sparsity(mask)\n",
    "  print(f\"Mask computation time: {end-start}\")\n",
    "  print(f\"Sparsity target: {final_sparsity}\")\n",
    "  print(f\"Soft Zero Value: {soft_zero}\")\n",
    "  print(f\"Rounds: {tot_rounds}\")\n",
    "  print(f\"Num_examples: {num_examples}\")\n",
    "\n",
    "# 3. Salviamo la maschera\n",
    "torch.save(mask, 'mask.pth')"
   ]
  },
  {
   "cell_type": "code",
   "execution_count": null,
   "id": "6381836d",
   "metadata": {},
   "outputs": [],
   "source": [
    "c = {\n",
    "    'epochs': {\n",
    "        'values': [20, 30, 40] }}\n",
    "\n",
    "configs = generate_configs(c)"
   ]
  },
  {
   "cell_type": "code",
   "execution_count": null,
   "id": "71533994",
   "metadata": {},
   "outputs": [],
   "source": [
    "# Percorsi dei file JSON\n",
    "completed_combinations_path = os.path.join(checkpoint_dir, \"completed_combinations2.json\")\n",
    "best_model_path_2 = os.path.join(checkpoint_dir, \"best_model_2.pth\")\n",
    "best_combination_path_2 = os.path.join(checkpoint_dir, \"best_combination_2.json\")\n",
    "\n",
    "# Carica le combinazioni completate\n",
    "if os.path.exists(completed_combinations_path):\n",
    "    with open(completed_combinations_path, \"r\") as f:\n",
    "        completed_combinations2 = json.load(f)\n",
    "    print(f\"Completed combinations: {completed_combinations2}\")\n",
    "else:\n",
    "    completed_combinations2 = []\n",
    "    print(\"No completed combinations\")\n",
    "\n",
    "# Carica la migliore combinazione salvata, se esiste\n",
    "if os.path.exists(best_combination_path_2):\n",
    "    with open(best_combination_path_2, \"r\") as f:\n",
    "        best_combination_info = json.load(f)\n",
    "        best_val_accuracy = best_combination_info.get(\"best_val_accuracy\", 0.0)\n",
    "        best_index = best_combination_info.get(\"best_index\", None)\n",
    "else:\n",
    "    best_val_accuracy = 0.0\n",
    "    best_index = None\n",
    "\n",
    "\n",
    "# Loop su tutte le configurazioni\n",
    "for i in range(len(configs)):\n",
    "    if str(i) in completed_combinations2:\n",
    "        print(f\"Skipping combination {i} (already completed)\")\n",
    "        continue\n",
    "\n",
    "    config_i = configs[i]\n",
    "\n",
    "    learning_rate = 0.01\n",
    "    weight_decay = 0.0001\n",
    "    momentum = 0.9\n",
    "    epochs = config_i[\"epochs\"]\n",
    "\n",
    "    model = copy.deepcopy(o_model)\n",
    "    model.load_state_dict(torch.load(best_model_path))\n",
    "    model.freeze(0)\n",
    "    model.train()\n",
    "\n",
    "    params_to_optimize = model.named_parameters()\n",
    "    optimizer = SparseSGDM(params_to_optimize, masks=mask, lr=learning_rate, momentum=momentum, weight_decay=weight_decay)\n",
    "    criterion = nn.CrossEntropyLoss()\n",
    "\n",
    "    model_name = \"dino_vit-s-16-edited\"\n",
    "    project_name = \"BaselineCentralized_Editing_definitiva\"\n",
    "    run_name = f\"{model_name}_run_{i}\"\n",
    "\n",
    "    wandb.init(\n",
    "        project=project_name,\n",
    "        name=run_name,\n",
    "        id=run_name,\n",
    "        config={\n",
    "            \"model\": model_name,\n",
    "            \"epochs\": epochs,\n",
    "            \"batch_size\": train_loader.batch_size,\n",
    "            \"learning_rate\": learning_rate,\n",
    "            \"weight_decay\": weight_decay,\n",
    "            \"momentum\": momentum,\n",
    "            \"architecture\": model.__class__.__name__,\n",
    "        }\n",
    "    )\n",
    "\n",
    "    config = wandb.config\n",
    "\n",
    "    checkpoint_path = os.path.join(checkpoint_dir, f\"{model_name}_run_{i}_checkpoint.pth\")\n",
    "    scheduler = CosineAnnealingLR(optimizer, T_max=epochs)\n",
    "    start_epoch, checkpoint_data = load_checkpoint(model, optimizer, scheduler, run_name)\n",
    "\n",
    "    # Esegui training e ottieni la migliore validation accuracy del run\n",
    "    val_accuracy = train_and_validate(\n",
    "        start_epoch,\n",
    "        model=model,\n",
    "        train_loader=train_loader,\n",
    "        val_loader=val_loader,\n",
    "        scheduler=scheduler,\n",
    "        optimizer=optimizer,\n",
    "        criterion=criterion,\n",
    "        device=device,\n",
    "        checkpoint_path=checkpoint_path,\n",
    "        num_epochs=epochs,\n",
    "        checkpoint_interval=5\n",
    "    )\n",
    "\n",
    "    wandb.finish()\n",
    "\n",
    "    # Salva il miglior modello se la val_accuracy è migliorata\n",
    "    if val_accuracy > best_val_accuracy:\n",
    "        best_val_accuracy = val_accuracy\n",
    "        best_index = i\n",
    "        torch.save(model.state_dict(), best_model_path_2)\n",
    "\n",
    "        # Salva anche l'indice e la val_accuracy nel file JSON\n",
    "        with open(best_combination_path_2, \"w\") as f:\n",
    "            json.dump({\"best_index\": best_index, \"best_val_accuracy\": best_val_accuracy}, f)\n",
    "\n",
    "        print(f\" Best model updated! Combination: {best_index} | Accuracy: {best_val_accuracy:.4f}\")\n",
    "    else:\n",
    "        print(f\"Best combination is {best_index} with val accuracy {best_val_accuracy:.4f}\")\n",
    "\n",
    "    # Segna il run come completato\n",
    "    completed_combinations2.append(str(i))\n",
    "    with open(completed_combinations_path, \"w\") as f:\n",
    "        json.dump(completed_combinations2, f)\n",
    "\n",
    "    print(f\" Finished combination {i}\")"
   ]
  },
  {
   "cell_type": "code",
   "execution_count": null,
   "id": "bc04eb30",
   "metadata": {},
   "outputs": [],
   "source": [
    "plot_all_layers_mask_sparsity(mask)"
   ]
  },
  {
   "cell_type": "code",
   "execution_count": null,
   "id": "746bec5b",
   "metadata": {},
   "outputs": [],
   "source": [
    "valid_split_perc = 0   # of the 50000 training data\n",
    "train_set, test_set = get_cifar100(valid_split_perc)\n",
    "\n",
    "train_loader = DataLoader(train_set, batch_size=128, shuffle=True, num_workers=2)\n",
    "test_loader = DataLoader(test_set, batch_size=128, shuffle=False, num_workers=2)"
   ]
  },
  {
   "cell_type": "code",
   "execution_count": null,
   "id": "5cd57e99",
   "metadata": {},
   "outputs": [],
   "source": [
    "checkpoint_dir = \"/content/drive/MyDrive/FL/FederatedLearningProject/checkpoints\"\n",
    "os.makedirs(checkpoint_dir, exist_ok=True)\n",
    "best_model_path = os.path.join(checkpoint_dir, \"best_model.pth\")"
   ]
  },
  {
   "cell_type": "code",
   "execution_count": null,
   "id": "7fd634b8",
   "metadata": {},
   "outputs": [],
   "source": [
    "learning_rate = 0.01\n",
    "weight_decay = 0.0001\n",
    "momentum = 0.9\n",
    "epochs = 40\n",
    "\n",
    "model = copy.deepcopy(o_model)\n",
    "model.load_state_dict(torch.load(best_model_path))\n",
    "model.freeze(0)\n",
    "model.train()\n",
    "\n",
    "params_to_optimize = model.named_parameters()\n",
    "optimizer = SparseSGDM(params_to_optimize, masks=mask, lr=learning_rate, momentum=momentum, weight_decay=weight_decay)\n",
    "criterion = nn.CrossEntropyLoss()\n",
    "\n",
    "model_name = \"dino_vit-s-16_\"\n",
    "project_name = \"BaselineCentralized_editing_Best_Model_Test\"\n",
    "run_name = f\"{model_name}_run\"\n",
    "\n",
    "wandb.init(\n",
    "    project=project_name,\n",
    "    name=run_name,\n",
    "    id=run_name,\n",
    "    config={\n",
    "        \"model\": model_name,\n",
    "        \"epochs\": epochs,\n",
    "        \"batch_size\": train_loader.batch_size,\n",
    "        \"learning_rate\": learning_rate,\n",
    "        \"weight_decay\": weight_decay,\n",
    "        \"momentum\": momentum,\n",
    "        \"architecture\": model.__class__.__name__,\n",
    "    }\n",
    ")\n",
    "\n",
    "config = wandb.config\n",
    "\n",
    "checkpoint_path = os.path.join(checkpoint_dir, f\"{model_name}_run_checkpoint_Test_Best.pth\")\n",
    "scheduler = CosineAnnealingLR(optimizer, T_max=epochs)\n",
    "\n",
    "start_epoch, checkpoint_data = load_checkpoint(model, optimizer, scheduler, run_name)\n",
    "\n",
    "test_accuracy = train_and_test(\n",
    "    start_epoch,\n",
    "    model=model,\n",
    "    train_loader=train_loader,\n",
    "    test_loader=test_loader,\n",
    "    scheduler=scheduler,\n",
    "    optimizer=optimizer,\n",
    "    criterion=criterion,\n",
    "    device=device,\n",
    "    checkpoint_path=checkpoint_path,\n",
    "    num_epochs=epochs,\n",
    "    checkpoint_interval=5\n",
    ")\n",
    "\n",
    "wandb.finish()"
   ]
  }
 ],
 "metadata": {
  "colab": {
   "provenance": []
  },
  "kernelspec": {
   "display_name": "Python 3",
   "language": "python",
   "name": "python3"
  },
  "language_info": {
   "codemirror_mode": {
    "name": "ipython",
    "version": 3
   },
   "file_extension": ".py",
   "mimetype": "text/x-python",
   "name": "python",
   "nbconvert_exporter": "python",
   "pygments_lexer": "ipython3",
   "version": "3.11.0"
  }
 },
 "nbformat": 4,
 "nbformat_minor": 5
}
